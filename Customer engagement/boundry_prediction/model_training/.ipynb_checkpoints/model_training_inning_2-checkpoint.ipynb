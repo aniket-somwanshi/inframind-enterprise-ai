{
 "cells": [
  {
   "cell_type": "markdown",
   "metadata": {
    "id": "2WKMRCuwYRaP"
   },
   "source": [
    "# Import 2nd innings dataset"
   ]
  },
  {
   "cell_type": "code",
   "execution_count": null,
   "metadata": {
    "colab": {
     "base_uri": "https://localhost:8080/"
    },
    "executionInfo": {
     "elapsed": 72343,
     "status": "ok",
     "timestamp": 1611763876087,
     "user": {
      "displayName": "aniket somwanshi",
      "photoUrl": "",
      "userId": "14453870072283828271"
     },
     "user_tz": -330
    },
    "id": "ENJnTi_UYyU-",
    "outputId": "b3d0c147-3558-40aa-be55-02f48d0e8388"
   },
   "outputs": [
    {
     "name": "stdout",
     "output_type": "stream",
     "text": [
      "Mounted at /content/drive\n"
     ]
    }
   ],
   "source": [
    "from google.colab import drive\n",
    "drive.mount('/content/drive')"
   ]
  },
  {
   "cell_type": "code",
   "execution_count": null,
   "metadata": {
    "id": "wzYCogF3YRaY"
   },
   "outputs": [],
   "source": [
    "import numpy as np\n",
    "import pandas as pd\n",
    "\n",
    "# additional imports\n",
    "from matplotlib import pyplot\n",
    "\n"
   ]
  },
  {
   "cell_type": "code",
   "execution_count": null,
   "metadata": {
    "id": "I6ee6mP1YRah"
   },
   "outputs": [],
   "source": [
    "df = pd.read_csv('/content/drive/MyDrive/Inframind/Customer engagement/original_dataset/processed_dataset_inning_2.csv')\n"
   ]
  },
  {
   "cell_type": "markdown",
   "metadata": {
    "id": "BEd_Ke3uYRai"
   },
   "source": [
    "# Preprocessing"
   ]
  },
  {
   "cell_type": "code",
   "execution_count": null,
   "metadata": {
    "colab": {
     "base_uri": "https://localhost:8080/",
     "height": 224
    },
    "executionInfo": {
     "elapsed": 75712,
     "status": "ok",
     "timestamp": 1611763879478,
     "user": {
      "displayName": "aniket somwanshi",
      "photoUrl": "",
      "userId": "14453870072283828271"
     },
     "user_tz": -330
    },
    "id": "UP3EPaaJYRax",
    "outputId": "8b75e753-0cc5-49a5-b292-7c5a454d7fd5"
   },
   "outputs": [
    {
     "data": {
      "text/html": [
       "<div>\n",
       "<style scoped>\n",
       "    .dataframe tbody tr th:only-of-type {\n",
       "        vertical-align: middle;\n",
       "    }\n",
       "\n",
       "    .dataframe tbody tr th {\n",
       "        vertical-align: top;\n",
       "    }\n",
       "\n",
       "    .dataframe thead th {\n",
       "        text-align: right;\n",
       "    }\n",
       "</style>\n",
       "<table border=\"1\" class=\"dataframe\">\n",
       "  <thead>\n",
       "    <tr style=\"text-align: right;\">\n",
       "      <th></th>\n",
       "      <th>inning</th>\n",
       "      <th>ball</th>\n",
       "      <th>wickets_so_far</th>\n",
       "      <th>balls_in_partnership</th>\n",
       "      <th>runs_so_far</th>\n",
       "      <th>run_rate_last_5_overs</th>\n",
       "      <th>balls_since_last_boundary</th>\n",
       "      <th>boundary_this_over</th>\n",
       "      <th>wicket_this_over</th>\n",
       "      <th>strike_rate</th>\n",
       "      <th>bowling_average</th>\n",
       "      <th>batting_average</th>\n",
       "      <th>bowling_strike_rate</th>\n",
       "      <th>required_run_rate</th>\n",
       "      <th>big_moment</th>\n",
       "    </tr>\n",
       "  </thead>\n",
       "  <tbody>\n",
       "    <tr>\n",
       "      <th>0</th>\n",
       "      <td>2</td>\n",
       "      <td>0.1</td>\n",
       "      <td>0</td>\n",
       "      <td>0</td>\n",
       "      <td>0</td>\n",
       "      <td>0.0</td>\n",
       "      <td>0</td>\n",
       "      <td>0</td>\n",
       "      <td>0</td>\n",
       "      <td>74.45</td>\n",
       "      <td>20.99</td>\n",
       "      <td>36.90</td>\n",
       "      <td>25.0</td>\n",
       "      <td>5.130261</td>\n",
       "      <td>0</td>\n",
       "    </tr>\n",
       "    <tr>\n",
       "      <th>1</th>\n",
       "      <td>2</td>\n",
       "      <td>0.2</td>\n",
       "      <td>0</td>\n",
       "      <td>1</td>\n",
       "      <td>0</td>\n",
       "      <td>0.0</td>\n",
       "      <td>1</td>\n",
       "      <td>0</td>\n",
       "      <td>0</td>\n",
       "      <td>74.45</td>\n",
       "      <td>20.99</td>\n",
       "      <td>36.90</td>\n",
       "      <td>25.0</td>\n",
       "      <td>5.140562</td>\n",
       "      <td>0</td>\n",
       "    </tr>\n",
       "    <tr>\n",
       "      <th>2</th>\n",
       "      <td>2</td>\n",
       "      <td>0.3</td>\n",
       "      <td>0</td>\n",
       "      <td>2</td>\n",
       "      <td>0</td>\n",
       "      <td>0.0</td>\n",
       "      <td>2</td>\n",
       "      <td>0</td>\n",
       "      <td>0</td>\n",
       "      <td>74.45</td>\n",
       "      <td>20.99</td>\n",
       "      <td>36.90</td>\n",
       "      <td>25.0</td>\n",
       "      <td>5.150905</td>\n",
       "      <td>0</td>\n",
       "    </tr>\n",
       "    <tr>\n",
       "      <th>3</th>\n",
       "      <td>2</td>\n",
       "      <td>0.4</td>\n",
       "      <td>0</td>\n",
       "      <td>3</td>\n",
       "      <td>0</td>\n",
       "      <td>0.0</td>\n",
       "      <td>3</td>\n",
       "      <td>0</td>\n",
       "      <td>0</td>\n",
       "      <td>74.45</td>\n",
       "      <td>20.99</td>\n",
       "      <td>36.90</td>\n",
       "      <td>25.0</td>\n",
       "      <td>5.161290</td>\n",
       "      <td>0</td>\n",
       "    </tr>\n",
       "    <tr>\n",
       "      <th>4</th>\n",
       "      <td>2</td>\n",
       "      <td>0.5</td>\n",
       "      <td>0</td>\n",
       "      <td>4</td>\n",
       "      <td>1</td>\n",
       "      <td>2.0</td>\n",
       "      <td>4</td>\n",
       "      <td>0</td>\n",
       "      <td>0</td>\n",
       "      <td>113.40</td>\n",
       "      <td>20.99</td>\n",
       "      <td>32.48</td>\n",
       "      <td>25.0</td>\n",
       "      <td>5.151515</td>\n",
       "      <td>0</td>\n",
       "    </tr>\n",
       "  </tbody>\n",
       "</table>\n",
       "</div>"
      ],
      "text/plain": [
       "   inning  ball  ...  required_run_rate  big_moment\n",
       "0       2   0.1  ...           5.130261           0\n",
       "1       2   0.2  ...           5.140562           0\n",
       "2       2   0.3  ...           5.150905           0\n",
       "3       2   0.4  ...           5.161290           0\n",
       "4       2   0.5  ...           5.151515           0\n",
       "\n",
       "[5 rows x 15 columns]"
      ]
     },
     "execution_count": 4,
     "metadata": {
      "tags": []
     },
     "output_type": "execute_result"
    }
   ],
   "source": [
    "df.head()"
   ]
  },
  {
   "cell_type": "code",
   "execution_count": null,
   "metadata": {
    "colab": {
     "base_uri": "https://localhost:8080/",
     "height": 224
    },
    "executionInfo": {
     "elapsed": 75701,
     "status": "ok",
     "timestamp": 1611763879479,
     "user": {
      "displayName": "aniket somwanshi",
      "photoUrl": "",
      "userId": "14453870072283828271"
     },
     "user_tz": -330
    },
    "id": "2FgJRSxYPpSA",
    "outputId": "0ece1893-a714-4edc-e089-ac177af9064d"
   },
   "outputs": [
    {
     "data": {
      "text/html": [
       "<div>\n",
       "<style scoped>\n",
       "    .dataframe tbody tr th:only-of-type {\n",
       "        vertical-align: middle;\n",
       "    }\n",
       "\n",
       "    .dataframe tbody tr th {\n",
       "        vertical-align: top;\n",
       "    }\n",
       "\n",
       "    .dataframe thead th {\n",
       "        text-align: right;\n",
       "    }\n",
       "</style>\n",
       "<table border=\"1\" class=\"dataframe\">\n",
       "  <thead>\n",
       "    <tr style=\"text-align: right;\">\n",
       "      <th></th>\n",
       "      <th>ball</th>\n",
       "      <th>wickets_so_far</th>\n",
       "      <th>balls_in_partnership</th>\n",
       "      <th>runs_so_far</th>\n",
       "      <th>run_rate_last_5_overs</th>\n",
       "      <th>balls_since_last_boundary</th>\n",
       "      <th>boundary_this_over</th>\n",
       "      <th>strike_rate</th>\n",
       "      <th>bowling_average</th>\n",
       "      <th>batting_average</th>\n",
       "      <th>bowling_strike_rate</th>\n",
       "      <th>required_run_rate</th>\n",
       "    </tr>\n",
       "  </thead>\n",
       "  <tbody>\n",
       "    <tr>\n",
       "      <th>0</th>\n",
       "      <td>0.1</td>\n",
       "      <td>0</td>\n",
       "      <td>0</td>\n",
       "      <td>0</td>\n",
       "      <td>0.0</td>\n",
       "      <td>0</td>\n",
       "      <td>0</td>\n",
       "      <td>74.45</td>\n",
       "      <td>20.99</td>\n",
       "      <td>36.90</td>\n",
       "      <td>25.0</td>\n",
       "      <td>5.130261</td>\n",
       "    </tr>\n",
       "    <tr>\n",
       "      <th>1</th>\n",
       "      <td>0.2</td>\n",
       "      <td>0</td>\n",
       "      <td>1</td>\n",
       "      <td>0</td>\n",
       "      <td>0.0</td>\n",
       "      <td>1</td>\n",
       "      <td>0</td>\n",
       "      <td>74.45</td>\n",
       "      <td>20.99</td>\n",
       "      <td>36.90</td>\n",
       "      <td>25.0</td>\n",
       "      <td>5.140562</td>\n",
       "    </tr>\n",
       "    <tr>\n",
       "      <th>2</th>\n",
       "      <td>0.3</td>\n",
       "      <td>0</td>\n",
       "      <td>2</td>\n",
       "      <td>0</td>\n",
       "      <td>0.0</td>\n",
       "      <td>2</td>\n",
       "      <td>0</td>\n",
       "      <td>74.45</td>\n",
       "      <td>20.99</td>\n",
       "      <td>36.90</td>\n",
       "      <td>25.0</td>\n",
       "      <td>5.150905</td>\n",
       "    </tr>\n",
       "    <tr>\n",
       "      <th>3</th>\n",
       "      <td>0.4</td>\n",
       "      <td>0</td>\n",
       "      <td>3</td>\n",
       "      <td>0</td>\n",
       "      <td>0.0</td>\n",
       "      <td>3</td>\n",
       "      <td>0</td>\n",
       "      <td>74.45</td>\n",
       "      <td>20.99</td>\n",
       "      <td>36.90</td>\n",
       "      <td>25.0</td>\n",
       "      <td>5.161290</td>\n",
       "    </tr>\n",
       "    <tr>\n",
       "      <th>4</th>\n",
       "      <td>0.5</td>\n",
       "      <td>0</td>\n",
       "      <td>4</td>\n",
       "      <td>1</td>\n",
       "      <td>2.0</td>\n",
       "      <td>4</td>\n",
       "      <td>0</td>\n",
       "      <td>113.40</td>\n",
       "      <td>20.99</td>\n",
       "      <td>32.48</td>\n",
       "      <td>25.0</td>\n",
       "      <td>5.151515</td>\n",
       "    </tr>\n",
       "  </tbody>\n",
       "</table>\n",
       "</div>"
      ],
      "text/plain": [
       "   ball  wickets_so_far  ...  bowling_strike_rate  required_run_rate\n",
       "0   0.1               0  ...                 25.0           5.130261\n",
       "1   0.2               0  ...                 25.0           5.140562\n",
       "2   0.3               0  ...                 25.0           5.150905\n",
       "3   0.4               0  ...                 25.0           5.161290\n",
       "4   0.5               0  ...                 25.0           5.151515\n",
       "\n",
       "[5 rows x 12 columns]"
      ]
     },
     "execution_count": 5,
     "metadata": {
      "tags": []
     },
     "output_type": "execute_result"
    }
   ],
   "source": [
    "df.drop(['inning', 'wicket_this_over','big_moment'], axis = 1, inplace = True) \n",
    "df.head()"
   ]
  },
  {
   "cell_type": "code",
   "execution_count": null,
   "metadata": {
    "id": "YqABQuh2rqcl"
   },
   "outputs": [],
   "source": [
    "df = df.dropna()"
   ]
  },
  {
   "cell_type": "code",
   "execution_count": null,
   "metadata": {
    "colab": {
     "base_uri": "https://localhost:8080/"
    },
    "executionInfo": {
     "elapsed": 75692,
     "status": "ok",
     "timestamp": 1611763879481,
     "user": {
      "displayName": "aniket somwanshi",
      "photoUrl": "",
      "userId": "14453870072283828271"
     },
     "user_tz": -330
    },
    "id": "fmbkETMETtQ6",
    "outputId": "eecc2ae2-dcf2-465d-c563-df0680621548"
   },
   "outputs": [
    {
     "data": {
      "text/plain": [
       "328658"
      ]
     },
     "execution_count": 7,
     "metadata": {
      "tags": []
     },
     "output_type": "execute_result"
    }
   ],
   "source": [
    "len(df.index)"
   ]
  },
  {
   "cell_type": "markdown",
   "metadata": {},
   "source": [
    "## Randomize the dataset rows"
   ]
  },
  {
   "cell_type": "code",
   "execution_count": null,
   "metadata": {
    "id": "PssDBIlyNybe"
   },
   "outputs": [],
   "source": [
    "df = df.sample(frac=1).reset_index(drop=True)"
   ]
  },
  {
   "cell_type": "markdown",
   "metadata": {},
   "source": [
    "## Train-test split and oversampling "
   ]
  },
  {
   "cell_type": "code",
   "execution_count": null,
   "metadata": {
    "colab": {
     "base_uri": "https://localhost:8080/"
    },
    "executionInfo": {
     "elapsed": 75688,
     "status": "ok",
     "timestamp": 1611763879482,
     "user": {
      "displayName": "aniket somwanshi",
      "photoUrl": "",
      "userId": "14453870072283828271"
     },
     "user_tz": -330
    },
    "id": "-TRSle8LYRbI",
    "outputId": "399c19e4-949f-4ecf-9e00-a5678bfba806"
   },
   "outputs": [
    {
     "name": "stderr",
     "output_type": "stream",
     "text": [
      "/usr/local/lib/python3.6/dist-packages/sklearn/externals/six.py:31: FutureWarning: The module is deprecated in version 0.21 and will be removed in version 0.23 since we've dropped support for Python 2.7. Please rely on the official version of six (https://pypi.org/project/six/).\n",
      "  \"(https://pypi.org/project/six/).\", FutureWarning)\n",
      "/usr/local/lib/python3.6/dist-packages/sklearn/utils/deprecation.py:144: FutureWarning: The sklearn.neighbors.base module is  deprecated in version 0.22 and will be removed in version 0.24. The corresponding classes / functions should instead be imported from sklearn.neighbors. Anything that cannot be imported from sklearn.neighbors is now part of the private API.\n",
      "  warnings.warn(message, FutureWarning)\n"
     ]
    }
   ],
   "source": [
    "from imblearn.over_sampling import SMOTE\n",
    "from imblearn.over_sampling import RandomOverSampler\n",
    "\n",
    "def preprocess_inputs(data):\n",
    "  num_of_rows = 231314\n",
    "  \n",
    "  y = data['boundary_this_over'].copy()\n",
    "  x = data.drop('boundary_this_over', axis=1).copy()\n",
    "  \n",
    "  y_train = y.iloc[:num_of_rows] #indexes rows for test data\n",
    "  X_train = x.iloc[:num_of_rows] #indexes rows for training data\n",
    "\n",
    "  X_test = x.iloc[num_of_rows:] #indexes rows for training data\n",
    "  y_test = y.iloc[num_of_rows:] #indexes rows for test data\n",
    "\n",
    "\n",
    "\n",
    "  # perform oversampling for minority class\n",
    "  \n",
    "  smote = RandomOverSampler( sampling_strategy=0.5)\n",
    "  X_train, y_train = smote.fit_sample(X_train, y_train)\n",
    "\n",
    "\n",
    "  return X_train, X_test, y_train, y_test"
   ]
  },
  {
   "cell_type": "code",
   "execution_count": null,
   "metadata": {
    "colab": {
     "base_uri": "https://localhost:8080/"
    },
    "executionInfo": {
     "elapsed": 75682,
     "status": "ok",
     "timestamp": 1611763879483,
     "user": {
      "displayName": "aniket somwanshi",
      "photoUrl": "",
      "userId": "14453870072283828271"
     },
     "user_tz": -330
    },
    "id": "RijXdvvPYRbL",
    "outputId": "aff8eb65-7135-4446-8d5a-afe16c29fde0"
   },
   "outputs": [
    {
     "name": "stderr",
     "output_type": "stream",
     "text": [
      "/usr/local/lib/python3.6/dist-packages/sklearn/utils/deprecation.py:87: FutureWarning: Function safe_indexing is deprecated; safe_indexing is deprecated in version 0.22 and will be removed in version 0.24.\n",
      "  warnings.warn(msg, category=FutureWarning)\n"
     ]
    }
   ],
   "source": [
    "X_train, X_test, y_train, y_test = preprocess_inputs(df)"
   ]
  },
  {
   "cell_type": "code",
   "execution_count": null,
   "metadata": {
    "colab": {
     "base_uri": "https://localhost:8080/"
    },
    "executionInfo": {
     "elapsed": 75678,
     "status": "ok",
     "timestamp": 1611763879486,
     "user": {
      "displayName": "aniket somwanshi",
      "photoUrl": "",
      "userId": "14453870072283828271"
     },
     "user_tz": -330
    },
    "id": "PnYU8AGOreUg",
    "outputId": "b180dd1e-aeda-44a0-d612-aa4d89e75222"
   },
   "outputs": [
    {
     "data": {
      "text/plain": [
       "(numpy.ndarray,\n",
       " pandas.core.frame.DataFrame,\n",
       " numpy.ndarray,\n",
       " pandas.core.series.Series)"
      ]
     },
     "execution_count": 11,
     "metadata": {
      "tags": []
     },
     "output_type": "execute_result"
    }
   ],
   "source": [
    "type(X_train), type(X_test), type(y_train) ,type(y_test)"
   ]
  },
  {
   "cell_type": "code",
   "execution_count": null,
   "metadata": {
    "id": "AYgTmXZqH94V"
   },
   "outputs": [],
   "source": [
    "# # scaling / normalization of train and test data\n",
    "# from sklearn.preprocessing import StandardScaler\n",
    "\n",
    "# scaler = StandardScaler()\n",
    "# X_train = scaler.fit_transform(X_train)\n",
    "\n",
    "# X_test = scaler.fit_transform(X_test)\n"
   ]
  },
  {
   "cell_type": "markdown",
   "metadata": {
    "id": "mSlNBdbnNswB"
   },
   "source": [
    "## Oversampling results"
   ]
  },
  {
   "cell_type": "code",
   "execution_count": null,
   "metadata": {
    "colab": {
     "base_uri": "https://localhost:8080/"
    },
    "executionInfo": {
     "elapsed": 75675,
     "status": "ok",
     "timestamp": 1611763879496,
     "user": {
      "displayName": "aniket somwanshi",
      "photoUrl": "",
      "userId": "14453870072283828271"
     },
     "user_tz": -330
    },
    "id": "1SlZvl0Y8eMG",
    "outputId": "d88499ec-7808-41e6-f692-41290ba842b8"
   },
   "outputs": [
    {
     "name": "stdout",
     "output_type": "stream",
     "text": [
      "Frequency of unique values of the said array:\n",
      "[[     0      1]\n",
      " [214820 107410]]\n"
     ]
    }
   ],
   "source": [
    "unique_elements, counts_elements = np.unique(y_train, return_counts=True)\n",
    "print(\"Frequency of unique values of the said array:\")\n",
    "print(np.asarray((unique_elements, counts_elements)))"
   ]
  },
  {
   "cell_type": "code",
   "execution_count": null,
   "metadata": {
    "colab": {
     "base_uri": "https://localhost:8080/",
     "height": 439
    },
    "executionInfo": {
     "elapsed": 76167,
     "status": "ok",
     "timestamp": 1611763879995,
     "user": {
      "displayName": "aniket somwanshi",
      "photoUrl": "",
      "userId": "14453870072283828271"
     },
     "user_tz": -330
    },
    "id": "6FOJZt-AYRbL",
    "outputId": "079878ad-fced-469d-a61e-b6ab32530617"
   },
   "outputs": [
    {
     "data": {
      "text/html": [
       "<div>\n",
       "<style scoped>\n",
       "    .dataframe tbody tr th:only-of-type {\n",
       "        vertical-align: middle;\n",
       "    }\n",
       "\n",
       "    .dataframe tbody tr th {\n",
       "        vertical-align: top;\n",
       "    }\n",
       "\n",
       "    .dataframe thead th {\n",
       "        text-align: right;\n",
       "    }\n",
       "</style>\n",
       "<table border=\"1\" class=\"dataframe\">\n",
       "  <thead>\n",
       "    <tr style=\"text-align: right;\">\n",
       "      <th></th>\n",
       "      <th>ball</th>\n",
       "      <th>wickets_so_far</th>\n",
       "      <th>balls_in_partnership</th>\n",
       "      <th>runs_so_far</th>\n",
       "      <th>run_rate_last_5_overs</th>\n",
       "      <th>balls_since_last_boundary</th>\n",
       "      <th>strike_rate</th>\n",
       "      <th>bowling_average</th>\n",
       "      <th>batting_average</th>\n",
       "      <th>bowling_strike_rate</th>\n",
       "      <th>required_run_rate</th>\n",
       "    </tr>\n",
       "  </thead>\n",
       "  <tbody>\n",
       "    <tr>\n",
       "      <th>231314</th>\n",
       "      <td>38.3</td>\n",
       "      <td>3</td>\n",
       "      <td>45</td>\n",
       "      <td>195</td>\n",
       "      <td>4.200000</td>\n",
       "      <td>2</td>\n",
       "      <td>79.51</td>\n",
       "      <td>73.50</td>\n",
       "      <td>40.48</td>\n",
       "      <td>70.0</td>\n",
       "      <td>5.470085</td>\n",
       "    </tr>\n",
       "    <tr>\n",
       "      <th>231315</th>\n",
       "      <td>23.6</td>\n",
       "      <td>5</td>\n",
       "      <td>78</td>\n",
       "      <td>71</td>\n",
       "      <td>2.800000</td>\n",
       "      <td>37</td>\n",
       "      <td>95.40</td>\n",
       "      <td>40.00</td>\n",
       "      <td>17.66</td>\n",
       "      <td>70.0</td>\n",
       "      <td>4.356061</td>\n",
       "    </tr>\n",
       "    <tr>\n",
       "      <th>231316</th>\n",
       "      <td>14.3</td>\n",
       "      <td>2</td>\n",
       "      <td>8</td>\n",
       "      <td>87</td>\n",
       "      <td>6.000000</td>\n",
       "      <td>12</td>\n",
       "      <td>80.94</td>\n",
       "      <td>30.20</td>\n",
       "      <td>35.63</td>\n",
       "      <td>34.7</td>\n",
       "      <td>5.630252</td>\n",
       "    </tr>\n",
       "    <tr>\n",
       "      <th>231317</th>\n",
       "      <td>40.1</td>\n",
       "      <td>7</td>\n",
       "      <td>2</td>\n",
       "      <td>180</td>\n",
       "      <td>6.600000</td>\n",
       "      <td>15</td>\n",
       "      <td>79.29</td>\n",
       "      <td>20.88</td>\n",
       "      <td>18.18</td>\n",
       "      <td>29.2</td>\n",
       "      <td>8.585859</td>\n",
       "    </tr>\n",
       "    <tr>\n",
       "      <th>231318</th>\n",
       "      <td>31.1</td>\n",
       "      <td>6</td>\n",
       "      <td>1</td>\n",
       "      <td>131</td>\n",
       "      <td>4.000000</td>\n",
       "      <td>21</td>\n",
       "      <td>110.38</td>\n",
       "      <td>60.64</td>\n",
       "      <td>52.00</td>\n",
       "      <td>70.0</td>\n",
       "      <td>10.529101</td>\n",
       "    </tr>\n",
       "    <tr>\n",
       "      <th>...</th>\n",
       "      <td>...</td>\n",
       "      <td>...</td>\n",
       "      <td>...</td>\n",
       "      <td>...</td>\n",
       "      <td>...</td>\n",
       "      <td>...</td>\n",
       "      <td>...</td>\n",
       "      <td>...</td>\n",
       "      <td>...</td>\n",
       "      <td>...</td>\n",
       "      <td>...</td>\n",
       "    </tr>\n",
       "    <tr>\n",
       "      <th>328653</th>\n",
       "      <td>2.6</td>\n",
       "      <td>0</td>\n",
       "      <td>19</td>\n",
       "      <td>5</td>\n",
       "      <td>1.923077</td>\n",
       "      <td>19</td>\n",
       "      <td>71.10</td>\n",
       "      <td>33.63</td>\n",
       "      <td>32.02</td>\n",
       "      <td>33.5</td>\n",
       "      <td>5.907173</td>\n",
       "    </tr>\n",
       "    <tr>\n",
       "      <th>328654</th>\n",
       "      <td>20.6</td>\n",
       "      <td>1</td>\n",
       "      <td>2</td>\n",
       "      <td>110</td>\n",
       "      <td>5.600000</td>\n",
       "      <td>23</td>\n",
       "      <td>75.29</td>\n",
       "      <td>46.92</td>\n",
       "      <td>31.24</td>\n",
       "      <td>56.1</td>\n",
       "      <td>8.299320</td>\n",
       "    </tr>\n",
       "    <tr>\n",
       "      <th>328655</th>\n",
       "      <td>14.6</td>\n",
       "      <td>1</td>\n",
       "      <td>62</td>\n",
       "      <td>54</td>\n",
       "      <td>5.000000</td>\n",
       "      <td>9</td>\n",
       "      <td>95.20</td>\n",
       "      <td>38.84</td>\n",
       "      <td>45.01</td>\n",
       "      <td>55.6</td>\n",
       "      <td>5.480226</td>\n",
       "    </tr>\n",
       "    <tr>\n",
       "      <th>328656</th>\n",
       "      <td>23.5</td>\n",
       "      <td>2</td>\n",
       "      <td>35</td>\n",
       "      <td>101</td>\n",
       "      <td>3.400000</td>\n",
       "      <td>56</td>\n",
       "      <td>79.04</td>\n",
       "      <td>62.00</td>\n",
       "      <td>47.05</td>\n",
       "      <td>70.0</td>\n",
       "      <td>4.490566</td>\n",
       "    </tr>\n",
       "    <tr>\n",
       "      <th>328657</th>\n",
       "      <td>39.5</td>\n",
       "      <td>9</td>\n",
       "      <td>1</td>\n",
       "      <td>160</td>\n",
       "      <td>4.400000</td>\n",
       "      <td>13</td>\n",
       "      <td>11.11</td>\n",
       "      <td>36.37</td>\n",
       "      <td>28.00</td>\n",
       "      <td>44.6</td>\n",
       "      <td>7.523810</td>\n",
       "    </tr>\n",
       "  </tbody>\n",
       "</table>\n",
       "<p>97344 rows × 11 columns</p>\n",
       "</div>"
      ],
      "text/plain": [
       "        ball  wickets_so_far  ...  bowling_strike_rate  required_run_rate\n",
       "231314  38.3               3  ...                 70.0           5.470085\n",
       "231315  23.6               5  ...                 70.0           4.356061\n",
       "231316  14.3               2  ...                 34.7           5.630252\n",
       "231317  40.1               7  ...                 29.2           8.585859\n",
       "231318  31.1               6  ...                 70.0          10.529101\n",
       "...      ...             ...  ...                  ...                ...\n",
       "328653   2.6               0  ...                 33.5           5.907173\n",
       "328654  20.6               1  ...                 56.1           8.299320\n",
       "328655  14.6               1  ...                 55.6           5.480226\n",
       "328656  23.5               2  ...                 70.0           4.490566\n",
       "328657  39.5               9  ...                 44.6           7.523810\n",
       "\n",
       "[97344 rows x 11 columns]"
      ]
     },
     "execution_count": 14,
     "metadata": {
      "tags": []
     },
     "output_type": "execute_result"
    }
   ],
   "source": [
    "X_test"
   ]
  },
  {
   "cell_type": "code",
   "execution_count": null,
   "metadata": {
    "colab": {
     "base_uri": "https://localhost:8080/"
    },
    "executionInfo": {
     "elapsed": 76160,
     "status": "ok",
     "timestamp": 1611763879996,
     "user": {
      "displayName": "aniket somwanshi",
      "photoUrl": "",
      "userId": "14453870072283828271"
     },
     "user_tz": -330
    },
    "id": "q4HrAMJ8YRbR",
    "outputId": "cfce4859-f628-431c-e141-fad290c30375"
   },
   "outputs": [
    {
     "data": {
      "text/plain": [
       "array([0, 0, 0, ..., 1, 1, 1])"
      ]
     },
     "execution_count": 15,
     "metadata": {
      "tags": []
     },
     "output_type": "execute_result"
    }
   ],
   "source": [
    "y_train"
   ]
  },
  {
   "cell_type": "markdown",
   "metadata": {
    "id": "T6X7K0koYRbV"
   },
   "source": [
    "# Training"
   ]
  },
  {
   "cell_type": "code",
   "execution_count": null,
   "metadata": {
    "id": "Hm9YNIZjyNpR"
   },
   "outputs": [],
   "source": [
    "from sklearn.metrics import classification_report\n",
    "from sklearn.metrics import confusion_matrix\n",
    "from sklearn.metrics import accuracy_score"
   ]
  },
  {
   "cell_type": "code",
   "execution_count": null,
   "metadata": {
    "colab": {
     "base_uri": "https://localhost:8080/"
    },
    "executionInfo": {
     "elapsed": 76153,
     "status": "ok",
     "timestamp": 1611763879998,
     "user": {
      "displayName": "aniket somwanshi",
      "photoUrl": "",
      "userId": "14453870072283828271"
     },
     "user_tz": -330
    },
    "id": "4vTephVChVk0",
    "outputId": "87f528f1-88b9-4d27-ec29-8d7d71ae8e93"
   },
   "outputs": [
    {
     "data": {
      "text/plain": [
       "False"
      ]
     },
     "execution_count": 17,
     "metadata": {
      "tags": []
     },
     "output_type": "execute_result"
    }
   ],
   "source": [
    "np.any(np.isnan(df))\n",
    "# np.isfinite(data.all()) #and gets True"
   ]
  },
  {
   "cell_type": "code",
   "execution_count": null,
   "metadata": {
    "colab": {
     "base_uri": "https://localhost:8080/"
    },
    "executionInfo": {
     "elapsed": 81735,
     "status": "ok",
     "timestamp": 1611763885587,
     "user": {
      "displayName": "aniket somwanshi",
      "photoUrl": "",
      "userId": "14453870072283828271"
     },
     "user_tz": -330
    },
    "id": "Cz8wjorTYRbV",
    "outputId": "157b395a-6f5d-433d-ae91-9a975c466fca"
   },
   "outputs": [],
   "source": [
    "# from sklearn.linear_model import LogisticRegression\n",
    "\n",
    "# logreg = LogisticRegression()\n",
    "# logreg.fit(X_train, y_train)\n",
    "# logreg_pred = logreg.predict(X_test)\n",
    "\n",
    "\n",
    "# print('Accuracy of Logistic regression classifier on test set: {:.2f}'\n",
    "#      .format(logreg.score(X_test, y_test)))\n",
    "\n",
    "# print(classification_report(y_test, logreg_pred))"
   ]
  },
  {
   "cell_type": "code",
   "execution_count": null,
   "metadata": {
    "colab": {
     "base_uri": "https://localhost:8080/"
    },
    "executionInfo": {
     "elapsed": 81728,
     "status": "ok",
     "timestamp": 1611763885587,
     "user": {
      "displayName": "aniket somwanshi",
      "photoUrl": "",
      "userId": "14453870072283828271"
     },
     "user_tz": -330
    },
    "id": "eVNwBMm42OKM",
    "outputId": "418bd1d9-ab92-4240-a867-a236dece90cc"
   },
   "outputs": [
    {
     "name": "stdout",
     "output_type": "stream",
     "text": [
      "0    90276\n",
      "1     7068\n",
      "Name: boundary_this_over, dtype: int64\n",
      "0    94306\n",
      "1     3038\n",
      "dtype: int64\n"
     ]
    }
   ],
   "source": [
    "print(y_test.value_counts())\n",
    "# print(type(logreg_pred))\n",
    "print(pd.Series(logreg_pred).value_counts())"
   ]
  },
  {
   "cell_type": "code",
   "execution_count": null,
   "metadata": {
    "colab": {
     "base_uri": "https://localhost:8080/"
    },
    "executionInfo": {
     "elapsed": 86013,
     "status": "ok",
     "timestamp": 1611763889878,
     "user": {
      "displayName": "aniket somwanshi",
      "photoUrl": "",
      "userId": "14453870072283828271"
     },
     "user_tz": -330
    },
    "id": "m1hB4qvNyMru",
    "outputId": "6c963437-c833-4be9-ee8e-0e84f601cc21"
   },
   "outputs": [],
   "source": [
    "# from sklearn.tree import DecisionTreeClassifier\n",
    "\n",
    "# clf = DecisionTreeClassifier().fit(X_train, y_train)\n",
    "\n",
    "\n",
    "# print('Accuracy of Decision Tree classifier on test set: {:.2f}'\n",
    "#      .format(clf.score(X_test, y_test)))\n",
    "\n",
    "# clf_pred = clf.predict(X_test)\n",
    "# print(classification_report(y_test, clf_pred))"
   ]
  },
  {
   "cell_type": "code",
   "execution_count": null,
   "metadata": {
    "colab": {
     "base_uri": "https://localhost:8080/"
    },
    "executionInfo": {
     "elapsed": 86007,
     "status": "ok",
     "timestamp": 1611763889879,
     "user": {
      "displayName": "aniket somwanshi",
      "photoUrl": "",
      "userId": "14453870072283828271"
     },
     "user_tz": -330
    },
    "id": "vFjNkhaj5-H0",
    "outputId": "adede3a1-8eb7-4492-f074-f6f7a47c2b41"
   },
   "outputs": [
    {
     "name": "stdout",
     "output_type": "stream",
     "text": [
      "0    90276\n",
      "1     7068\n",
      "Name: boundary_this_over, dtype: int64\n",
      "0    90701\n",
      "1     6643\n",
      "dtype: int64\n"
     ]
    }
   ],
   "source": [
    "print(y_test.value_counts())\n",
    "# print(type(logreg_pred))\n",
    "print(pd.Series(clf_pred).value_counts())"
   ]
  },
  {
   "cell_type": "code",
   "execution_count": null,
   "metadata": {
    "id": "bdowfNP5PbGc"
   },
   "outputs": [],
   "source": [
    "# feat = ['ball', 'wickets_so_far', 'last_6_balls_wickets',\n",
    "#        'balls_in_partnership', 'runs_so_far', 'run_rate_last_5_overs',\n",
    "#        'balls_since_last_boundary', 'strike_rate', 'bowling_average',\n",
    "#        'batting_average', 'bowling_strike_rate',\n",
    "#        'required_run_rate']\n",
    "# for i in range(11):\n",
    "#   print(feat[i],\" : \",clf.feature_importances_[i])\n"
   ]
  },
  {
   "cell_type": "code",
   "execution_count": null,
   "metadata": {
    "id": "i4ADvjnTCrIg"
   },
   "outputs": [],
   "source": [
    "# print(dict(zip(X_train.columns, clf.feature_importances_)))\n",
    "# print(\"\\n\")\n",
    "# # clf.feature_importances_"
   ]
  },
  {
   "cell_type": "code",
   "execution_count": null,
   "metadata": {
    "colab": {
     "base_uri": "https://localhost:8080/"
    },
    "executionInfo": {
     "elapsed": 87721,
     "status": "ok",
     "timestamp": 1611763891609,
     "user": {
      "displayName": "aniket somwanshi",
      "photoUrl": "",
      "userId": "14453870072283828271"
     },
     "user_tz": -330
    },
    "id": "EFwvEGfIB6ap",
    "outputId": "e6e11cde-0998-4860-aa77-2757e2be3070"
   },
   "outputs": [],
   "source": [
    "# clf2 = DecisionTreeClassifier(max_depth=12).fit(X_train, y_train)\n",
    "\n",
    "# print('Accuracy of Decision Tree classifier on test set: {:.2f}'\n",
    "#      .format(clf2.score(X_test, y_test)))\n",
    "\n",
    "# clf_pred2 = (clf2.predict_proba(X_test)[:,1] >= 0.5).astype(bool) # set threshold as 0.3\n",
    "# # clf_pred2 = clf2.predict(X_test)\n",
    "# print(classification_report(y_test, clf_pred2))"
   ]
  },
  {
   "cell_type": "markdown",
   "metadata": {},
   "source": [
    "## Final model training "
   ]
  },
  {
   "cell_type": "code",
   "execution_count": null,
   "metadata": {
    "colab": {
     "base_uri": "https://localhost:8080/"
    },
    "executionInfo": {
     "elapsed": 257700,
     "status": "ok",
     "timestamp": 1611764061596,
     "user": {
      "displayName": "aniket somwanshi",
      "photoUrl": "",
      "userId": "14453870072283828271"
     },
     "user_tz": -330
    },
    "id": "h-UDc3KdOwDf",
    "outputId": "21e38aa4-c2f8-43c8-ed71-4278bc596672"
   },
   "outputs": [],
   "source": [
    "from sklearn.ensemble import RandomForestClassifier\n",
    "\n",
    "rf = RandomForestClassifier(n_estimators=200, max_depth=32, random_state=0)\n",
    "rf.fit(X_train, y_train)\n",
    "\n",
    "print('Accuracy of Random forest classifier on test set: {:.2f}'\n",
    "     .format(rf.score(X_test, y_test)))\n",
    "\n",
    "# rf_pred = rf.predict(X_test)\n",
    "rf_pred = (rf.predict_proba(X_test)[:,1] >= 0.6).astype(bool) # set threshold as 0.3\n",
    "print(classification_report(y_test, rf_pred))"
   ]
  },
  {
   "cell_type": "markdown",
   "metadata": {},
   "source": [
    "## Export model"
   ]
  },
  {
   "cell_type": "code",
   "execution_count": null,
   "metadata": {
    "id": "wYY4dr_CEMSA"
   },
   "outputs": [],
   "source": [
    "# save the best model ie random forest\n",
    "import pickle\n",
    "pkl_filename = '/content/drive/MyDrive/Inframind/Customer engagement/boundry_prediction/model_training/boundary_2_model.pkl'\n",
    "with open(pkl_filename, 'wb') as file:\n",
    "    pickle.dump(rf, file)\n"
   ]
  },
  {
   "cell_type": "code",
   "execution_count": null,
   "metadata": {
    "id": "WaSLlYBIgxuI"
   },
   "outputs": [],
   "source": [
    "# feat = ['ball', 'wickets_so_far', 'last_6_balls_wickets',\n",
    "#        'balls_in_partnership', 'runs_so_far', 'run_rate_last_5_overs',\n",
    "#        'balls_since_last_boundary', 'strike_rate', 'bowling_average',\n",
    "#        'batting_average', 'bowling_strike_rate',\n",
    "#        'required_run_rate']\n",
    "# for i in range(11):\n",
    "#   print(feat[i],\" : \", rf.feature_importances_[i])\n"
   ]
  },
  {
   "cell_type": "code",
   "execution_count": null,
   "metadata": {
    "colab": {
     "base_uri": "https://localhost:8080/",
     "height": 35
    },
    "executionInfo": {
     "elapsed": 275580,
     "status": "ok",
     "timestamp": 1611764079492,
     "user": {
      "displayName": "aniket somwanshi",
      "photoUrl": "",
      "userId": "14453870072283828271"
     },
     "user_tz": -330
    },
    "id": "KYbjW1CO6WJH",
    "outputId": "c8a2188b-0900-4030-d0e8-602f5e745f7d"
   },
   "outputs": [
    {
     "data": {
      "application/vnd.google.colaboratory.intrinsic+json": {
       "type": "string"
      },
      "text/plain": [
       "'/device:GPU:0'"
      ]
     },
     "execution_count": 28,
     "metadata": {
      "tags": []
     },
     "output_type": "execute_result"
    }
   ],
   "source": [
    "import tensorflow as tf\n",
    "tf.test.gpu_device_name()"
   ]
  },
  {
   "cell_type": "code",
   "execution_count": null,
   "metadata": {
    "id": "5xaxU4wzvx_o"
   },
   "outputs": [],
   "source": [
    "# from sklearn import svm\n",
    "# svm_model = svm.SVC(kernel='linear')\n",
    "# svm_model.fit(X_train, y_train)\n",
    "\n",
    "\n",
    "# print('Accuracy of SVM classifier on test set: {:.2f}'\n",
    "#      .format(svm_model.score(X_test, y_test)))\n",
    "\n",
    "# svm_pred = svm_model.predict(X_test)\n",
    "# print(classification_report(y_test, svm_pred))\n"
   ]
  },
  {
   "cell_type": "code",
   "execution_count": null,
   "metadata": {
    "id": "iIqr3CV5IqYf"
   },
   "outputs": [],
   "source": [
    "# # nn \n",
    "# from keras.models import Sequential\n",
    "# from keras.layers import Dense\n",
    "\n",
    "# model = Sequential()\n",
    "\n",
    "# model.add(Dense(8, activation='relu', input_shape=(15,)))\n",
    "\n",
    "# model.add(Dense(8, activation='relu'))\n",
    "\n",
    "# model.add(Dense(1, activation='sigmoid'))\n",
    "\n",
    "# model.compile(loss='binary_crossentropy',\n",
    "#               optimizer='sgd',\n",
    "#               metrics=['accuracy'])\n",
    "                   \n",
    "# model.fit(X_train, y_train,epochs=4, batch_size=1, verbose=1)\n",
    "# nn_pred = model.predict(X_test)\n",
    "# print(classification_report(y_test, nn_pred))"
   ]
  },
  {
   "cell_type": "code",
   "execution_count": null,
   "metadata": {
    "id": "0NP-b1chE8SU"
   },
   "outputs": [],
   "source": [
    "# from sklearn.neighbors import KNeighborsClassifier\n",
    "\n",
    "# knn = KNeighborsClassifier()\n",
    "# knn.fit(X_train, y_train)\n",
    "\n",
    "# print('Accuracy of K-NN classifier on test set: {:.2f}'\n",
    "#      .format(knn.score(X_test, y_test)))\n",
    "\n",
    "# knn_pred = knn.predict(X_test)\n",
    "# print(classification_report(y_test, knn_pred))"
   ]
  },
  {
   "cell_type": "code",
   "execution_count": null,
   "metadata": {
    "id": "IBohOANGFI-H"
   },
   "outputs": [],
   "source": [
    "# from sklearn.discriminant_analysis import LinearDiscriminantAnalysis\n",
    "\n",
    "# lda = LinearDiscriminantAnalysis()\n",
    "# lda.fit(X_train, y_train)\n",
    "\n",
    "# print('Accuracy of LDA classifier on test set: {:.2f}'\n",
    "#      .format(lda.score(X_test, y_test)))\n",
    "\n",
    "# lda_pred = lda.predict(X_test)\n",
    "# print(classification_report(y_test, lda_pred))"
   ]
  },
  {
   "cell_type": "code",
   "execution_count": null,
   "metadata": {
    "id": "F6UVVwqwFSr5"
   },
   "outputs": [],
   "source": [
    "# from sklearn.naive_bayes import GaussianNB\n",
    "\n",
    "# gnb = GaussianNB()\n",
    "# gnb.fit(X_train, y_train)\n",
    "\n",
    "# print('Accuracy of GNB classifier on test set: {:.2f}'\n",
    "#      .format(gnb.score(X_test, y_test)))\n",
    "\n",
    "# gnb_pred = gnb.predict(X_test)\n",
    "# print(classification_report(y_test, gnb_pred))"
   ]
  }
 ],
 "metadata": {
  "accelerator": "GPU",
  "colab": {
   "collapsed_sections": [],
   "name": "model_training_inning_2.ipynb",
   "provenance": [],
   "toc_visible": true
  },
  "kernelspec": {
   "display_name": "Python 3",
   "language": "python",
   "name": "python3"
  },
  "language_info": {
   "codemirror_mode": {
    "name": "ipython",
    "version": 3
   },
   "file_extension": ".py",
   "mimetype": "text/x-python",
   "name": "python",
   "nbconvert_exporter": "python",
   "pygments_lexer": "ipython3",
   "version": "3.8.5"
  },
  "papermill": {
   "duration": 18.677598,
   "end_time": "2020-12-26T04:33:06.638327",
   "environment_variables": {},
   "exception": null,
   "input_path": "__notebook__.ipynb",
   "output_path": "__notebook__.ipynb",
   "parameters": {},
   "start_time": "2020-12-26T04:32:47.960729",
   "version": "2.1.0"
  }
 },
 "nbformat": 4,
 "nbformat_minor": 1
}

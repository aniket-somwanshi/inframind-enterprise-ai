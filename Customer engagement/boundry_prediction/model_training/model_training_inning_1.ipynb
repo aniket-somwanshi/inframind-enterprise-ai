{
 "cells": [
  {
   "cell_type": "markdown",
   "metadata": {
    "id": "2WKMRCuwYRaP"
   },
   "source": [
    "# Import 1st innings dataset"
   ]
  },
  {
   "cell_type": "code",
   "execution_count": 83,
   "metadata": {
    "colab": {
     "base_uri": "https://localhost:8080/"
    },
    "executionInfo": {
     "elapsed": 1297,
     "status": "ok",
     "timestamp": 1611760668079,
     "user": {
      "displayName": "aniket somwanshi",
      "photoUrl": "",
      "userId": "14453870072283828271"
     },
     "user_tz": -330
    },
    "id": "ENJnTi_UYyU-",
    "outputId": "78d362e8-788f-4141-f76c-cfd484980be0"
   },
   "outputs": [
    {
     "name": "stdout",
     "output_type": "stream",
     "text": [
      "Drive already mounted at /content/drive; to attempt to forcibly remount, call drive.mount(\"/content/drive\", force_remount=True).\n"
     ]
    }
   ],
   "source": [
    "from google.colab import drive \n",
    "drive.mount('/content/drive')"
   ]
  },
  {
   "cell_type": "code",
   "execution_count": 84,
   "metadata": {
    "executionInfo": {
     "elapsed": 2396,
     "status": "ok",
     "timestamp": 1611760669187,
     "user": {
      "displayName": "aniket somwanshi",
      "photoUrl": "",
      "userId": "14453870072283828271"
     },
     "user_tz": -330
    },
    "id": "wzYCogF3YRaY"
   },
   "outputs": [],
   "source": [
    "import numpy as np\n",
    "import pandas as pd\n",
    "\n",
    "# additional imports\n",
    "from matplotlib import pyplot"
   ]
  },
  {
   "cell_type": "code",
   "execution_count": 85,
   "metadata": {
    "executionInfo": {
     "elapsed": 2394,
     "status": "ok",
     "timestamp": 1611760669192,
     "user": {
      "displayName": "aniket somwanshi",
      "photoUrl": "",
      "userId": "14453870072283828271"
     },
     "user_tz": -330
    },
    "id": "I6ee6mP1YRah"
   },
   "outputs": [],
   "source": [
    "df = pd.read_csv('/content/drive/MyDrive/Inframind/Customer engagement/original_dataset/processed_dataset_inning_1.csv')\n"
   ]
  },
  {
   "cell_type": "code",
   "execution_count": 86,
   "metadata": {
    "colab": {
     "base_uri": "https://localhost:8080/"
    },
    "executionInfo": {
     "elapsed": 2386,
     "status": "ok",
     "timestamp": 1611760669193,
     "user": {
      "displayName": "aniket somwanshi",
      "photoUrl": "",
      "userId": "14453870072283828271"
     },
     "user_tz": -330
    },
    "id": "QZyiwX6nXz7U",
    "outputId": "5d018f1d-24f8-4e67-bbc7-c4130115aa69"
   },
   "outputs": [
    {
     "name": "stdout",
     "output_type": "stream",
     "text": [
      "Drive already mounted at /content/drive; to attempt to forcibly remount, call drive.mount(\"/content/drive\", force_remount=True).\n"
     ]
    }
   ],
   "source": [
    "from google.colab import drive\n",
    "drive.mount('/content/drive')"
   ]
  },
  {
   "cell_type": "markdown",
   "metadata": {
    "id": "BEd_Ke3uYRai"
   },
   "source": [
    "# Preprocessing"
   ]
  },
  {
   "cell_type": "code",
   "execution_count": 87,
   "metadata": {
    "colab": {
     "base_uri": "https://localhost:8080/",
     "height": 224
    },
    "executionInfo": {
     "elapsed": 2379,
     "status": "ok",
     "timestamp": 1611760669194,
     "user": {
      "displayName": "aniket somwanshi",
      "photoUrl": "",
      "userId": "14453870072283828271"
     },
     "user_tz": -330
    },
    "id": "UP3EPaaJYRax",
    "outputId": "84b522d1-bda2-4465-92c2-96d0df47de82"
   },
   "outputs": [
    {
     "data": {
      "text/html": [
       "<div>\n",
       "<style scoped>\n",
       "    .dataframe tbody tr th:only-of-type {\n",
       "        vertical-align: middle;\n",
       "    }\n",
       "\n",
       "    .dataframe tbody tr th {\n",
       "        vertical-align: top;\n",
       "    }\n",
       "\n",
       "    .dataframe thead th {\n",
       "        text-align: right;\n",
       "    }\n",
       "</style>\n",
       "<table border=\"1\" class=\"dataframe\">\n",
       "  <thead>\n",
       "    <tr style=\"text-align: right;\">\n",
       "      <th></th>\n",
       "      <th>inning</th>\n",
       "      <th>ball</th>\n",
       "      <th>wickets_so_far</th>\n",
       "      <th>balls_in_partnership</th>\n",
       "      <th>runs_so_far</th>\n",
       "      <th>run_rate_last_5_overs</th>\n",
       "      <th>balls_since_last_boundary</th>\n",
       "      <th>boundary_this_over</th>\n",
       "      <th>wicket_this_over</th>\n",
       "      <th>strike_rate</th>\n",
       "      <th>bowling_average</th>\n",
       "      <th>batting_average</th>\n",
       "      <th>bowling_strike_rate</th>\n",
       "      <th>required_run_rate</th>\n",
       "      <th>big_moment</th>\n",
       "    </tr>\n",
       "  </thead>\n",
       "  <tbody>\n",
       "    <tr>\n",
       "      <th>0</th>\n",
       "      <td>1</td>\n",
       "      <td>0.1</td>\n",
       "      <td>0</td>\n",
       "      <td>0</td>\n",
       "      <td>0</td>\n",
       "      <td>0.0</td>\n",
       "      <td>0</td>\n",
       "      <td>0</td>\n",
       "      <td>0</td>\n",
       "      <td>95.94</td>\n",
       "      <td>29.62</td>\n",
       "      <td>45.77</td>\n",
       "      <td>37.1</td>\n",
       "      <td>0.0</td>\n",
       "      <td>0</td>\n",
       "    </tr>\n",
       "    <tr>\n",
       "      <th>1</th>\n",
       "      <td>1</td>\n",
       "      <td>0.2</td>\n",
       "      <td>0</td>\n",
       "      <td>1</td>\n",
       "      <td>0</td>\n",
       "      <td>0.0</td>\n",
       "      <td>1</td>\n",
       "      <td>0</td>\n",
       "      <td>0</td>\n",
       "      <td>95.94</td>\n",
       "      <td>29.62</td>\n",
       "      <td>45.77</td>\n",
       "      <td>37.1</td>\n",
       "      <td>0.0</td>\n",
       "      <td>0</td>\n",
       "    </tr>\n",
       "    <tr>\n",
       "      <th>2</th>\n",
       "      <td>1</td>\n",
       "      <td>0.3</td>\n",
       "      <td>0</td>\n",
       "      <td>2</td>\n",
       "      <td>0</td>\n",
       "      <td>0.0</td>\n",
       "      <td>2</td>\n",
       "      <td>0</td>\n",
       "      <td>0</td>\n",
       "      <td>95.94</td>\n",
       "      <td>29.62</td>\n",
       "      <td>45.77</td>\n",
       "      <td>37.1</td>\n",
       "      <td>0.0</td>\n",
       "      <td>0</td>\n",
       "    </tr>\n",
       "    <tr>\n",
       "      <th>3</th>\n",
       "      <td>1</td>\n",
       "      <td>0.4</td>\n",
       "      <td>0</td>\n",
       "      <td>3</td>\n",
       "      <td>0</td>\n",
       "      <td>0.0</td>\n",
       "      <td>3</td>\n",
       "      <td>0</td>\n",
       "      <td>0</td>\n",
       "      <td>95.94</td>\n",
       "      <td>29.62</td>\n",
       "      <td>45.77</td>\n",
       "      <td>37.1</td>\n",
       "      <td>0.0</td>\n",
       "      <td>0</td>\n",
       "    </tr>\n",
       "    <tr>\n",
       "      <th>4</th>\n",
       "      <td>1</td>\n",
       "      <td>0.5</td>\n",
       "      <td>0</td>\n",
       "      <td>4</td>\n",
       "      <td>0</td>\n",
       "      <td>0.0</td>\n",
       "      <td>4</td>\n",
       "      <td>0</td>\n",
       "      <td>0</td>\n",
       "      <td>95.94</td>\n",
       "      <td>29.62</td>\n",
       "      <td>45.77</td>\n",
       "      <td>37.1</td>\n",
       "      <td>0.0</td>\n",
       "      <td>0</td>\n",
       "    </tr>\n",
       "  </tbody>\n",
       "</table>\n",
       "</div>"
      ],
      "text/plain": [
       "   inning  ball  ...  required_run_rate  big_moment\n",
       "0       1   0.1  ...                0.0           0\n",
       "1       1   0.2  ...                0.0           0\n",
       "2       1   0.3  ...                0.0           0\n",
       "3       1   0.4  ...                0.0           0\n",
       "4       1   0.5  ...                0.0           0\n",
       "\n",
       "[5 rows x 15 columns]"
      ]
     },
     "execution_count": 87,
     "metadata": {
      "tags": []
     },
     "output_type": "execute_result"
    }
   ],
   "source": [
    "df.head()"
   ]
  },
  {
   "cell_type": "code",
   "execution_count": 88,
   "metadata": {
    "colab": {
     "base_uri": "https://localhost:8080/",
     "height": 224
    },
    "executionInfo": {
     "elapsed": 2371,
     "status": "ok",
     "timestamp": 1611760669197,
     "user": {
      "displayName": "aniket somwanshi",
      "photoUrl": "",
      "userId": "14453870072283828271"
     },
     "user_tz": -330
    },
    "id": "Z7DkQ6qqatD8",
    "outputId": "bc7c05f8-c5c7-4472-f425-bbfede3b57a0"
   },
   "outputs": [
    {
     "data": {
      "text/html": [
       "<div>\n",
       "<style scoped>\n",
       "    .dataframe tbody tr th:only-of-type {\n",
       "        vertical-align: middle;\n",
       "    }\n",
       "\n",
       "    .dataframe tbody tr th {\n",
       "        vertical-align: top;\n",
       "    }\n",
       "\n",
       "    .dataframe thead th {\n",
       "        text-align: right;\n",
       "    }\n",
       "</style>\n",
       "<table border=\"1\" class=\"dataframe\">\n",
       "  <thead>\n",
       "    <tr style=\"text-align: right;\">\n",
       "      <th></th>\n",
       "      <th>ball</th>\n",
       "      <th>wickets_so_far</th>\n",
       "      <th>balls_in_partnership</th>\n",
       "      <th>runs_so_far</th>\n",
       "      <th>run_rate_last_5_overs</th>\n",
       "      <th>balls_since_last_boundary</th>\n",
       "      <th>boundary_this_over</th>\n",
       "      <th>strike_rate</th>\n",
       "      <th>bowling_average</th>\n",
       "      <th>batting_average</th>\n",
       "      <th>bowling_strike_rate</th>\n",
       "    </tr>\n",
       "  </thead>\n",
       "  <tbody>\n",
       "    <tr>\n",
       "      <th>0</th>\n",
       "      <td>0.1</td>\n",
       "      <td>0</td>\n",
       "      <td>0</td>\n",
       "      <td>0</td>\n",
       "      <td>0.0</td>\n",
       "      <td>0</td>\n",
       "      <td>0</td>\n",
       "      <td>95.94</td>\n",
       "      <td>29.62</td>\n",
       "      <td>45.77</td>\n",
       "      <td>37.1</td>\n",
       "    </tr>\n",
       "    <tr>\n",
       "      <th>1</th>\n",
       "      <td>0.2</td>\n",
       "      <td>0</td>\n",
       "      <td>1</td>\n",
       "      <td>0</td>\n",
       "      <td>0.0</td>\n",
       "      <td>1</td>\n",
       "      <td>0</td>\n",
       "      <td>95.94</td>\n",
       "      <td>29.62</td>\n",
       "      <td>45.77</td>\n",
       "      <td>37.1</td>\n",
       "    </tr>\n",
       "    <tr>\n",
       "      <th>2</th>\n",
       "      <td>0.3</td>\n",
       "      <td>0</td>\n",
       "      <td>2</td>\n",
       "      <td>0</td>\n",
       "      <td>0.0</td>\n",
       "      <td>2</td>\n",
       "      <td>0</td>\n",
       "      <td>95.94</td>\n",
       "      <td>29.62</td>\n",
       "      <td>45.77</td>\n",
       "      <td>37.1</td>\n",
       "    </tr>\n",
       "    <tr>\n",
       "      <th>3</th>\n",
       "      <td>0.4</td>\n",
       "      <td>0</td>\n",
       "      <td>3</td>\n",
       "      <td>0</td>\n",
       "      <td>0.0</td>\n",
       "      <td>3</td>\n",
       "      <td>0</td>\n",
       "      <td>95.94</td>\n",
       "      <td>29.62</td>\n",
       "      <td>45.77</td>\n",
       "      <td>37.1</td>\n",
       "    </tr>\n",
       "    <tr>\n",
       "      <th>4</th>\n",
       "      <td>0.5</td>\n",
       "      <td>0</td>\n",
       "      <td>4</td>\n",
       "      <td>0</td>\n",
       "      <td>0.0</td>\n",
       "      <td>4</td>\n",
       "      <td>0</td>\n",
       "      <td>95.94</td>\n",
       "      <td>29.62</td>\n",
       "      <td>45.77</td>\n",
       "      <td>37.1</td>\n",
       "    </tr>\n",
       "  </tbody>\n",
       "</table>\n",
       "</div>"
      ],
      "text/plain": [
       "   ball  wickets_so_far  ...  batting_average  bowling_strike_rate\n",
       "0   0.1               0  ...            45.77                 37.1\n",
       "1   0.2               0  ...            45.77                 37.1\n",
       "2   0.3               0  ...            45.77                 37.1\n",
       "3   0.4               0  ...            45.77                 37.1\n",
       "4   0.5               0  ...            45.77                 37.1\n",
       "\n",
       "[5 rows x 11 columns]"
      ]
     },
     "execution_count": 88,
     "metadata": {
      "tags": []
     },
     "output_type": "execute_result"
    }
   ],
   "source": [
    "df.drop(['inning', 'required_run_rate','wicket_this_over','big_moment'], axis = 1, inplace = True) \n",
    "df.head()"
   ]
  },
  {
   "cell_type": "code",
   "execution_count": 89,
   "metadata": {
    "executionInfo": {
     "elapsed": 2364,
     "status": "ok",
     "timestamp": 1611760669199,
     "user": {
      "displayName": "aniket somwanshi",
      "photoUrl": "",
      "userId": "14453870072283828271"
     },
     "user_tz": -330
    },
    "id": "YqABQuh2rqcl"
   },
   "outputs": [],
   "source": [
    "df = df.dropna()"
   ]
  },
  {
   "cell_type": "code",
   "execution_count": 90,
   "metadata": {
    "colab": {
     "base_uri": "https://localhost:8080/"
    },
    "executionInfo": {
     "elapsed": 2358,
     "status": "ok",
     "timestamp": 1611760669199,
     "user": {
      "displayName": "aniket somwanshi",
      "photoUrl": "",
      "userId": "14453870072283828271"
     },
     "user_tz": -330
    },
    "id": "fmbkETMETtQ6",
    "outputId": "45803866-0e0f-4d3b-fa9c-68f10ca1d227"
   },
   "outputs": [
    {
     "data": {
      "text/plain": [
       "386056"
      ]
     },
     "execution_count": 90,
     "metadata": {
      "tags": []
     },
     "output_type": "execute_result"
    }
   ],
   "source": [
    "len(df.index)"
   ]
  },
  {
   "cell_type": "markdown",
   "metadata": {},
   "source": [
    "## Randomize the dataset rows"
   ]
  },
  {
   "cell_type": "code",
   "execution_count": 91,
   "metadata": {
    "executionInfo": {
     "elapsed": 2352,
     "status": "ok",
     "timestamp": 1611760669200,
     "user": {
      "displayName": "aniket somwanshi",
      "photoUrl": "",
      "userId": "14453870072283828271"
     },
     "user_tz": -330
    },
    "id": "PssDBIlyNybe"
   },
   "outputs": [],
   "source": [
    "df = df.sample(frac=1).reset_index(drop=True)"
   ]
  },
  {
   "cell_type": "markdown",
   "metadata": {},
   "source": [
    "## Train-test split and oversampling "
   ]
  },
  {
   "cell_type": "code",
   "execution_count": 92,
   "metadata": {
    "executionInfo": {
     "elapsed": 2349,
     "status": "ok",
     "timestamp": 1611760669201,
     "user": {
      "displayName": "aniket somwanshi",
      "photoUrl": "",
      "userId": "14453870072283828271"
     },
     "user_tz": -330
    },
    "id": "-TRSle8LYRbI"
   },
   "outputs": [],
   "source": [
    "from imblearn.over_sampling import SMOTE\n",
    "from imblearn.over_sampling import RandomOverSampler\n",
    "\n",
    "def preprocess_inputs(data):\n",
    "  num_of_rows = 231314\n",
    "  \n",
    "  y = data['boundary_this_over'].copy()\n",
    "  x = data.drop('boundary_this_over', axis=1).copy()\n",
    "  \n",
    "  y_train = y.iloc[:num_of_rows] #indexes rows for test data\n",
    "  X_train = x.iloc[:num_of_rows] #indexes rows for training data\n",
    "\n",
    "  X_test = x.iloc[num_of_rows:] #indexes rows for training data\n",
    "  y_test = y.iloc[num_of_rows:] #indexes rows for test data\n",
    "\n",
    "  # perform oversampling for minority class\n",
    "  \n",
    "  smote = RandomOverSampler( sampling_strategy=0.5)\n",
    "  X_train, y_train = smote.fit_sample(X_train, y_train)\n",
    "\n",
    "\n",
    "  return X_train, X_test, y_train, y_test"
   ]
  },
  {
   "cell_type": "code",
   "execution_count": 93,
   "metadata": {
    "colab": {
     "base_uri": "https://localhost:8080/"
    },
    "executionInfo": {
     "elapsed": 3101,
     "status": "ok",
     "timestamp": 1611760669958,
     "user": {
      "displayName": "aniket somwanshi",
      "photoUrl": "",
      "userId": "14453870072283828271"
     },
     "user_tz": -330
    },
    "id": "RijXdvvPYRbL",
    "outputId": "af19f601-d68b-476c-e94b-9044ab06b556"
   },
   "outputs": [
    {
     "name": "stderr",
     "output_type": "stream",
     "text": [
      "/usr/local/lib/python3.6/dist-packages/sklearn/utils/deprecation.py:87: FutureWarning: Function safe_indexing is deprecated; safe_indexing is deprecated in version 0.22 and will be removed in version 0.24.\n",
      "  warnings.warn(msg, category=FutureWarning)\n"
     ]
    }
   ],
   "source": [
    "X_train, X_test, y_train, y_test = preprocess_inputs(df)"
   ]
  },
  {
   "cell_type": "code",
   "execution_count": 94,
   "metadata": {
    "colab": {
     "base_uri": "https://localhost:8080/"
    },
    "executionInfo": {
     "elapsed": 3095,
     "status": "ok",
     "timestamp": 1611760669959,
     "user": {
      "displayName": "aniket somwanshi",
      "photoUrl": "",
      "userId": "14453870072283828271"
     },
     "user_tz": -330
    },
    "id": "PnYU8AGOreUg",
    "outputId": "60aa2b39-02ef-4931-84ea-9439f99c3d85"
   },
   "outputs": [
    {
     "data": {
      "text/plain": [
       "(numpy.ndarray,\n",
       " pandas.core.frame.DataFrame,\n",
       " numpy.ndarray,\n",
       " pandas.core.series.Series)"
      ]
     },
     "execution_count": 94,
     "metadata": {
      "tags": []
     },
     "output_type": "execute_result"
    }
   ],
   "source": [
    "type(X_train), type(X_test), type(y_train) ,type(y_test)"
   ]
  },
  {
   "cell_type": "code",
   "execution_count": 95,
   "metadata": {
    "executionInfo": {
     "elapsed": 3090,
     "status": "ok",
     "timestamp": 1611760669960,
     "user": {
      "displayName": "aniket somwanshi",
      "photoUrl": "",
      "userId": "14453870072283828271"
     },
     "user_tz": -330
    },
    "id": "AYgTmXZqH94V"
   },
   "outputs": [],
   "source": [
    "# # scaling / normalization of train and test data\n",
    "# from sklearn.preprocessing import StandardScaler\n",
    "\n",
    "# scaler = StandardScaler()\n",
    "# X_train = scaler.fit_transform(X_train)\n",
    "\n",
    "# X_test = scaler.fit_transform(X_test)\n"
   ]
  },
  {
   "cell_type": "markdown",
   "metadata": {
    "executionInfo": {
     "elapsed": 3085,
     "status": "ok",
     "timestamp": 1611760669960,
     "user": {
      "displayName": "aniket somwanshi",
      "photoUrl": "",
      "userId": "14453870072283828271"
     },
     "user_tz": -330
    },
    "id": "mSlNBdbnNswB"
   },
   "source": [
    "## Oversampling results"
   ]
  },
  {
   "cell_type": "code",
   "execution_count": 96,
   "metadata": {
    "colab": {
     "base_uri": "https://localhost:8080/"
    },
    "executionInfo": {
     "elapsed": 3080,
     "status": "ok",
     "timestamp": 1611760669961,
     "user": {
      "displayName": "aniket somwanshi",
      "photoUrl": "",
      "userId": "14453870072283828271"
     },
     "user_tz": -330
    },
    "id": "1SlZvl0Y8eMG",
    "outputId": "ef675376-e289-44b5-f025-664a1c91c4fc"
   },
   "outputs": [
    {
     "name": "stdout",
     "output_type": "stream",
     "text": [
      "Frequency of unique values of the said array:\n",
      "[[     0      1]\n",
      " [214719 107359]]\n"
     ]
    }
   ],
   "source": [
    "unique_elements, counts_elements = np.unique(y_train, return_counts=True)\n",
    "print(\"Frequency of unique values of the said array:\")\n",
    "print(np.asarray((unique_elements, counts_elements)))\n"
   ]
  },
  {
   "cell_type": "code",
   "execution_count": 97,
   "metadata": {
    "colab": {
     "base_uri": "https://localhost:8080/",
     "height": 439
    },
    "executionInfo": {
     "elapsed": 3068,
     "status": "ok",
     "timestamp": 1611760669961,
     "user": {
      "displayName": "aniket somwanshi",
      "photoUrl": "",
      "userId": "14453870072283828271"
     },
     "user_tz": -330
    },
    "id": "6FOJZt-AYRbL",
    "outputId": "34719ee8-98c3-4654-ad07-3aa41d747b8d"
   },
   "outputs": [
    {
     "data": {
      "text/html": [
       "<div>\n",
       "<style scoped>\n",
       "    .dataframe tbody tr th:only-of-type {\n",
       "        vertical-align: middle;\n",
       "    }\n",
       "\n",
       "    .dataframe tbody tr th {\n",
       "        vertical-align: top;\n",
       "    }\n",
       "\n",
       "    .dataframe thead th {\n",
       "        text-align: right;\n",
       "    }\n",
       "</style>\n",
       "<table border=\"1\" class=\"dataframe\">\n",
       "  <thead>\n",
       "    <tr style=\"text-align: right;\">\n",
       "      <th></th>\n",
       "      <th>ball</th>\n",
       "      <th>wickets_so_far</th>\n",
       "      <th>balls_in_partnership</th>\n",
       "      <th>runs_so_far</th>\n",
       "      <th>run_rate_last_5_overs</th>\n",
       "      <th>balls_since_last_boundary</th>\n",
       "      <th>strike_rate</th>\n",
       "      <th>bowling_average</th>\n",
       "      <th>batting_average</th>\n",
       "      <th>bowling_strike_rate</th>\n",
       "    </tr>\n",
       "  </thead>\n",
       "  <tbody>\n",
       "    <tr>\n",
       "      <th>231314</th>\n",
       "      <td>40.3</td>\n",
       "      <td>4</td>\n",
       "      <td>90</td>\n",
       "      <td>200</td>\n",
       "      <td>6.400000</td>\n",
       "      <td>9</td>\n",
       "      <td>86.04</td>\n",
       "      <td>33.97</td>\n",
       "      <td>34.34</td>\n",
       "      <td>44.2</td>\n",
       "    </tr>\n",
       "    <tr>\n",
       "      <th>231315</th>\n",
       "      <td>27.6</td>\n",
       "      <td>3</td>\n",
       "      <td>6</td>\n",
       "      <td>102</td>\n",
       "      <td>2.800000</td>\n",
       "      <td>11</td>\n",
       "      <td>80.15</td>\n",
       "      <td>33.13</td>\n",
       "      <td>14.00</td>\n",
       "      <td>42.1</td>\n",
       "    </tr>\n",
       "    <tr>\n",
       "      <th>231316</th>\n",
       "      <td>26.4</td>\n",
       "      <td>3</td>\n",
       "      <td>15</td>\n",
       "      <td>110</td>\n",
       "      <td>3.200000</td>\n",
       "      <td>16</td>\n",
       "      <td>92.44</td>\n",
       "      <td>36.88</td>\n",
       "      <td>39.75</td>\n",
       "      <td>47.2</td>\n",
       "    </tr>\n",
       "    <tr>\n",
       "      <th>231317</th>\n",
       "      <td>22.1</td>\n",
       "      <td>3</td>\n",
       "      <td>42</td>\n",
       "      <td>51</td>\n",
       "      <td>2.200000</td>\n",
       "      <td>21</td>\n",
       "      <td>71.24</td>\n",
       "      <td>29.29</td>\n",
       "      <td>39.16</td>\n",
       "      <td>38.4</td>\n",
       "    </tr>\n",
       "    <tr>\n",
       "      <th>231318</th>\n",
       "      <td>28.5</td>\n",
       "      <td>8</td>\n",
       "      <td>15</td>\n",
       "      <td>92</td>\n",
       "      <td>3.600000</td>\n",
       "      <td>0</td>\n",
       "      <td>91.04</td>\n",
       "      <td>46.00</td>\n",
       "      <td>16.44</td>\n",
       "      <td>56.0</td>\n",
       "    </tr>\n",
       "    <tr>\n",
       "      <th>...</th>\n",
       "      <td>...</td>\n",
       "      <td>...</td>\n",
       "      <td>...</td>\n",
       "      <td>...</td>\n",
       "      <td>...</td>\n",
       "      <td>...</td>\n",
       "      <td>...</td>\n",
       "      <td>...</td>\n",
       "      <td>...</td>\n",
       "      <td>...</td>\n",
       "    </tr>\n",
       "    <tr>\n",
       "      <th>386051</th>\n",
       "      <td>22.3</td>\n",
       "      <td>1</td>\n",
       "      <td>135</td>\n",
       "      <td>132</td>\n",
       "      <td>6.200000</td>\n",
       "      <td>29</td>\n",
       "      <td>78.96</td>\n",
       "      <td>34.51</td>\n",
       "      <td>43.80</td>\n",
       "      <td>41.1</td>\n",
       "    </tr>\n",
       "    <tr>\n",
       "      <th>386052</th>\n",
       "      <td>1.3</td>\n",
       "      <td>0</td>\n",
       "      <td>9</td>\n",
       "      <td>3</td>\n",
       "      <td>2.307692</td>\n",
       "      <td>9</td>\n",
       "      <td>88.39</td>\n",
       "      <td>29.90</td>\n",
       "      <td>49.46</td>\n",
       "      <td>32.2</td>\n",
       "    </tr>\n",
       "    <tr>\n",
       "      <th>386053</th>\n",
       "      <td>23.3</td>\n",
       "      <td>2</td>\n",
       "      <td>79</td>\n",
       "      <td>95</td>\n",
       "      <td>4.400000</td>\n",
       "      <td>98</td>\n",
       "      <td>101.09</td>\n",
       "      <td>49.05</td>\n",
       "      <td>53.50</td>\n",
       "      <td>61.2</td>\n",
       "    </tr>\n",
       "    <tr>\n",
       "      <th>386054</th>\n",
       "      <td>14.4</td>\n",
       "      <td>2</td>\n",
       "      <td>11</td>\n",
       "      <td>64</td>\n",
       "      <td>2.400000</td>\n",
       "      <td>10</td>\n",
       "      <td>86.23</td>\n",
       "      <td>37.07</td>\n",
       "      <td>44.83</td>\n",
       "      <td>39.6</td>\n",
       "    </tr>\n",
       "    <tr>\n",
       "      <th>386055</th>\n",
       "      <td>20.1</td>\n",
       "      <td>1</td>\n",
       "      <td>42</td>\n",
       "      <td>101</td>\n",
       "      <td>4.400000</td>\n",
       "      <td>13</td>\n",
       "      <td>78.96</td>\n",
       "      <td>29.72</td>\n",
       "      <td>43.80</td>\n",
       "      <td>33.8</td>\n",
       "    </tr>\n",
       "  </tbody>\n",
       "</table>\n",
       "<p>154742 rows × 10 columns</p>\n",
       "</div>"
      ],
      "text/plain": [
       "        ball  wickets_so_far  ...  batting_average  bowling_strike_rate\n",
       "231314  40.3               4  ...            34.34                 44.2\n",
       "231315  27.6               3  ...            14.00                 42.1\n",
       "231316  26.4               3  ...            39.75                 47.2\n",
       "231317  22.1               3  ...            39.16                 38.4\n",
       "231318  28.5               8  ...            16.44                 56.0\n",
       "...      ...             ...  ...              ...                  ...\n",
       "386051  22.3               1  ...            43.80                 41.1\n",
       "386052   1.3               0  ...            49.46                 32.2\n",
       "386053  23.3               2  ...            53.50                 61.2\n",
       "386054  14.4               2  ...            44.83                 39.6\n",
       "386055  20.1               1  ...            43.80                 33.8\n",
       "\n",
       "[154742 rows x 10 columns]"
      ]
     },
     "execution_count": 97,
     "metadata": {
      "tags": []
     },
     "output_type": "execute_result"
    }
   ],
   "source": [
    "X_test"
   ]
  },
  {
   "cell_type": "code",
   "execution_count": 98,
   "metadata": {
    "colab": {
     "base_uri": "https://localhost:8080/"
    },
    "executionInfo": {
     "elapsed": 3061,
     "status": "ok",
     "timestamp": 1611760669962,
     "user": {
      "displayName": "aniket somwanshi",
      "photoUrl": "",
      "userId": "14453870072283828271"
     },
     "user_tz": -330
    },
    "id": "q4HrAMJ8YRbR",
    "outputId": "e60253ca-2bfe-4b9a-dc64-0e66b8e467eb"
   },
   "outputs": [
    {
     "data": {
      "text/plain": [
       "array([0, 0, 0, ..., 1, 1, 1])"
      ]
     },
     "execution_count": 98,
     "metadata": {
      "tags": []
     },
     "output_type": "execute_result"
    }
   ],
   "source": [
    "y_train"
   ]
  },
  {
   "cell_type": "markdown",
   "metadata": {
    "id": "T6X7K0koYRbV"
   },
   "source": [
    "# Training"
   ]
  },
  {
   "cell_type": "code",
   "execution_count": 99,
   "metadata": {
    "executionInfo": {
     "elapsed": 3054,
     "status": "ok",
     "timestamp": 1611760669962,
     "user": {
      "displayName": "aniket somwanshi",
      "photoUrl": "",
      "userId": "14453870072283828271"
     },
     "user_tz": -330
    },
    "id": "Hm9YNIZjyNpR"
   },
   "outputs": [],
   "source": [
    "from sklearn.metrics import classification_report\n",
    "from sklearn.metrics import confusion_matrix\n",
    "from sklearn.metrics import accuracy_score"
   ]
  },
  {
   "cell_type": "code",
   "execution_count": 100,
   "metadata": {
    "colab": {
     "base_uri": "https://localhost:8080/"
    },
    "executionInfo": {
     "elapsed": 3051,
     "status": "ok",
     "timestamp": 1611760669963,
     "user": {
      "displayName": "aniket somwanshi",
      "photoUrl": "",
      "userId": "14453870072283828271"
     },
     "user_tz": -330
    },
    "id": "4vTephVChVk0",
    "outputId": "a0895429-980c-45d1-c05e-1257507c32e4"
   },
   "outputs": [
    {
     "data": {
      "text/plain": [
       "False"
      ]
     },
     "execution_count": 100,
     "metadata": {
      "tags": []
     },
     "output_type": "execute_result"
    }
   ],
   "source": [
    "np.any(np.isnan(df))\n",
    "# np.isfinite(data.all()) #and gets True"
   ]
  },
  {
   "cell_type": "code",
   "execution_count": null,
   "metadata": {
    "colab": {
     "base_uri": "https://localhost:8080/"
    },
    "executionInfo": {
     "elapsed": 7510,
     "status": "ok",
     "timestamp": 1611760674429,
     "user": {
      "displayName": "aniket somwanshi",
      "photoUrl": "",
      "userId": "14453870072283828271"
     },
     "user_tz": -330
    },
    "id": "Cz8wjorTYRbV",
    "outputId": "e035d67d-14d3-4e87-a9c1-47ae656e0ddb"
   },
   "outputs": [],
   "source": [
    "# from sklearn.linear_model import LogisticRegression\n",
    "\n",
    "# logreg = LogisticRegression()\n",
    "# logreg.fit(X_train, y_train)\n",
    "# logreg_pred = logreg.predict(X_test)\n",
    "\n",
    "# print('Accuracy of Logistic regression classifier on test set: {:.2f}'\n",
    "#      .format(logreg.score(X_test, y_test)))\n",
    "\n",
    "# print(classification_report(y_test, logreg_pred))"
   ]
  },
  {
   "cell_type": "code",
   "execution_count": 102,
   "metadata": {
    "colab": {
     "base_uri": "https://localhost:8080/"
    },
    "executionInfo": {
     "elapsed": 7504,
     "status": "ok",
     "timestamp": 1611760674430,
     "user": {
      "displayName": "aniket somwanshi",
      "photoUrl": "",
      "userId": "14453870072283828271"
     },
     "user_tz": -330
    },
    "id": "eVNwBMm42OKM",
    "outputId": "15dd2bb7-8118-4b21-bde4-f55a7fb0e5ff"
   },
   "outputs": [
    {
     "name": "stdout",
     "output_type": "stream",
     "text": [
      "0    143643\n",
      "1     11099\n",
      "Name: boundary_this_over, dtype: int64\n",
      "0    142407\n",
      "1     12335\n",
      "dtype: int64\n"
     ]
    }
   ],
   "source": [
    "print(y_test.value_counts())\n",
    "# print(type(logreg_pred))\n",
    "print(pd.Series(logreg_pred).value_counts())"
   ]
  },
  {
   "cell_type": "code",
   "execution_count": null,
   "metadata": {
    "colab": {
     "base_uri": "https://localhost:8080/"
    },
    "executionInfo": {
     "elapsed": 11052,
     "status": "ok",
     "timestamp": 1611760677984,
     "user": {
      "displayName": "aniket somwanshi",
      "photoUrl": "",
      "userId": "14453870072283828271"
     },
     "user_tz": -330
    },
    "id": "m1hB4qvNyMru",
    "outputId": "e425f79e-3ba7-4f46-f4e6-64b1b5ca2c8c"
   },
   "outputs": [],
   "source": [
    "# from sklearn.tree import DecisionTreeClassifier\n",
    "\n",
    "# clf = DecisionTreeClassifier().fit(X_train, y_train)\n",
    "\n",
    "\n",
    "# print('Accuracy of Decision Tree classifier on test set: {:.2f}'\n",
    "#      .format(clf.score(X_test, y_test)))\n",
    "\n",
    "# clf_pred = clf.predict(X_test)\n",
    "# print(classification_report(y_test, clf_pred))"
   ]
  },
  {
   "cell_type": "code",
   "execution_count": 104,
   "metadata": {
    "colab": {
     "base_uri": "https://localhost:8080/"
    },
    "executionInfo": {
     "elapsed": 11046,
     "status": "ok",
     "timestamp": 1611760677985,
     "user": {
      "displayName": "aniket somwanshi",
      "photoUrl": "",
      "userId": "14453870072283828271"
     },
     "user_tz": -330
    },
    "id": "vFjNkhaj5-H0",
    "outputId": "11dda28d-f6e2-4f7c-9456-d0d2d073a055"
   },
   "outputs": [
    {
     "name": "stdout",
     "output_type": "stream",
     "text": [
      "0    143643\n",
      "1     11099\n",
      "Name: boundary_this_over, dtype: int64\n",
      "0    143824\n",
      "1     10918\n",
      "dtype: int64\n"
     ]
    }
   ],
   "source": [
    "print(y_test.value_counts())\n",
    "# print(type(logreg_pred))\n",
    "print(pd.Series(clf_pred).value_counts())"
   ]
  },
  {
   "cell_type": "code",
   "execution_count": 105,
   "metadata": {
    "executionInfo": {
     "elapsed": 11041,
     "status": "ok",
     "timestamp": 1611760677986,
     "user": {
      "displayName": "aniket somwanshi",
      "photoUrl": "",
      "userId": "14453870072283828271"
     },
     "user_tz": -330
    },
    "id": "bdowfNP5PbGc"
   },
   "outputs": [],
   "source": [
    "# feat = ['ball', 'wickets_so_far', 'last_6_balls_wickets',\n",
    "#        'balls_in_partnership', 'runs_so_far', 'run_rate_last_5_overs',\n",
    "#        'balls_since_last_boundary', 'strike_rate', 'bowling_average',\n",
    "#        'batting_average', 'bowling_strike_rate'\n",
    "#        ]\n",
    "# for i in range(10):\n",
    "#   print(feat[i],\" : \",clf.feature_importances_[i])\n"
   ]
  },
  {
   "cell_type": "code",
   "execution_count": 106,
   "metadata": {
    "executionInfo": {
     "elapsed": 11037,
     "status": "ok",
     "timestamp": 1611760677987,
     "user": {
      "displayName": "aniket somwanshi",
      "photoUrl": "",
      "userId": "14453870072283828271"
     },
     "user_tz": -330
    },
    "id": "i4ADvjnTCrIg"
   },
   "outputs": [],
   "source": [
    "# print(dict(zip(X_train.columns, clf.feature_importances_)))\n",
    "# print(\"\\n\")\n",
    "# # clf.feature_importances_"
   ]
  },
  {
   "cell_type": "code",
   "execution_count": null,
   "metadata": {
    "colab": {
     "base_uri": "https://localhost:8080/"
    },
    "executionInfo": {
     "elapsed": 13385,
     "status": "ok",
     "timestamp": 1611760680340,
     "user": {
      "displayName": "aniket somwanshi",
      "photoUrl": "",
      "userId": "14453870072283828271"
     },
     "user_tz": -330
    },
    "id": "EFwvEGfIB6ap",
    "outputId": "1bdb5b23-5a99-4397-cba5-0c9873ba41d8"
   },
   "outputs": [],
   "source": [
    "# clf2 = DecisionTreeClassifier(max_depth=12).fit(X_train, y_train)\n",
    "\n",
    "# print('Accuracy of Decision Tree classifier on test set: {:.2f}'\n",
    "#      .format(clf2.score(X_test, y_test)))\n",
    "\n",
    "# clf_pred2 = (clf2.predict_proba(X_test)[:,1] >= 0.5).astype(bool) # set threshold as 0.3\n",
    "# # clf_pred2 = clf2.predict(X_test)\n",
    "# print(classification_report(y_test, clf_pred2))"
   ]
  },
  {
   "cell_type": "markdown",
   "metadata": {},
   "source": [
    "## Final model training "
   ]
  },
  {
   "cell_type": "code",
   "execution_count": null,
   "metadata": {
    "colab": {
     "base_uri": "https://localhost:8080/"
    },
    "executionInfo": {
     "elapsed": 163328,
     "status": "ok",
     "timestamp": 1611760830290,
     "user": {
      "displayName": "aniket somwanshi",
      "photoUrl": "",
      "userId": "14453870072283828271"
     },
     "user_tz": -330
    },
    "id": "h-UDc3KdOwDf",
    "outputId": "5b879601-46c9-4536-9f3c-fac7cb553aa8"
   },
   "outputs": [],
   "source": [
    "from sklearn.ensemble import RandomForestClassifier\n",
    "\n",
    "rf = RandomForestClassifier(n_estimators=200, max_depth=30, random_state=0)\n",
    "rf.fit(X_train, y_train)\n",
    "\n",
    "print('Accuracy of Random forest classifier on test set: {:.2f}'\n",
    "     .format(rf.score(X_test, y_test)))\n",
    "\n",
    "# rf_pred = rf.predict(X_test)\n",
    "rf_pred = (rf.predict_proba(X_test)[:,1] >= 0.5).astype(bool) # set threshold \n",
    "print(classification_report(y_test, rf_pred))"
   ]
  },
  {
   "cell_type": "markdown",
   "metadata": {},
   "source": [
    "## Export the model"
   ]
  },
  {
   "cell_type": "code",
   "execution_count": 109,
   "metadata": {
    "executionInfo": {
     "elapsed": 166269,
     "status": "ok",
     "timestamp": 1611760833237,
     "user": {
      "displayName": "aniket somwanshi",
      "photoUrl": "",
      "userId": "14453870072283828271"
     },
     "user_tz": -330
    },
    "id": "tKGrjejSGfSX"
   },
   "outputs": [],
   "source": [
    "# save the best model ie random forest\n",
    "import pickle\n",
    "pkl_filename = '/content/drive/MyDrive/Inframind/Customer engagement/boundry_prediction/model_training/boundary_1_model.pkl'\n",
    "with open(pkl_filename, 'wb') as file:\n",
    "    pickle.dump(rf, file)"
   ]
  },
  {
   "cell_type": "code",
   "execution_count": 110,
   "metadata": {
    "executionInfo": {
     "elapsed": 166265,
     "status": "ok",
     "timestamp": 1611760833238,
     "user": {
      "displayName": "aniket somwanshi",
      "photoUrl": "",
      "userId": "14453870072283828271"
     },
     "user_tz": -330
    },
    "id": "WaSLlYBIgxuI"
   },
   "outputs": [],
   "source": [
    "# feat = ['ball', 'wickets_so_far', 'last_6_balls_wickets',\n",
    "#        'balls_in_partnership', 'runs_so_far', 'run_rate_last_5_overs',\n",
    "#        'balls_since_last_boundary', 'strike_rate', 'bowling_average',\n",
    "#        'batting_average', 'bowling_strike_rate',\n",
    "#        ]\n",
    "# for i in range(10):\n",
    "#   print(feat[i],\" : \", rf.feature_importances_[i])\n"
   ]
  },
  {
   "cell_type": "code",
   "execution_count": 111,
   "metadata": {
    "colab": {
     "base_uri": "https://localhost:8080/",
     "height": 0
    },
    "executionInfo": {
     "elapsed": 166257,
     "status": "ok",
     "timestamp": 1611760833239,
     "user": {
      "displayName": "aniket somwanshi",
      "photoUrl": "",
      "userId": "14453870072283828271"
     },
     "user_tz": -330
    },
    "id": "KYbjW1CO6WJH",
    "outputId": "aa5183c3-24d5-42c2-e52f-0197b50292e5"
   },
   "outputs": [
    {
     "data": {
      "application/vnd.google.colaboratory.intrinsic+json": {
       "type": "string"
      },
      "text/plain": [
       "'/device:GPU:0'"
      ]
     },
     "execution_count": 111,
     "metadata": {
      "tags": []
     },
     "output_type": "execute_result"
    }
   ],
   "source": [
    "import tensorflow as tf\n",
    "tf.test.gpu_device_name()"
   ]
  },
  {
   "cell_type": "code",
   "execution_count": 112,
   "metadata": {
    "executionInfo": {
     "elapsed": 166249,
     "status": "ok",
     "timestamp": 1611760833240,
     "user": {
      "displayName": "aniket somwanshi",
      "photoUrl": "",
      "userId": "14453870072283828271"
     },
     "user_tz": -330
    },
    "id": "5xaxU4wzvx_o"
   },
   "outputs": [],
   "source": [
    "# from sklearn import svm\n",
    "# svm_model = svm.SVC(kernel='linear')\n",
    "# svm_model.fit(X_train, y_train)\n",
    "\n",
    "\n",
    "# print('Accuracy of SVM classifier on test set: {:.2f}'\n",
    "#      .format(svm_model.score(X_test, y_test)))\n",
    "\n",
    "# svm_pred = svm_model.predict(X_test)\n",
    "# print(classification_report(y_test, svm_pred))\n"
   ]
  },
  {
   "cell_type": "code",
   "execution_count": 113,
   "metadata": {
    "executionInfo": {
     "elapsed": 166245,
     "status": "ok",
     "timestamp": 1611760833241,
     "user": {
      "displayName": "aniket somwanshi",
      "photoUrl": "",
      "userId": "14453870072283828271"
     },
     "user_tz": -330
    },
    "id": "iIqr3CV5IqYf"
   },
   "outputs": [],
   "source": [
    "# # nn \n",
    "# from keras.models import Sequential\n",
    "# from keras.layers import Dense\n",
    "\n",
    "# model = Sequential()\n",
    "\n",
    "# model.add(Dense(8, activation='relu', input_shape=(15,)))\n",
    "\n",
    "# model.add(Dense(8, activation='relu'))\n",
    "\n",
    "# model.add(Dense(1, activation='sigmoid'))\n",
    "\n",
    "# model.compile(loss='binary_crossentropy',\n",
    "#               optimizer='sgd',\n",
    "#               metrics=['accuracy'])\n",
    "                   \n",
    "# model.fit(X_train, y_train,epochs=4, batch_size=1, verbose=1)\n",
    "# nn_pred = model.predict(X_test)\n",
    "# print(classification_report(y_test, nn_pred))"
   ]
  },
  {
   "cell_type": "code",
   "execution_count": 114,
   "metadata": {
    "executionInfo": {
     "elapsed": 166241,
     "status": "ok",
     "timestamp": 1611760833242,
     "user": {
      "displayName": "aniket somwanshi",
      "photoUrl": "",
      "userId": "14453870072283828271"
     },
     "user_tz": -330
    },
    "id": "0NP-b1chE8SU"
   },
   "outputs": [],
   "source": [
    "# from sklearn.neighbors import KNeighborsClassifier\n",
    "\n",
    "# knn = KNeighborsClassifier()\n",
    "# knn.fit(X_train, y_train)\n",
    "\n",
    "# print('Accuracy of K-NN classifier on test set: {:.2f}'\n",
    "#      .format(knn.score(X_test, y_test)))\n",
    "\n",
    "# knn_pred = knn.predict(X_test)\n",
    "# print(classification_report(y_test, knn_pred))"
   ]
  },
  {
   "cell_type": "code",
   "execution_count": 115,
   "metadata": {
    "executionInfo": {
     "elapsed": 166234,
     "status": "ok",
     "timestamp": 1611760833242,
     "user": {
      "displayName": "aniket somwanshi",
      "photoUrl": "",
      "userId": "14453870072283828271"
     },
     "user_tz": -330
    },
    "id": "IBohOANGFI-H"
   },
   "outputs": [],
   "source": [
    "# from sklearn.discriminant_analysis import LinearDiscriminantAnalysis\n",
    "\n",
    "# lda = LinearDiscriminantAnalysis()\n",
    "# lda.fit(X_train, y_train)\n",
    "\n",
    "# print('Accuracy of LDA classifier on test set: {:.2f}'\n",
    "#      .format(lda.score(X_test, y_test)))\n",
    "\n",
    "# lda_pred = lda.predict(X_test)\n",
    "# print(classification_report(y_test, lda_pred))"
   ]
  },
  {
   "cell_type": "code",
   "execution_count": 116,
   "metadata": {
    "executionInfo": {
     "elapsed": 166231,
     "status": "ok",
     "timestamp": 1611760833243,
     "user": {
      "displayName": "aniket somwanshi",
      "photoUrl": "",
      "userId": "14453870072283828271"
     },
     "user_tz": -330
    },
    "id": "F6UVVwqwFSr5"
   },
   "outputs": [],
   "source": [
    "# from sklearn.naive_bayes import GaussianNB\n",
    "\n",
    "# gnb = GaussianNB()\n",
    "# gnb.fit(X_train, y_train)\n",
    "\n",
    "# print('Accuracy of GNB classifier on test set: {:.2f}'\n",
    "#      .format(gnb.score(X_test, y_test)))\n",
    "\n",
    "# gnb_pred = gnb.predict(X_test)\n",
    "# print(classification_report(y_test, gnb_pred))"
   ]
  }
 ],
 "metadata": {
  "accelerator": "GPU",
  "colab": {
   "collapsed_sections": [],
   "name": "model_training_inning_1.ipynb",
   "provenance": [],
   "toc_visible": true
  },
  "kernelspec": {
   "display_name": "Python 3",
   "language": "python",
   "name": "python3"
  },
  "language_info": {
   "codemirror_mode": {
    "name": "ipython",
    "version": 3
   },
   "file_extension": ".py",
   "mimetype": "text/x-python",
   "name": "python",
   "nbconvert_exporter": "python",
   "pygments_lexer": "ipython3",
   "version": "3.8.5"
  },
  "papermill": {
   "duration": 18.677598,
   "end_time": "2020-12-26T04:33:06.638327",
   "environment_variables": {},
   "exception": null,
   "input_path": "__notebook__.ipynb",
   "output_path": "__notebook__.ipynb",
   "parameters": {},
   "start_time": "2020-12-26T04:32:47.960729",
   "version": "2.1.0"
  }
 },
 "nbformat": 4,
 "nbformat_minor": 1
}

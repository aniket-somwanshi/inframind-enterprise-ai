{
 "cells": [
  {
   "cell_type": "markdown",
   "metadata": {
    "id": "2WKMRCuwYRaP",
    "papermill": {
     "duration": 0.009151,
     "end_time": "2020-12-26T04:32:52.101918",
     "exception": false,
     "start_time": "2020-12-26T04:32:52.092767",
     "status": "completed"
    },
    "tags": []
   },
   "source": [
    "# Generate match-day alerts\n",
    "Generating all the live alerts of the whole match for the given `match_id` "
   ]
  },
  {
   "cell_type": "code",
   "execution_count": 2,
   "metadata": {
    "colab": {
     "base_uri": "https://localhost:8080/"
    },
    "executionInfo": {
     "elapsed": 21162,
     "status": "ok",
     "timestamp": 1612462016109,
     "user": {
      "displayName": "aniket somwanshi",
      "photoUrl": "",
      "userId": "14453870072283828271"
     },
     "user_tz": -330
    },
    "id": "ENJnTi_UYyU-",
    "outputId": "772777d5-6069-49bf-eceb-9aad182e79ec"
   },
   "outputs": [
    {
     "name": "stdout",
     "output_type": "stream",
     "text": [
      "Mounted at /content/drive\n"
     ]
    }
   ],
   "source": [
    "from google.colab import drive\n",
    "drive.mount('/content/drive')"
   ]
  },
  {
   "cell_type": "code",
   "execution_count": 3,
   "metadata": {
    "_cell_guid": "79c7e3d0-c299-4dcb-8224-4455121ee9b0",
    "_uuid": "d629ff2d2480ee46fbb7e2d37f6b5fab8052498a",
    "execution": {
     "iopub.execute_input": "2020-12-26T04:32:52.129125Z",
     "iopub.status.busy": "2020-12-26T04:32:52.128425Z",
     "iopub.status.idle": "2020-12-26T04:32:54.203903Z",
     "shell.execute_reply": "2020-12-26T04:32:54.203283Z"
    },
    "executionInfo": {
     "elapsed": 22421,
     "status": "ok",
     "timestamp": 1612462017379,
     "user": {
      "displayName": "aniket somwanshi",
      "photoUrl": "",
      "userId": "14453870072283828271"
     },
     "user_tz": -330
    },
    "id": "wzYCogF3YRaY",
    "papermill": {
     "duration": 2.092098,
     "end_time": "2020-12-26T04:32:54.204008",
     "exception": false,
     "start_time": "2020-12-26T04:32:52.111910",
     "status": "completed"
    },
    "tags": []
   },
   "outputs": [],
   "source": [
    "import numpy as np\n",
    "import pandas as pd\n",
    "from tensorflow import keras\n",
    "\n",
    "# import re\n",
    "# from sklearn.model_selection import train_test_split\n",
    "# from sklearn.preprocessing import StandardScaler\n",
    "\n",
    "# # model imports\n",
    "# from sklearn.linear_model import LinearRegression\n",
    "# from sklearn.neighbors import KNeighborsRegressor\n",
    "# from sklearn.neural_network import MLPRegressor\n",
    "# from sklearn.svm import LinearSVR, SVR\n",
    "# from sklearn.tree import DecisionTreeRegressor\n",
    "# from sklearn.ensemble import RandomForestRegressor, GradientBoostingRegressor\n",
    "\n",
    "# !pip3 install catboost\n",
    "# from catboost import CatBoostClassifier\n",
    "# #import sys\n",
    "# #!{sys.executable} -m pip install xgboost\n",
    "# from xgboost import XGBRegressor\n",
    "\n",
    "# additional imports\n",
    "from matplotlib import pyplot\n",
    "\n"
   ]
  },
  {
   "cell_type": "code",
   "execution_count": 4,
   "metadata": {
    "colab": {
     "base_uri": "https://localhost:8080/",
     "height": 224
    },
    "execution": {
     "iopub.execute_input": "2020-12-26T04:32:54.341812Z",
     "iopub.status.busy": "2020-12-26T04:32:54.341322Z",
     "iopub.status.idle": "2020-12-26T04:32:54.351169Z",
     "shell.execute_reply": "2020-12-26T04:32:54.351623Z"
    },
    "executionInfo": {
     "elapsed": 24411,
     "status": "ok",
     "timestamp": 1612462019381,
     "user": {
      "displayName": "aniket somwanshi",
      "photoUrl": "",
      "userId": "14453870072283828271"
     },
     "user_tz": -330
    },
    "id": "I6ee6mP1YRah",
    "outputId": "26a937c6-e23c-4d3d-b0b8-e03b2b70e425",
    "papermill": {
     "duration": 0.027021,
     "end_time": "2020-12-26T04:32:54.351736",
     "exception": false,
     "start_time": "2020-12-26T04:32:54.324715",
     "status": "completed"
    },
    "tags": []
   },
   "outputs": [
    {
     "data": {
      "text/html": [
       "<div>\n",
       "<style scoped>\n",
       "    .dataframe tbody tr th:only-of-type {\n",
       "        vertical-align: middle;\n",
       "    }\n",
       "\n",
       "    .dataframe tbody tr th {\n",
       "        vertical-align: top;\n",
       "    }\n",
       "\n",
       "    .dataframe thead th {\n",
       "        text-align: right;\n",
       "    }\n",
       "</style>\n",
       "<table border=\"1\" class=\"dataframe\">\n",
       "  <thead>\n",
       "    <tr style=\"text-align: right;\">\n",
       "      <th></th>\n",
       "      <th>inning</th>\n",
       "      <th>ball</th>\n",
       "      <th>wickets_so_far</th>\n",
       "      <th>balls_in_partnership</th>\n",
       "      <th>runs_so_far</th>\n",
       "      <th>run_rate_last_5_overs</th>\n",
       "      <th>balls_since_last_boundary</th>\n",
       "      <th>boundary_this_over</th>\n",
       "      <th>wicket_this_over</th>\n",
       "      <th>strike_rate</th>\n",
       "      <th>bowling_average</th>\n",
       "      <th>batting_average</th>\n",
       "      <th>bowling_strike_rate</th>\n",
       "      <th>required_run_rate</th>\n",
       "      <th>big_moment</th>\n",
       "    </tr>\n",
       "  </thead>\n",
       "  <tbody>\n",
       "    <tr>\n",
       "      <th>0</th>\n",
       "      <td>1</td>\n",
       "      <td>0.1</td>\n",
       "      <td>0</td>\n",
       "      <td>0</td>\n",
       "      <td>0</td>\n",
       "      <td>0.000000</td>\n",
       "      <td>0</td>\n",
       "      <td>1</td>\n",
       "      <td>0</td>\n",
       "      <td>87.34</td>\n",
       "      <td>34.6</td>\n",
       "      <td>42.20</td>\n",
       "      <td>41.2</td>\n",
       "      <td>0.0</td>\n",
       "      <td>1</td>\n",
       "    </tr>\n",
       "    <tr>\n",
       "      <th>1</th>\n",
       "      <td>1</td>\n",
       "      <td>0.2</td>\n",
       "      <td>0</td>\n",
       "      <td>1</td>\n",
       "      <td>1</td>\n",
       "      <td>5.000000</td>\n",
       "      <td>1</td>\n",
       "      <td>1</td>\n",
       "      <td>0</td>\n",
       "      <td>95.31</td>\n",
       "      <td>34.6</td>\n",
       "      <td>33.21</td>\n",
       "      <td>41.2</td>\n",
       "      <td>0.0</td>\n",
       "      <td>1</td>\n",
       "    </tr>\n",
       "    <tr>\n",
       "      <th>2</th>\n",
       "      <td>1</td>\n",
       "      <td>0.3</td>\n",
       "      <td>0</td>\n",
       "      <td>2</td>\n",
       "      <td>1</td>\n",
       "      <td>3.333333</td>\n",
       "      <td>2</td>\n",
       "      <td>1</td>\n",
       "      <td>0</td>\n",
       "      <td>95.31</td>\n",
       "      <td>34.6</td>\n",
       "      <td>33.21</td>\n",
       "      <td>41.2</td>\n",
       "      <td>0.0</td>\n",
       "      <td>1</td>\n",
       "    </tr>\n",
       "    <tr>\n",
       "      <th>3</th>\n",
       "      <td>1</td>\n",
       "      <td>0.4</td>\n",
       "      <td>0</td>\n",
       "      <td>3</td>\n",
       "      <td>1</td>\n",
       "      <td>2.500000</td>\n",
       "      <td>3</td>\n",
       "      <td>1</td>\n",
       "      <td>0</td>\n",
       "      <td>95.31</td>\n",
       "      <td>34.6</td>\n",
       "      <td>33.21</td>\n",
       "      <td>41.2</td>\n",
       "      <td>0.0</td>\n",
       "      <td>1</td>\n",
       "    </tr>\n",
       "    <tr>\n",
       "      <th>4</th>\n",
       "      <td>1</td>\n",
       "      <td>0.5</td>\n",
       "      <td>0</td>\n",
       "      <td>4</td>\n",
       "      <td>1</td>\n",
       "      <td>2.000000</td>\n",
       "      <td>4</td>\n",
       "      <td>1</td>\n",
       "      <td>0</td>\n",
       "      <td>95.31</td>\n",
       "      <td>34.6</td>\n",
       "      <td>33.21</td>\n",
       "      <td>41.2</td>\n",
       "      <td>0.0</td>\n",
       "      <td>1</td>\n",
       "    </tr>\n",
       "  </tbody>\n",
       "</table>\n",
       "</div>"
      ],
      "text/plain": [
       "   inning  ball  ...  required_run_rate  big_moment\n",
       "0       1   0.1  ...                0.0           1\n",
       "1       1   0.2  ...                0.0           1\n",
       "2       1   0.3  ...                0.0           1\n",
       "3       1   0.4  ...                0.0           1\n",
       "4       1   0.5  ...                0.0           1\n",
       "\n",
       "[5 rows x 15 columns]"
      ]
     },
     "execution_count": 4,
     "metadata": {
      "tags": []
     },
     "output_type": "execute_result"
    }
   ],
   "source": [
    "df1 = pd.read_csv('/content/drive/MyDrive/Inframind/Customer engagement/original_dataset/match_1.csv')\n",
    "df1.head()"
   ]
  },
  {
   "cell_type": "code",
   "execution_count": 5,
   "metadata": {
    "colab": {
     "base_uri": "https://localhost:8080/",
     "height": 224
    },
    "executionInfo": {
     "elapsed": 24400,
     "status": "ok",
     "timestamp": 1612462019383,
     "user": {
      "displayName": "aniket somwanshi",
      "photoUrl": "",
      "userId": "14453870072283828271"
     },
     "user_tz": -330
    },
    "id": "Rv25K0QhtJW3",
    "outputId": "29831db6-c64d-44d6-e89d-e85f6033a1d6"
   },
   "outputs": [
    {
     "data": {
      "text/html": [
       "<div>\n",
       "<style scoped>\n",
       "    .dataframe tbody tr th:only-of-type {\n",
       "        vertical-align: middle;\n",
       "    }\n",
       "\n",
       "    .dataframe tbody tr th {\n",
       "        vertical-align: top;\n",
       "    }\n",
       "\n",
       "    .dataframe thead th {\n",
       "        text-align: right;\n",
       "    }\n",
       "</style>\n",
       "<table border=\"1\" class=\"dataframe\">\n",
       "  <thead>\n",
       "    <tr style=\"text-align: right;\">\n",
       "      <th></th>\n",
       "      <th>inning</th>\n",
       "      <th>ball</th>\n",
       "      <th>wickets_so_far</th>\n",
       "      <th>balls_in_partnership</th>\n",
       "      <th>runs_so_far</th>\n",
       "      <th>run_rate_last_5_overs</th>\n",
       "      <th>balls_since_last_boundary</th>\n",
       "      <th>boundary_this_over</th>\n",
       "      <th>wicket_this_over</th>\n",
       "      <th>strike_rate</th>\n",
       "      <th>bowling_average</th>\n",
       "      <th>batting_average</th>\n",
       "      <th>bowling_strike_rate</th>\n",
       "      <th>required_run_rate</th>\n",
       "      <th>big_moment</th>\n",
       "    </tr>\n",
       "  </thead>\n",
       "  <tbody>\n",
       "    <tr>\n",
       "      <th>0</th>\n",
       "      <td>2</td>\n",
       "      <td>0.1</td>\n",
       "      <td>0</td>\n",
       "      <td>0</td>\n",
       "      <td>0</td>\n",
       "      <td>0.0</td>\n",
       "      <td>0</td>\n",
       "      <td>0</td>\n",
       "      <td>0</td>\n",
       "      <td>88.92</td>\n",
       "      <td>34.26</td>\n",
       "      <td>49.14</td>\n",
       "      <td>37.7</td>\n",
       "      <td>5.671343</td>\n",
       "      <td>0</td>\n",
       "    </tr>\n",
       "    <tr>\n",
       "      <th>1</th>\n",
       "      <td>2</td>\n",
       "      <td>0.2</td>\n",
       "      <td>0</td>\n",
       "      <td>1</td>\n",
       "      <td>0</td>\n",
       "      <td>0.0</td>\n",
       "      <td>1</td>\n",
       "      <td>0</td>\n",
       "      <td>0</td>\n",
       "      <td>88.92</td>\n",
       "      <td>34.26</td>\n",
       "      <td>49.14</td>\n",
       "      <td>37.7</td>\n",
       "      <td>5.682731</td>\n",
       "      <td>0</td>\n",
       "    </tr>\n",
       "    <tr>\n",
       "      <th>2</th>\n",
       "      <td>2</td>\n",
       "      <td>0.3</td>\n",
       "      <td>0</td>\n",
       "      <td>2</td>\n",
       "      <td>0</td>\n",
       "      <td>0.0</td>\n",
       "      <td>2</td>\n",
       "      <td>0</td>\n",
       "      <td>0</td>\n",
       "      <td>88.92</td>\n",
       "      <td>34.26</td>\n",
       "      <td>49.14</td>\n",
       "      <td>37.7</td>\n",
       "      <td>5.694165</td>\n",
       "      <td>0</td>\n",
       "    </tr>\n",
       "    <tr>\n",
       "      <th>3</th>\n",
       "      <td>2</td>\n",
       "      <td>0.4</td>\n",
       "      <td>0</td>\n",
       "      <td>3</td>\n",
       "      <td>0</td>\n",
       "      <td>0.0</td>\n",
       "      <td>3</td>\n",
       "      <td>0</td>\n",
       "      <td>0</td>\n",
       "      <td>88.92</td>\n",
       "      <td>34.26</td>\n",
       "      <td>49.14</td>\n",
       "      <td>37.7</td>\n",
       "      <td>5.705645</td>\n",
       "      <td>0</td>\n",
       "    </tr>\n",
       "    <tr>\n",
       "      <th>4</th>\n",
       "      <td>2</td>\n",
       "      <td>0.5</td>\n",
       "      <td>0</td>\n",
       "      <td>4</td>\n",
       "      <td>0</td>\n",
       "      <td>0.0</td>\n",
       "      <td>4</td>\n",
       "      <td>0</td>\n",
       "      <td>0</td>\n",
       "      <td>88.92</td>\n",
       "      <td>34.26</td>\n",
       "      <td>49.14</td>\n",
       "      <td>37.7</td>\n",
       "      <td>5.717172</td>\n",
       "      <td>0</td>\n",
       "    </tr>\n",
       "  </tbody>\n",
       "</table>\n",
       "</div>"
      ],
      "text/plain": [
       "   inning  ball  ...  required_run_rate  big_moment\n",
       "0       2   0.1  ...           5.671343           0\n",
       "1       2   0.2  ...           5.682731           0\n",
       "2       2   0.3  ...           5.694165           0\n",
       "3       2   0.4  ...           5.705645           0\n",
       "4       2   0.5  ...           5.717172           0\n",
       "\n",
       "[5 rows x 15 columns]"
      ]
     },
     "execution_count": 5,
     "metadata": {
      "tags": []
     },
     "output_type": "execute_result"
    }
   ],
   "source": [
    "df2 = pd.read_csv('/content/drive/MyDrive/Inframind/Customer engagement/original_dataset/match_2.csv')\n",
    "df2.head()"
   ]
  },
  {
   "cell_type": "markdown",
   "metadata": {},
   "source": [
    "## Import models"
   ]
  },
  {
   "cell_type": "code",
   "execution_count": 6,
   "metadata": {
    "executionInfo": {
     "elapsed": 51470,
     "status": "ok",
     "timestamp": 1612462046464,
     "user": {
      "displayName": "aniket somwanshi",
      "photoUrl": "",
      "userId": "14453870072283828271"
     },
     "user_tz": -330
    },
    "id": "unPELlzFtGSA"
   },
   "outputs": [],
   "source": [
    "#load models \n",
    "import pickle\n",
    "with open('/content/drive/MyDrive/Inframind/Customer engagement/boundry_prediction/model_training/boundary_1_model.pkl', 'rb') as file:\n",
    "    boundary_1 = pickle.load(file)\n",
    "\n",
    "with open('/content/drive/MyDrive/Inframind/Customer engagement/boundry_prediction/model_training/boundary_2_model.pkl', 'rb') as file:\n",
    "    boundary_2 = pickle.load(file)\n",
    "\n",
    "with open('/content/drive/MyDrive/Inframind/Customer engagement/wicket_prediction/model_training/wicket_1_model.pkl', 'rb') as file:\n",
    "    wicket_1 = pickle.load(file)\n",
    "\n",
    "with open('/content/drive/MyDrive/Inframind/Customer engagement/wicket_prediction/model_training/wicket_2_model.pkl', 'rb') as file:\n",
    "    wicket_2 = pickle.load(file)\n",
    "\n",
    "# boundary_1 = keras.models.load_model(\"/content/drive/MyDrive/Inframind/Customer engagement/boundry_prediction/model_training/boundary_1_model.pkl\")\n",
    "# boundary_2 = keras.models.load_model(\"/content/drive/MyDrive/Inframind/Customer engagement/boundry_prediction/model_training/boundary_2_model.pkl\")\n",
    "# wicket_1 = keras.models.load_model(\"/content/drive/MyDrive/Inframind/Customer engagement/wicket_prediction/model_training/wicket_1_model.pkl\")\n",
    "# wicket_2 = keras.models.load_model(\"/content/drive/MyDrive/Inframind/Customer engagement/wicket_prediction/model_training/wicket_2_model.pkl\")\n"
   ]
  },
  {
   "cell_type": "code",
   "execution_count": 6,
   "metadata": {
    "executionInfo": {
     "elapsed": 51475,
     "status": "ok",
     "timestamp": 1612462046475,
     "user": {
      "displayName": "aniket somwanshi",
      "photoUrl": "",
      "userId": "14453870072283828271"
     },
     "user_tz": -330
    },
    "id": "3TPlbvhBtzsm"
   },
   "outputs": [],
   "source": []
  },
  {
   "cell_type": "markdown",
   "metadata": {
    "id": "BEd_Ke3uYRai",
    "papermill": {
     "duration": 0.01167,
     "end_time": "2020-12-26T04:32:54.374953",
     "exception": false,
     "start_time": "2020-12-26T04:32:54.363283",
     "status": "completed"
    },
    "tags": []
   },
   "source": [
    "# Preprocessing"
   ]
  },
  {
   "cell_type": "markdown",
   "metadata": {
    "id": "pWXAhDSltCSv"
   },
   "source": [
    "Inings 2 boundary\n"
   ]
  },
  {
   "cell_type": "code",
   "execution_count": 7,
   "metadata": {
    "executionInfo": {
     "elapsed": 51468,
     "status": "ok",
     "timestamp": 1612462046476,
     "user": {
      "displayName": "aniket somwanshi",
      "photoUrl": "",
      "userId": "14453870072283828271"
     },
     "user_tz": -330
    },
    "id": "LJSrJJcItyo3"
   },
   "outputs": [],
   "source": [
    "df2b = df2.copy()"
   ]
  },
  {
   "cell_type": "code",
   "execution_count": 8,
   "metadata": {
    "colab": {
     "base_uri": "https://localhost:8080/",
     "height": 224
    },
    "executionInfo": {
     "elapsed": 51460,
     "status": "ok",
     "timestamp": 1612462046477,
     "user": {
      "displayName": "aniket somwanshi",
      "photoUrl": "",
      "userId": "14453870072283828271"
     },
     "user_tz": -330
    },
    "id": "2FgJRSxYPpSA",
    "outputId": "0c40a41a-4493-4590-e84b-dbcf5e8f8c67"
   },
   "outputs": [
    {
     "data": {
      "text/html": [
       "<div>\n",
       "<style scoped>\n",
       "    .dataframe tbody tr th:only-of-type {\n",
       "        vertical-align: middle;\n",
       "    }\n",
       "\n",
       "    .dataframe tbody tr th {\n",
       "        vertical-align: top;\n",
       "    }\n",
       "\n",
       "    .dataframe thead th {\n",
       "        text-align: right;\n",
       "    }\n",
       "</style>\n",
       "<table border=\"1\" class=\"dataframe\">\n",
       "  <thead>\n",
       "    <tr style=\"text-align: right;\">\n",
       "      <th></th>\n",
       "      <th>ball</th>\n",
       "      <th>wickets_so_far</th>\n",
       "      <th>balls_in_partnership</th>\n",
       "      <th>runs_so_far</th>\n",
       "      <th>run_rate_last_5_overs</th>\n",
       "      <th>balls_since_last_boundary</th>\n",
       "      <th>boundary_this_over</th>\n",
       "      <th>strike_rate</th>\n",
       "      <th>bowling_average</th>\n",
       "      <th>batting_average</th>\n",
       "      <th>bowling_strike_rate</th>\n",
       "      <th>required_run_rate</th>\n",
       "    </tr>\n",
       "  </thead>\n",
       "  <tbody>\n",
       "    <tr>\n",
       "      <th>0</th>\n",
       "      <td>0.1</td>\n",
       "      <td>0</td>\n",
       "      <td>0</td>\n",
       "      <td>0</td>\n",
       "      <td>0.0</td>\n",
       "      <td>0</td>\n",
       "      <td>0</td>\n",
       "      <td>88.92</td>\n",
       "      <td>34.26</td>\n",
       "      <td>49.14</td>\n",
       "      <td>37.7</td>\n",
       "      <td>5.671343</td>\n",
       "    </tr>\n",
       "    <tr>\n",
       "      <th>1</th>\n",
       "      <td>0.2</td>\n",
       "      <td>0</td>\n",
       "      <td>1</td>\n",
       "      <td>0</td>\n",
       "      <td>0.0</td>\n",
       "      <td>1</td>\n",
       "      <td>0</td>\n",
       "      <td>88.92</td>\n",
       "      <td>34.26</td>\n",
       "      <td>49.14</td>\n",
       "      <td>37.7</td>\n",
       "      <td>5.682731</td>\n",
       "    </tr>\n",
       "    <tr>\n",
       "      <th>2</th>\n",
       "      <td>0.3</td>\n",
       "      <td>0</td>\n",
       "      <td>2</td>\n",
       "      <td>0</td>\n",
       "      <td>0.0</td>\n",
       "      <td>2</td>\n",
       "      <td>0</td>\n",
       "      <td>88.92</td>\n",
       "      <td>34.26</td>\n",
       "      <td>49.14</td>\n",
       "      <td>37.7</td>\n",
       "      <td>5.694165</td>\n",
       "    </tr>\n",
       "    <tr>\n",
       "      <th>3</th>\n",
       "      <td>0.4</td>\n",
       "      <td>0</td>\n",
       "      <td>3</td>\n",
       "      <td>0</td>\n",
       "      <td>0.0</td>\n",
       "      <td>3</td>\n",
       "      <td>0</td>\n",
       "      <td>88.92</td>\n",
       "      <td>34.26</td>\n",
       "      <td>49.14</td>\n",
       "      <td>37.7</td>\n",
       "      <td>5.705645</td>\n",
       "    </tr>\n",
       "    <tr>\n",
       "      <th>4</th>\n",
       "      <td>0.5</td>\n",
       "      <td>0</td>\n",
       "      <td>4</td>\n",
       "      <td>0</td>\n",
       "      <td>0.0</td>\n",
       "      <td>4</td>\n",
       "      <td>0</td>\n",
       "      <td>88.92</td>\n",
       "      <td>34.26</td>\n",
       "      <td>49.14</td>\n",
       "      <td>37.7</td>\n",
       "      <td>5.717172</td>\n",
       "    </tr>\n",
       "  </tbody>\n",
       "</table>\n",
       "</div>"
      ],
      "text/plain": [
       "   ball  wickets_so_far  ...  bowling_strike_rate  required_run_rate\n",
       "0   0.1               0  ...                 37.7           5.671343\n",
       "1   0.2               0  ...                 37.7           5.682731\n",
       "2   0.3               0  ...                 37.7           5.694165\n",
       "3   0.4               0  ...                 37.7           5.705645\n",
       "4   0.5               0  ...                 37.7           5.717172\n",
       "\n",
       "[5 rows x 12 columns]"
      ]
     },
     "execution_count": 8,
     "metadata": {
      "tags": []
     },
     "output_type": "execute_result"
    }
   ],
   "source": [
    "df2b.drop(['inning','wicket_this_over','big_moment'], axis = 1, inplace = True) \n",
    "df2b.head()"
   ]
  },
  {
   "cell_type": "code",
   "execution_count": 9,
   "metadata": {
    "colab": {
     "base_uri": "https://localhost:8080/",
     "height": 439
    },
    "executionInfo": {
     "elapsed": 51448,
     "status": "ok",
     "timestamp": 1612462046478,
     "user": {
      "displayName": "aniket somwanshi",
      "photoUrl": "",
      "userId": "14453870072283828271"
     },
     "user_tz": -330
    },
    "id": "E-KNArmB5F-m",
    "outputId": "7af96dab-a31b-4439-835e-6bf1e285b404"
   },
   "outputs": [
    {
     "data": {
      "text/html": [
       "<div>\n",
       "<style scoped>\n",
       "    .dataframe tbody tr th:only-of-type {\n",
       "        vertical-align: middle;\n",
       "    }\n",
       "\n",
       "    .dataframe tbody tr th {\n",
       "        vertical-align: top;\n",
       "    }\n",
       "\n",
       "    .dataframe thead th {\n",
       "        text-align: right;\n",
       "    }\n",
       "</style>\n",
       "<table border=\"1\" class=\"dataframe\">\n",
       "  <thead>\n",
       "    <tr style=\"text-align: right;\">\n",
       "      <th></th>\n",
       "      <th>inning</th>\n",
       "      <th>ball</th>\n",
       "      <th>wickets_so_far</th>\n",
       "      <th>balls_in_partnership</th>\n",
       "      <th>runs_so_far</th>\n",
       "      <th>run_rate_last_5_overs</th>\n",
       "      <th>balls_since_last_boundary</th>\n",
       "      <th>boundary_this_over</th>\n",
       "      <th>wicket_this_over</th>\n",
       "      <th>strike_rate</th>\n",
       "      <th>bowling_average</th>\n",
       "      <th>batting_average</th>\n",
       "      <th>bowling_strike_rate</th>\n",
       "      <th>required_run_rate</th>\n",
       "      <th>big_moment</th>\n",
       "    </tr>\n",
       "  </thead>\n",
       "  <tbody>\n",
       "    <tr>\n",
       "      <th>0</th>\n",
       "      <td>2</td>\n",
       "      <td>0.1</td>\n",
       "      <td>0</td>\n",
       "      <td>0</td>\n",
       "      <td>0</td>\n",
       "      <td>0.0</td>\n",
       "      <td>0</td>\n",
       "      <td>0</td>\n",
       "      <td>0</td>\n",
       "      <td>88.92</td>\n",
       "      <td>34.26</td>\n",
       "      <td>49.14</td>\n",
       "      <td>37.7</td>\n",
       "      <td>5.671343</td>\n",
       "      <td>0</td>\n",
       "    </tr>\n",
       "    <tr>\n",
       "      <th>1</th>\n",
       "      <td>2</td>\n",
       "      <td>0.2</td>\n",
       "      <td>0</td>\n",
       "      <td>1</td>\n",
       "      <td>0</td>\n",
       "      <td>0.0</td>\n",
       "      <td>1</td>\n",
       "      <td>0</td>\n",
       "      <td>0</td>\n",
       "      <td>88.92</td>\n",
       "      <td>34.26</td>\n",
       "      <td>49.14</td>\n",
       "      <td>37.7</td>\n",
       "      <td>5.682731</td>\n",
       "      <td>0</td>\n",
       "    </tr>\n",
       "    <tr>\n",
       "      <th>2</th>\n",
       "      <td>2</td>\n",
       "      <td>0.3</td>\n",
       "      <td>0</td>\n",
       "      <td>2</td>\n",
       "      <td>0</td>\n",
       "      <td>0.0</td>\n",
       "      <td>2</td>\n",
       "      <td>0</td>\n",
       "      <td>0</td>\n",
       "      <td>88.92</td>\n",
       "      <td>34.26</td>\n",
       "      <td>49.14</td>\n",
       "      <td>37.7</td>\n",
       "      <td>5.694165</td>\n",
       "      <td>0</td>\n",
       "    </tr>\n",
       "    <tr>\n",
       "      <th>3</th>\n",
       "      <td>2</td>\n",
       "      <td>0.4</td>\n",
       "      <td>0</td>\n",
       "      <td>3</td>\n",
       "      <td>0</td>\n",
       "      <td>0.0</td>\n",
       "      <td>3</td>\n",
       "      <td>0</td>\n",
       "      <td>0</td>\n",
       "      <td>88.92</td>\n",
       "      <td>34.26</td>\n",
       "      <td>49.14</td>\n",
       "      <td>37.7</td>\n",
       "      <td>5.705645</td>\n",
       "      <td>0</td>\n",
       "    </tr>\n",
       "    <tr>\n",
       "      <th>4</th>\n",
       "      <td>2</td>\n",
       "      <td>0.5</td>\n",
       "      <td>0</td>\n",
       "      <td>4</td>\n",
       "      <td>0</td>\n",
       "      <td>0.0</td>\n",
       "      <td>4</td>\n",
       "      <td>0</td>\n",
       "      <td>0</td>\n",
       "      <td>88.92</td>\n",
       "      <td>34.26</td>\n",
       "      <td>49.14</td>\n",
       "      <td>37.7</td>\n",
       "      <td>5.717172</td>\n",
       "      <td>0</td>\n",
       "    </tr>\n",
       "    <tr>\n",
       "      <th>...</th>\n",
       "      <td>...</td>\n",
       "      <td>...</td>\n",
       "      <td>...</td>\n",
       "      <td>...</td>\n",
       "      <td>...</td>\n",
       "      <td>...</td>\n",
       "      <td>...</td>\n",
       "      <td>...</td>\n",
       "      <td>...</td>\n",
       "      <td>...</td>\n",
       "      <td>...</td>\n",
       "      <td>...</td>\n",
       "      <td>...</td>\n",
       "      <td>...</td>\n",
       "      <td>...</td>\n",
       "    </tr>\n",
       "    <tr>\n",
       "      <th>299</th>\n",
       "      <td>2</td>\n",
       "      <td>47.6</td>\n",
       "      <td>9</td>\n",
       "      <td>3</td>\n",
       "      <td>247</td>\n",
       "      <td>7.4</td>\n",
       "      <td>8</td>\n",
       "      <td>0</td>\n",
       "      <td>0</td>\n",
       "      <td>81.66</td>\n",
       "      <td>35.40</td>\n",
       "      <td>7.55</td>\n",
       "      <td>39.6</td>\n",
       "      <td>15.000000</td>\n",
       "      <td>0</td>\n",
       "    </tr>\n",
       "    <tr>\n",
       "      <th>300</th>\n",
       "      <td>2</td>\n",
       "      <td>48.1</td>\n",
       "      <td>9</td>\n",
       "      <td>4</td>\n",
       "      <td>248</td>\n",
       "      <td>6.4</td>\n",
       "      <td>9</td>\n",
       "      <td>0</td>\n",
       "      <td>1</td>\n",
       "      <td>81.66</td>\n",
       "      <td>34.26</td>\n",
       "      <td>7.55</td>\n",
       "      <td>37.7</td>\n",
       "      <td>18.421053</td>\n",
       "      <td>1</td>\n",
       "    </tr>\n",
       "    <tr>\n",
       "      <th>301</th>\n",
       "      <td>2</td>\n",
       "      <td>48.2</td>\n",
       "      <td>9</td>\n",
       "      <td>5</td>\n",
       "      <td>252</td>\n",
       "      <td>7.2</td>\n",
       "      <td>0</td>\n",
       "      <td>0</td>\n",
       "      <td>1</td>\n",
       "      <td>81.66</td>\n",
       "      <td>34.26</td>\n",
       "      <td>7.55</td>\n",
       "      <td>37.7</td>\n",
       "      <td>17.222222</td>\n",
       "      <td>1</td>\n",
       "    </tr>\n",
       "    <tr>\n",
       "      <th>302</th>\n",
       "      <td>2</td>\n",
       "      <td>48.3</td>\n",
       "      <td>9</td>\n",
       "      <td>6</td>\n",
       "      <td>253</td>\n",
       "      <td>7.0</td>\n",
       "      <td>1</td>\n",
       "      <td>0</td>\n",
       "      <td>1</td>\n",
       "      <td>35.46</td>\n",
       "      <td>34.26</td>\n",
       "      <td>4.80</td>\n",
       "      <td>37.7</td>\n",
       "      <td>17.647059</td>\n",
       "      <td>1</td>\n",
       "    </tr>\n",
       "    <tr>\n",
       "      <th>303</th>\n",
       "      <td>2</td>\n",
       "      <td>48.4</td>\n",
       "      <td>9</td>\n",
       "      <td>7</td>\n",
       "      <td>253</td>\n",
       "      <td>6.8</td>\n",
       "      <td>2</td>\n",
       "      <td>0</td>\n",
       "      <td>1</td>\n",
       "      <td>35.46</td>\n",
       "      <td>34.26</td>\n",
       "      <td>4.80</td>\n",
       "      <td>37.7</td>\n",
       "      <td>18.750000</td>\n",
       "      <td>1</td>\n",
       "    </tr>\n",
       "  </tbody>\n",
       "</table>\n",
       "<p>304 rows × 15 columns</p>\n",
       "</div>"
      ],
      "text/plain": [
       "     inning  ball  ...  required_run_rate  big_moment\n",
       "0         2   0.1  ...           5.671343           0\n",
       "1         2   0.2  ...           5.682731           0\n",
       "2         2   0.3  ...           5.694165           0\n",
       "3         2   0.4  ...           5.705645           0\n",
       "4         2   0.5  ...           5.717172           0\n",
       "..      ...   ...  ...                ...         ...\n",
       "299       2  47.6  ...          15.000000           0\n",
       "300       2  48.1  ...          18.421053           1\n",
       "301       2  48.2  ...          17.222222           1\n",
       "302       2  48.3  ...          17.647059           1\n",
       "303       2  48.4  ...          18.750000           1\n",
       "\n",
       "[304 rows x 15 columns]"
      ]
     },
     "execution_count": 9,
     "metadata": {
      "tags": []
     },
     "output_type": "execute_result"
    }
   ],
   "source": [
    "df2"
   ]
  },
  {
   "cell_type": "markdown",
   "metadata": {},
   "source": [
    "## x and y split for accuracy evaluation"
   ]
  },
  {
   "cell_type": "code",
   "execution_count": 11,
   "metadata": {
    "colab": {
     "base_uri": "https://localhost:8080/"
    },
    "execution": {
     "iopub.execute_input": "2020-12-26T04:32:54.484195Z",
     "iopub.status.busy": "2020-12-26T04:32:54.483624Z",
     "iopub.status.idle": "2020-12-26T04:32:54.494766Z",
     "shell.execute_reply": "2020-12-26T04:32:54.495360Z"
    },
    "executionInfo": {
     "elapsed": 55394,
     "status": "ok",
     "timestamp": 1612462050440,
     "user": {
      "displayName": "aniket somwanshi",
      "photoUrl": "",
      "userId": "14453870072283828271"
     },
     "user_tz": -330
    },
    "id": "-TRSle8LYRbI",
    "outputId": "88f63025-655e-4abb-aeea-94c9490cfa3b",
    "papermill": {
     "duration": 0.026412,
     "end_time": "2020-12-26T04:32:54.495470",
     "exception": false,
     "start_time": "2020-12-26T04:32:54.469058",
     "status": "completed"
    },
    "tags": []
   },
   "outputs": [
    {
     "name": "stderr",
     "output_type": "stream",
     "text": [
      "/usr/local/lib/python3.6/dist-packages/sklearn/externals/six.py:31: FutureWarning: The module is deprecated in version 0.21 and will be removed in version 0.23 since we've dropped support for Python 2.7. Please rely on the official version of six (https://pypi.org/project/six/).\n",
      "  \"(https://pypi.org/project/six/).\", FutureWarning)\n",
      "/usr/local/lib/python3.6/dist-packages/sklearn/utils/deprecation.py:144: FutureWarning: The sklearn.neighbors.base module is  deprecated in version 0.22 and will be removed in version 0.24. The corresponding classes / functions should instead be imported from sklearn.neighbors. Anything that cannot be imported from sklearn.neighbors is now part of the private API.\n",
      "  warnings.warn(message, FutureWarning)\n"
     ]
    }
   ],
   "source": [
    "from imblearn.over_sampling import SMOTE\n",
    "def preprocess_inputs_b(data):\n",
    "  \n",
    "  y_test = data['boundary_this_over'].copy()\n",
    "  X_test = data.drop('boundary_this_over', axis=1).copy()\n",
    "\n",
    "\n",
    "  return X_test, y_test"
   ]
  },
  {
   "cell_type": "markdown",
   "metadata": {},
   "source": [
    "## Generate 2nd inn boundary predictions"
   ]
  },
  {
   "cell_type": "code",
   "execution_count": 12,
   "metadata": {
    "execution": {
     "iopub.execute_input": "2020-12-26T04:32:54.522973Z",
     "iopub.status.busy": "2020-12-26T04:32:54.522391Z",
     "iopub.status.idle": "2020-12-26T04:32:54.598431Z",
     "shell.execute_reply": "2020-12-26T04:32:54.597921Z"
    },
    "executionInfo": {
     "elapsed": 55385,
     "status": "ok",
     "timestamp": 1612462050441,
     "user": {
      "displayName": "aniket somwanshi",
      "photoUrl": "",
      "userId": "14453870072283828271"
     },
     "user_tz": -330
    },
    "id": "RijXdvvPYRbL",
    "papermill": {
     "duration": 0.090911,
     "end_time": "2020-12-26T04:32:54.598528",
     "exception": false,
     "start_time": "2020-12-26T04:32:54.507617",
     "status": "completed"
    },
    "tags": []
   },
   "outputs": [],
   "source": [
    "X_test, y_test = preprocess_inputs_b(df2b)"
   ]
  },
  {
   "cell_type": "code",
   "execution_count": 13,
   "metadata": {
    "colab": {
     "base_uri": "https://localhost:8080/",
     "height": 439
    },
    "execution": {
     "iopub.execute_input": "2020-12-26T04:32:54.638901Z",
     "iopub.status.busy": "2020-12-26T04:32:54.635470Z",
     "iopub.status.idle": "2020-12-26T04:32:54.652990Z",
     "shell.execute_reply": "2020-12-26T04:32:54.653467Z"
    },
    "executionInfo": {
     "elapsed": 55350,
     "status": "ok",
     "timestamp": 1612462050444,
     "user": {
      "displayName": "aniket somwanshi",
      "photoUrl": "",
      "userId": "14453870072283828271"
     },
     "user_tz": -330
    },
    "id": "6FOJZt-AYRbL",
    "outputId": "81f63c16-b96b-4cdc-ad65-b43fedd7068f",
    "papermill": {
     "duration": 0.042276,
     "end_time": "2020-12-26T04:32:54.653599",
     "exception": false,
     "start_time": "2020-12-26T04:32:54.611323",
     "status": "completed"
    },
    "tags": []
   },
   "outputs": [
    {
     "data": {
      "text/html": [
       "<div>\n",
       "<style scoped>\n",
       "    .dataframe tbody tr th:only-of-type {\n",
       "        vertical-align: middle;\n",
       "    }\n",
       "\n",
       "    .dataframe tbody tr th {\n",
       "        vertical-align: top;\n",
       "    }\n",
       "\n",
       "    .dataframe thead th {\n",
       "        text-align: right;\n",
       "    }\n",
       "</style>\n",
       "<table border=\"1\" class=\"dataframe\">\n",
       "  <thead>\n",
       "    <tr style=\"text-align: right;\">\n",
       "      <th></th>\n",
       "      <th>ball</th>\n",
       "      <th>wickets_so_far</th>\n",
       "      <th>balls_in_partnership</th>\n",
       "      <th>runs_so_far</th>\n",
       "      <th>run_rate_last_5_overs</th>\n",
       "      <th>balls_since_last_boundary</th>\n",
       "      <th>strike_rate</th>\n",
       "      <th>bowling_average</th>\n",
       "      <th>batting_average</th>\n",
       "      <th>bowling_strike_rate</th>\n",
       "      <th>required_run_rate</th>\n",
       "    </tr>\n",
       "  </thead>\n",
       "  <tbody>\n",
       "    <tr>\n",
       "      <th>0</th>\n",
       "      <td>0.1</td>\n",
       "      <td>0</td>\n",
       "      <td>0</td>\n",
       "      <td>0</td>\n",
       "      <td>0.0</td>\n",
       "      <td>0</td>\n",
       "      <td>88.92</td>\n",
       "      <td>34.26</td>\n",
       "      <td>49.14</td>\n",
       "      <td>37.7</td>\n",
       "      <td>5.671343</td>\n",
       "    </tr>\n",
       "    <tr>\n",
       "      <th>1</th>\n",
       "      <td>0.2</td>\n",
       "      <td>0</td>\n",
       "      <td>1</td>\n",
       "      <td>0</td>\n",
       "      <td>0.0</td>\n",
       "      <td>1</td>\n",
       "      <td>88.92</td>\n",
       "      <td>34.26</td>\n",
       "      <td>49.14</td>\n",
       "      <td>37.7</td>\n",
       "      <td>5.682731</td>\n",
       "    </tr>\n",
       "    <tr>\n",
       "      <th>2</th>\n",
       "      <td>0.3</td>\n",
       "      <td>0</td>\n",
       "      <td>2</td>\n",
       "      <td>0</td>\n",
       "      <td>0.0</td>\n",
       "      <td>2</td>\n",
       "      <td>88.92</td>\n",
       "      <td>34.26</td>\n",
       "      <td>49.14</td>\n",
       "      <td>37.7</td>\n",
       "      <td>5.694165</td>\n",
       "    </tr>\n",
       "    <tr>\n",
       "      <th>3</th>\n",
       "      <td>0.4</td>\n",
       "      <td>0</td>\n",
       "      <td>3</td>\n",
       "      <td>0</td>\n",
       "      <td>0.0</td>\n",
       "      <td>3</td>\n",
       "      <td>88.92</td>\n",
       "      <td>34.26</td>\n",
       "      <td>49.14</td>\n",
       "      <td>37.7</td>\n",
       "      <td>5.705645</td>\n",
       "    </tr>\n",
       "    <tr>\n",
       "      <th>4</th>\n",
       "      <td>0.5</td>\n",
       "      <td>0</td>\n",
       "      <td>4</td>\n",
       "      <td>0</td>\n",
       "      <td>0.0</td>\n",
       "      <td>4</td>\n",
       "      <td>88.92</td>\n",
       "      <td>34.26</td>\n",
       "      <td>49.14</td>\n",
       "      <td>37.7</td>\n",
       "      <td>5.717172</td>\n",
       "    </tr>\n",
       "    <tr>\n",
       "      <th>...</th>\n",
       "      <td>...</td>\n",
       "      <td>...</td>\n",
       "      <td>...</td>\n",
       "      <td>...</td>\n",
       "      <td>...</td>\n",
       "      <td>...</td>\n",
       "      <td>...</td>\n",
       "      <td>...</td>\n",
       "      <td>...</td>\n",
       "      <td>...</td>\n",
       "      <td>...</td>\n",
       "    </tr>\n",
       "    <tr>\n",
       "      <th>299</th>\n",
       "      <td>47.6</td>\n",
       "      <td>9</td>\n",
       "      <td>3</td>\n",
       "      <td>247</td>\n",
       "      <td>7.4</td>\n",
       "      <td>8</td>\n",
       "      <td>81.66</td>\n",
       "      <td>35.40</td>\n",
       "      <td>7.55</td>\n",
       "      <td>39.6</td>\n",
       "      <td>15.000000</td>\n",
       "    </tr>\n",
       "    <tr>\n",
       "      <th>300</th>\n",
       "      <td>48.1</td>\n",
       "      <td>9</td>\n",
       "      <td>4</td>\n",
       "      <td>248</td>\n",
       "      <td>6.4</td>\n",
       "      <td>9</td>\n",
       "      <td>81.66</td>\n",
       "      <td>34.26</td>\n",
       "      <td>7.55</td>\n",
       "      <td>37.7</td>\n",
       "      <td>18.421053</td>\n",
       "    </tr>\n",
       "    <tr>\n",
       "      <th>301</th>\n",
       "      <td>48.2</td>\n",
       "      <td>9</td>\n",
       "      <td>5</td>\n",
       "      <td>252</td>\n",
       "      <td>7.2</td>\n",
       "      <td>0</td>\n",
       "      <td>81.66</td>\n",
       "      <td>34.26</td>\n",
       "      <td>7.55</td>\n",
       "      <td>37.7</td>\n",
       "      <td>17.222222</td>\n",
       "    </tr>\n",
       "    <tr>\n",
       "      <th>302</th>\n",
       "      <td>48.3</td>\n",
       "      <td>9</td>\n",
       "      <td>6</td>\n",
       "      <td>253</td>\n",
       "      <td>7.0</td>\n",
       "      <td>1</td>\n",
       "      <td>35.46</td>\n",
       "      <td>34.26</td>\n",
       "      <td>4.80</td>\n",
       "      <td>37.7</td>\n",
       "      <td>17.647059</td>\n",
       "    </tr>\n",
       "    <tr>\n",
       "      <th>303</th>\n",
       "      <td>48.4</td>\n",
       "      <td>9</td>\n",
       "      <td>7</td>\n",
       "      <td>253</td>\n",
       "      <td>6.8</td>\n",
       "      <td>2</td>\n",
       "      <td>35.46</td>\n",
       "      <td>34.26</td>\n",
       "      <td>4.80</td>\n",
       "      <td>37.7</td>\n",
       "      <td>18.750000</td>\n",
       "    </tr>\n",
       "  </tbody>\n",
       "</table>\n",
       "<p>304 rows × 11 columns</p>\n",
       "</div>"
      ],
      "text/plain": [
       "     ball  wickets_so_far  ...  bowling_strike_rate  required_run_rate\n",
       "0     0.1               0  ...                 37.7           5.671343\n",
       "1     0.2               0  ...                 37.7           5.682731\n",
       "2     0.3               0  ...                 37.7           5.694165\n",
       "3     0.4               0  ...                 37.7           5.705645\n",
       "4     0.5               0  ...                 37.7           5.717172\n",
       "..    ...             ...  ...                  ...                ...\n",
       "299  47.6               9  ...                 39.6          15.000000\n",
       "300  48.1               9  ...                 37.7          18.421053\n",
       "301  48.2               9  ...                 37.7          17.222222\n",
       "302  48.3               9  ...                 37.7          17.647059\n",
       "303  48.4               9  ...                 37.7          18.750000\n",
       "\n",
       "[304 rows x 11 columns]"
      ]
     },
     "execution_count": 13,
     "metadata": {
      "tags": []
     },
     "output_type": "execute_result"
    }
   ],
   "source": [
    "X_test"
   ]
  },
  {
   "cell_type": "code",
   "execution_count": 14,
   "metadata": {
    "executionInfo": {
     "elapsed": 55321,
     "status": "ok",
     "timestamp": 1612462050445,
     "user": {
      "displayName": "aniket somwanshi",
      "photoUrl": "",
      "userId": "14453870072283828271"
     },
     "user_tz": -330
    },
    "id": "Hm9YNIZjyNpR"
   },
   "outputs": [],
   "source": [
    "from sklearn.metrics import classification_report\n",
    "from sklearn.metrics import confusion_matrix\n",
    "from sklearn.metrics import accuracy_score\n",
    "from sklearn.metrics import precision_score\n",
    "from sklearn.metrics import recall_score"
   ]
  },
  {
   "cell_type": "code",
   "execution_count": 15,
   "metadata": {
    "colab": {
     "base_uri": "https://localhost:8080/"
    },
    "executionInfo": {
     "elapsed": 55311,
     "status": "ok",
     "timestamp": 1612462050446,
     "user": {
      "displayName": "aniket somwanshi",
      "photoUrl": "",
      "userId": "14453870072283828271"
     },
     "user_tz": -330
    },
    "id": "4vTephVChVk0",
    "outputId": "e52aa48c-06ba-4c22-e5e8-af9edb76314b"
   },
   "outputs": [
    {
     "data": {
      "text/plain": [
       "False"
      ]
     },
     "execution_count": 15,
     "metadata": {
      "tags": []
     },
     "output_type": "execute_result"
    }
   ],
   "source": [
    "np.any(np.isnan(df2)) #should be false ideally\n",
    "# np.isfinite(data.all()) #and gets True"
   ]
  },
  {
   "cell_type": "code",
   "execution_count": null,
   "metadata": {
    "colab": {
     "base_uri": "https://localhost:8080/"
    },
    "executionInfo": {
     "elapsed": 55298,
     "status": "ok",
     "timestamp": 1612462050447,
     "user": {
      "displayName": "aniket somwanshi",
      "photoUrl": "",
      "userId": "14453870072283828271"
     },
     "user_tz": -330
    },
    "id": "h-UDc3KdOwDf",
    "outputId": "58eed141-2197-41d4-dc84-4d1a903709b2"
   },
   "outputs": [],
   "source": [
    "# rf_pred = rf.predict(X_test)\n",
    "b2_pred = (boundary_2.predict_proba(X_test)[:,1] >= 0.45).astype(bool) # set threshold "
   ]
  },
  {
   "cell_type": "markdown",
   "metadata": {
    "id": "RXpl03rRwiHs"
   },
   "source": [
    "## Generate 2nd inn wicket predictions"
   ]
  },
  {
   "cell_type": "code",
   "execution_count": 17,
   "metadata": {
    "colab": {
     "base_uri": "https://localhost:8080/",
     "height": 224
    },
    "executionInfo": {
     "elapsed": 55271,
     "status": "ok",
     "timestamp": 1612462050448,
     "user": {
      "displayName": "aniket somwanshi",
      "photoUrl": "",
      "userId": "14453870072283828271"
     },
     "user_tz": -330
    },
    "id": "ma1EHd6vwhdU",
    "outputId": "1fb7c52e-165b-4947-d798-0c4863a7afde"
   },
   "outputs": [
    {
     "data": {
      "text/html": [
       "<div>\n",
       "<style scoped>\n",
       "    .dataframe tbody tr th:only-of-type {\n",
       "        vertical-align: middle;\n",
       "    }\n",
       "\n",
       "    .dataframe tbody tr th {\n",
       "        vertical-align: top;\n",
       "    }\n",
       "\n",
       "    .dataframe thead th {\n",
       "        text-align: right;\n",
       "    }\n",
       "</style>\n",
       "<table border=\"1\" class=\"dataframe\">\n",
       "  <thead>\n",
       "    <tr style=\"text-align: right;\">\n",
       "      <th></th>\n",
       "      <th>ball</th>\n",
       "      <th>wickets_so_far</th>\n",
       "      <th>balls_in_partnership</th>\n",
       "      <th>runs_so_far</th>\n",
       "      <th>run_rate_last_5_overs</th>\n",
       "      <th>balls_since_last_boundary</th>\n",
       "      <th>wicket_this_over</th>\n",
       "      <th>strike_rate</th>\n",
       "      <th>bowling_average</th>\n",
       "      <th>batting_average</th>\n",
       "      <th>bowling_strike_rate</th>\n",
       "      <th>required_run_rate</th>\n",
       "    </tr>\n",
       "  </thead>\n",
       "  <tbody>\n",
       "    <tr>\n",
       "      <th>0</th>\n",
       "      <td>0.1</td>\n",
       "      <td>0</td>\n",
       "      <td>0</td>\n",
       "      <td>0</td>\n",
       "      <td>0.0</td>\n",
       "      <td>0</td>\n",
       "      <td>0</td>\n",
       "      <td>88.92</td>\n",
       "      <td>34.26</td>\n",
       "      <td>49.14</td>\n",
       "      <td>37.7</td>\n",
       "      <td>5.671343</td>\n",
       "    </tr>\n",
       "    <tr>\n",
       "      <th>1</th>\n",
       "      <td>0.2</td>\n",
       "      <td>0</td>\n",
       "      <td>1</td>\n",
       "      <td>0</td>\n",
       "      <td>0.0</td>\n",
       "      <td>1</td>\n",
       "      <td>0</td>\n",
       "      <td>88.92</td>\n",
       "      <td>34.26</td>\n",
       "      <td>49.14</td>\n",
       "      <td>37.7</td>\n",
       "      <td>5.682731</td>\n",
       "    </tr>\n",
       "    <tr>\n",
       "      <th>2</th>\n",
       "      <td>0.3</td>\n",
       "      <td>0</td>\n",
       "      <td>2</td>\n",
       "      <td>0</td>\n",
       "      <td>0.0</td>\n",
       "      <td>2</td>\n",
       "      <td>0</td>\n",
       "      <td>88.92</td>\n",
       "      <td>34.26</td>\n",
       "      <td>49.14</td>\n",
       "      <td>37.7</td>\n",
       "      <td>5.694165</td>\n",
       "    </tr>\n",
       "    <tr>\n",
       "      <th>3</th>\n",
       "      <td>0.4</td>\n",
       "      <td>0</td>\n",
       "      <td>3</td>\n",
       "      <td>0</td>\n",
       "      <td>0.0</td>\n",
       "      <td>3</td>\n",
       "      <td>0</td>\n",
       "      <td>88.92</td>\n",
       "      <td>34.26</td>\n",
       "      <td>49.14</td>\n",
       "      <td>37.7</td>\n",
       "      <td>5.705645</td>\n",
       "    </tr>\n",
       "    <tr>\n",
       "      <th>4</th>\n",
       "      <td>0.5</td>\n",
       "      <td>0</td>\n",
       "      <td>4</td>\n",
       "      <td>0</td>\n",
       "      <td>0.0</td>\n",
       "      <td>4</td>\n",
       "      <td>0</td>\n",
       "      <td>88.92</td>\n",
       "      <td>34.26</td>\n",
       "      <td>49.14</td>\n",
       "      <td>37.7</td>\n",
       "      <td>5.717172</td>\n",
       "    </tr>\n",
       "  </tbody>\n",
       "</table>\n",
       "</div>"
      ],
      "text/plain": [
       "   ball  wickets_so_far  ...  bowling_strike_rate  required_run_rate\n",
       "0   0.1               0  ...                 37.7           5.671343\n",
       "1   0.2               0  ...                 37.7           5.682731\n",
       "2   0.3               0  ...                 37.7           5.694165\n",
       "3   0.4               0  ...                 37.7           5.705645\n",
       "4   0.5               0  ...                 37.7           5.717172\n",
       "\n",
       "[5 rows x 12 columns]"
      ]
     },
     "execution_count": 17,
     "metadata": {
      "tags": []
     },
     "output_type": "execute_result"
    }
   ],
   "source": [
    "df2w = df2.copy()\n",
    "df2w.drop(['inning','boundary_this_over','big_moment'], axis = 1, inplace = True) \n",
    "df2w.head()"
   ]
  },
  {
   "cell_type": "code",
   "execution_count": 19,
   "metadata": {
    "executionInfo": {
     "elapsed": 55245,
     "status": "ok",
     "timestamp": 1612462050451,
     "user": {
      "displayName": "aniket somwanshi",
      "photoUrl": "",
      "userId": "14453870072283828271"
     },
     "user_tz": -330
    },
    "id": "cQ48LEjc18z_"
   },
   "outputs": [],
   "source": [
    "from imblearn.over_sampling import SMOTE\n",
    "def preprocess_inputs_w(data):\n",
    "  \n",
    "  y_test = data['wicket_this_over'].copy()\n",
    "  X_test = data.drop('wicket_this_over', axis=1).copy()\n",
    "\n",
    "\n",
    "  return X_test, y_test"
   ]
  },
  {
   "cell_type": "code",
   "execution_count": 20,
   "metadata": {
    "executionInfo": {
     "elapsed": 55224,
     "status": "ok",
     "timestamp": 1612462050452,
     "user": {
      "displayName": "aniket somwanshi",
      "photoUrl": "",
      "userId": "14453870072283828271"
     },
     "user_tz": -330
    },
    "id": "qdBfpvCmxKpF"
   },
   "outputs": [],
   "source": [
    "X_test, y_test = preprocess_inputs_w(df2w)"
   ]
  },
  {
   "cell_type": "code",
   "execution_count": null,
   "metadata": {
    "colab": {
     "base_uri": "https://localhost:8080/"
    },
    "executionInfo": {
     "elapsed": 55216,
     "status": "ok",
     "timestamp": 1612462050453,
     "user": {
      "displayName": "aniket somwanshi",
      "photoUrl": "",
      "userId": "14453870072283828271"
     },
     "user_tz": -330
    },
    "id": "kndP20p1xPib",
    "outputId": "bea90534-8d1d-4cd5-c38d-7fc4006f5cef"
   },
   "outputs": [],
   "source": [
    "w2_pred = (wicket_2.predict_proba(X_test)[:,1] >= 0.45).astype(bool) # set threshold "
   ]
  },
  {
   "cell_type": "markdown",
   "metadata": {},
   "source": [
    "## Merged test set for 2nd innings"
   ]
  },
  {
   "cell_type": "code",
   "execution_count": 22,
   "metadata": {
    "executionInfo": {
     "elapsed": 55207,
     "status": "ok",
     "timestamp": 1612462050455,
     "user": {
      "displayName": "aniket somwanshi",
      "photoUrl": "",
      "userId": "14453870072283828271"
     },
     "user_tz": -330
    },
    "id": "D3j_yzM8xgRa"
   },
   "outputs": [],
   "source": [
    "# create merged y_test\n",
    "# y_test_2\n",
    "df2 = df2.loc[:,'big_moment']\n",
    "y_test_2 = df2.values"
   ]
  },
  {
   "cell_type": "markdown",
   "metadata": {},
   "source": [
    "## Merged predictions for 2nd innings"
   ]
  },
  {
   "cell_type": "code",
   "execution_count": 23,
   "metadata": {
    "executionInfo": {
     "elapsed": 55201,
     "status": "ok",
     "timestamp": 1612462050456,
     "user": {
      "displayName": "aniket somwanshi",
      "photoUrl": "",
      "userId": "14453870072283828271"
     },
     "user_tz": -330
    },
    "id": "4OUS7L9D1TNC"
   },
   "outputs": [],
   "source": [
    "# create merged y_pred\n",
    "y_pred_2 = np.logical_or(w2_pred, b2_pred).astype(int)"
   ]
  },
  {
   "cell_type": "code",
   "execution_count": 24,
   "metadata": {
    "colab": {
     "base_uri": "https://localhost:8080/"
    },
    "executionInfo": {
     "elapsed": 55188,
     "status": "ok",
     "timestamp": 1612462050456,
     "user": {
      "displayName": "aniket somwanshi",
      "photoUrl": "",
      "userId": "14453870072283828271"
     },
     "user_tz": -330
    },
    "id": "GTC_Ktgb6cn9",
    "outputId": "25f992a5-c44b-40e0-9381-42aaebcfc2a5"
   },
   "outputs": [
    {
     "name": "stdout",
     "output_type": "stream",
     "text": [
      "[0 0 0 0 0 0 0 0 0 0 0 0 0 0 0 0 0 0 0 0 0 0 0 0 0 0 0 0 0 0 0 0 1 1 0 0 0\n",
      " 0 0 0 0 0 0 0 1 1 0 0 0 0 0 0 0 0 0 0 0 0 0 0 0 0 0 0 0 0 0 0 0 0 0 0 0 0\n",
      " 0 0 0 0 0 0]\n",
      "[False False False False False False False False False False False False\n",
      " False False False False False False False False False False False False\n",
      " False False False False False False False False  True  True False False\n",
      " False False False False False False False False False False False False\n",
      " False False False False False False False False False False False False\n",
      " False False False False False False False False False False False False\n",
      " False False False False False False False False]\n",
      "[False False False False False False False False False False False False\n",
      " False False False False False False False False False False False False\n",
      " False False False False False False False False False False False False\n",
      " False False False False False False False False  True  True False False\n",
      " False False False False False False False False False False False False\n",
      " False False False False False False False False False False False False\n",
      " False False False False False False False False]\n",
      "[0 0 0 0 0 0 0 0 0 0 0 0 0 0 0 0 0 0 0 0 0 0 0 0 0 0 0 0 0 0 0 0 1 1 0 0 0\n",
      " 0 0 0 0 0 0 0 1 1 0 0 0 0 0 0 0 0 0 0 0 0 0 0 0 0 0 0 0 0 0 0 0 0 0 0 0 0\n",
      " 0 0 0 0 0 0]\n"
     ]
    }
   ],
   "source": [
    "print(y_pred_2[:80])\n",
    "print(w2_pred[:80])\n",
    "print(b2_pred[:80])\n",
    "print(y_test_2[:80])"
   ]
  },
  {
   "cell_type": "code",
   "execution_count": 25,
   "metadata": {
    "colab": {
     "base_uri": "https://localhost:8080/"
    },
    "executionInfo": {
     "elapsed": 55171,
     "status": "ok",
     "timestamp": 1612462050457,
     "user": {
      "displayName": "aniket somwanshi",
      "photoUrl": "",
      "userId": "14453870072283828271"
     },
     "user_tz": -330
    },
    "id": "AnBu5cMS8xoO",
    "outputId": "7db72341-490a-4a73-e462-efda54cbb658"
   },
   "outputs": [
    {
     "data": {
      "text/plain": [
       "0"
      ]
     },
     "execution_count": 25,
     "metadata": {
      "tags": []
     },
     "output_type": "execute_result"
    }
   ],
   "source": [
    "y_pred_2[60]"
   ]
  },
  {
   "cell_type": "code",
   "execution_count": 26,
   "metadata": {
    "colab": {
     "base_uri": "https://localhost:8080/"
    },
    "executionInfo": {
     "elapsed": 55159,
     "status": "ok",
     "timestamp": 1612462050460,
     "user": {
      "displayName": "aniket somwanshi",
      "photoUrl": "",
      "userId": "14453870072283828271"
     },
     "user_tz": -330
    },
    "id": "N94jAQrc85gA",
    "outputId": "53f563f5-df86-457b-a603-3ee553f51732"
   },
   "outputs": [
    {
     "data": {
      "text/plain": [
       "False"
      ]
     },
     "execution_count": 26,
     "metadata": {
      "tags": []
     },
     "output_type": "execute_result"
    }
   ],
   "source": [
    "w2_pred[60]"
   ]
  },
  {
   "cell_type": "code",
   "execution_count": 27,
   "metadata": {
    "colab": {
     "base_uri": "https://localhost:8080/"
    },
    "executionInfo": {
     "elapsed": 55142,
     "status": "ok",
     "timestamp": 1612462050461,
     "user": {
      "displayName": "aniket somwanshi",
      "photoUrl": "",
      "userId": "14453870072283828271"
     },
     "user_tz": -330
    },
    "id": "eCd0sZba89GH",
    "outputId": "cb268f3c-efe9-4d10-e641-069beb4d948e"
   },
   "outputs": [
    {
     "data": {
      "text/plain": [
       "False"
      ]
     },
     "execution_count": 27,
     "metadata": {
      "tags": []
     },
     "output_type": "execute_result"
    }
   ],
   "source": [
    "b2_pred[60]"
   ]
  },
  {
   "cell_type": "markdown",
   "metadata": {},
   "source": [
    "## Evaluation of 2nd innings predictions"
   ]
  },
  {
   "cell_type": "code",
   "execution_count": 28,
   "metadata": {
    "colab": {
     "base_uri": "https://localhost:8080/"
    },
    "executionInfo": {
     "elapsed": 55126,
     "status": "ok",
     "timestamp": 1612462050462,
     "user": {
      "displayName": "aniket somwanshi",
      "photoUrl": "",
      "userId": "14453870072283828271"
     },
     "user_tz": -330
    },
    "id": "R4-A4vd61eTa",
    "outputId": "113862af-24f4-4dbd-8be3-652d2a3f886d"
   },
   "outputs": [
    {
     "name": "stdout",
     "output_type": "stream",
     "text": [
      "              precision    recall  f1-score   support\n",
      "\n",
      "           0       0.97      1.00      0.99       264\n",
      "           1       1.00      0.80      0.89        40\n",
      "\n",
      "    accuracy                           0.97       304\n",
      "   macro avg       0.99      0.90      0.94       304\n",
      "weighted avg       0.97      0.97      0.97       304\n",
      "\n"
     ]
    }
   ],
   "source": [
    "# TEST\n",
    "print(classification_report(y_test_2, y_pred_2))"
   ]
  },
  {
   "cell_type": "markdown",
   "metadata": {},
   "source": [
    "## Save 2nd innings alerts"
   ]
  },
  {
   "cell_type": "code",
   "execution_count": 29,
   "metadata": {
    "colab": {
     "base_uri": "https://localhost:8080/",
     "height": 224
    },
    "executionInfo": {
     "elapsed": 55100,
     "status": "ok",
     "timestamp": 1612462050463,
     "user": {
      "displayName": "aniket somwanshi",
      "photoUrl": "",
      "userId": "14453870072283828271"
     },
     "user_tz": -330
    },
    "id": "n1yWR8Mc5F8R",
    "outputId": "7be38279-3a45-4f5a-b385-82404a99bc45"
   },
   "outputs": [
    {
     "data": {
      "text/html": [
       "<div>\n",
       "<style scoped>\n",
       "    .dataframe tbody tr th:only-of-type {\n",
       "        vertical-align: middle;\n",
       "    }\n",
       "\n",
       "    .dataframe tbody tr th {\n",
       "        vertical-align: top;\n",
       "    }\n",
       "\n",
       "    .dataframe thead th {\n",
       "        text-align: right;\n",
       "    }\n",
       "</style>\n",
       "<table border=\"1\" class=\"dataframe\">\n",
       "  <thead>\n",
       "    <tr style=\"text-align: right;\">\n",
       "      <th></th>\n",
       "      <th>ball</th>\n",
       "      <th>wickets_so_far</th>\n",
       "      <th>balls_in_partnership</th>\n",
       "      <th>runs_so_far</th>\n",
       "      <th>run_rate_last_5_overs</th>\n",
       "      <th>balls_since_last_boundary</th>\n",
       "      <th>strike_rate</th>\n",
       "      <th>bowling_average</th>\n",
       "      <th>batting_average</th>\n",
       "      <th>bowling_strike_rate</th>\n",
       "      <th>required_run_rate</th>\n",
       "      <th>predicted_big_moment</th>\n",
       "    </tr>\n",
       "  </thead>\n",
       "  <tbody>\n",
       "    <tr>\n",
       "      <th>32</th>\n",
       "      <td>5.1</td>\n",
       "      <td>0</td>\n",
       "      <td>32</td>\n",
       "      <td>10</td>\n",
       "      <td>2.0</td>\n",
       "      <td>32</td>\n",
       "      <td>88.92</td>\n",
       "      <td>28.20</td>\n",
       "      <td>49.14</td>\n",
       "      <td>28.4</td>\n",
       "      <td>6.080178</td>\n",
       "      <td>1</td>\n",
       "    </tr>\n",
       "    <tr>\n",
       "      <th>33</th>\n",
       "      <td>5.2</td>\n",
       "      <td>0</td>\n",
       "      <td>33</td>\n",
       "      <td>10</td>\n",
       "      <td>2.0</td>\n",
       "      <td>33</td>\n",
       "      <td>88.92</td>\n",
       "      <td>28.20</td>\n",
       "      <td>49.14</td>\n",
       "      <td>28.4</td>\n",
       "      <td>6.093750</td>\n",
       "      <td>1</td>\n",
       "    </tr>\n",
       "    <tr>\n",
       "      <th>44</th>\n",
       "      <td>7.1</td>\n",
       "      <td>1</td>\n",
       "      <td>10</td>\n",
       "      <td>18</td>\n",
       "      <td>2.6</td>\n",
       "      <td>3</td>\n",
       "      <td>80.89</td>\n",
       "      <td>28.20</td>\n",
       "      <td>59.84</td>\n",
       "      <td>28.4</td>\n",
       "      <td>6.177156</td>\n",
       "      <td>1</td>\n",
       "    </tr>\n",
       "    <tr>\n",
       "      <th>45</th>\n",
       "      <td>7.2</td>\n",
       "      <td>1</td>\n",
       "      <td>11</td>\n",
       "      <td>18</td>\n",
       "      <td>2.6</td>\n",
       "      <td>4</td>\n",
       "      <td>80.89</td>\n",
       "      <td>28.20</td>\n",
       "      <td>59.84</td>\n",
       "      <td>28.4</td>\n",
       "      <td>6.191589</td>\n",
       "      <td>1</td>\n",
       "    </tr>\n",
       "    <tr>\n",
       "      <th>112</th>\n",
       "      <td>18.1</td>\n",
       "      <td>1</td>\n",
       "      <td>78</td>\n",
       "      <td>66</td>\n",
       "      <td>3.0</td>\n",
       "      <td>41</td>\n",
       "      <td>94.01</td>\n",
       "      <td>25.03</td>\n",
       "      <td>44.50</td>\n",
       "      <td>24.7</td>\n",
       "      <td>6.802508</td>\n",
       "      <td>1</td>\n",
       "    </tr>\n",
       "  </tbody>\n",
       "</table>\n",
       "</div>"
      ],
      "text/plain": [
       "     ball  wickets_so_far  ...  required_run_rate  predicted_big_moment\n",
       "32    5.1               0  ...           6.080178                     1\n",
       "33    5.2               0  ...           6.093750                     1\n",
       "44    7.1               1  ...           6.177156                     1\n",
       "45    7.2               1  ...           6.191589                     1\n",
       "112  18.1               1  ...           6.802508                     1\n",
       "\n",
       "[5 rows x 12 columns]"
      ]
     },
     "execution_count": 29,
     "metadata": {
      "tags": []
     },
     "output_type": "execute_result"
    }
   ],
   "source": [
    "# export results of innings 2 \n",
    "X_test['predicted_big_moment'] = y_pred_2\n",
    "inning_2_big_moments = X_test[X_test['predicted_big_moment'] == 1]\n",
    "inning_2_big_moments.head()"
   ]
  },
  {
   "cell_type": "markdown",
   "metadata": {
    "id": "PXW5mWZXLY5C"
   },
   "source": [
    "## Generate 1st inn boundary predictions"
   ]
  },
  {
   "cell_type": "code",
   "execution_count": 30,
   "metadata": {
    "executionInfo": {
     "elapsed": 55089,
     "status": "ok",
     "timestamp": 1612462050463,
     "user": {
      "displayName": "aniket somwanshi",
      "photoUrl": "",
      "userId": "14453870072283828271"
     },
     "user_tz": -330
    },
    "id": "QpNBbwbCLdG8"
   },
   "outputs": [],
   "source": [
    "df1b = df1.copy()"
   ]
  },
  {
   "cell_type": "code",
   "execution_count": 31,
   "metadata": {
    "colab": {
     "base_uri": "https://localhost:8080/",
     "height": 224
    },
    "executionInfo": {
     "elapsed": 55074,
     "status": "ok",
     "timestamp": 1612462050464,
     "user": {
      "displayName": "aniket somwanshi",
      "photoUrl": "",
      "userId": "14453870072283828271"
     },
     "user_tz": -330
    },
    "id": "cjNd56CwLkBT",
    "outputId": "127dc94c-c428-49bd-e644-38bf30c63f52"
   },
   "outputs": [
    {
     "data": {
      "text/html": [
       "<div>\n",
       "<style scoped>\n",
       "    .dataframe tbody tr th:only-of-type {\n",
       "        vertical-align: middle;\n",
       "    }\n",
       "\n",
       "    .dataframe tbody tr th {\n",
       "        vertical-align: top;\n",
       "    }\n",
       "\n",
       "    .dataframe thead th {\n",
       "        text-align: right;\n",
       "    }\n",
       "</style>\n",
       "<table border=\"1\" class=\"dataframe\">\n",
       "  <thead>\n",
       "    <tr style=\"text-align: right;\">\n",
       "      <th></th>\n",
       "      <th>ball</th>\n",
       "      <th>wickets_so_far</th>\n",
       "      <th>balls_in_partnership</th>\n",
       "      <th>runs_so_far</th>\n",
       "      <th>run_rate_last_5_overs</th>\n",
       "      <th>balls_since_last_boundary</th>\n",
       "      <th>boundary_this_over</th>\n",
       "      <th>strike_rate</th>\n",
       "      <th>bowling_average</th>\n",
       "      <th>batting_average</th>\n",
       "      <th>bowling_strike_rate</th>\n",
       "    </tr>\n",
       "  </thead>\n",
       "  <tbody>\n",
       "    <tr>\n",
       "      <th>0</th>\n",
       "      <td>0.1</td>\n",
       "      <td>0</td>\n",
       "      <td>0</td>\n",
       "      <td>0</td>\n",
       "      <td>0.000000</td>\n",
       "      <td>0</td>\n",
       "      <td>1</td>\n",
       "      <td>87.34</td>\n",
       "      <td>34.6</td>\n",
       "      <td>42.20</td>\n",
       "      <td>41.2</td>\n",
       "    </tr>\n",
       "    <tr>\n",
       "      <th>1</th>\n",
       "      <td>0.2</td>\n",
       "      <td>0</td>\n",
       "      <td>1</td>\n",
       "      <td>1</td>\n",
       "      <td>5.000000</td>\n",
       "      <td>1</td>\n",
       "      <td>1</td>\n",
       "      <td>95.31</td>\n",
       "      <td>34.6</td>\n",
       "      <td>33.21</td>\n",
       "      <td>41.2</td>\n",
       "    </tr>\n",
       "    <tr>\n",
       "      <th>2</th>\n",
       "      <td>0.3</td>\n",
       "      <td>0</td>\n",
       "      <td>2</td>\n",
       "      <td>1</td>\n",
       "      <td>3.333333</td>\n",
       "      <td>2</td>\n",
       "      <td>1</td>\n",
       "      <td>95.31</td>\n",
       "      <td>34.6</td>\n",
       "      <td>33.21</td>\n",
       "      <td>41.2</td>\n",
       "    </tr>\n",
       "    <tr>\n",
       "      <th>3</th>\n",
       "      <td>0.4</td>\n",
       "      <td>0</td>\n",
       "      <td>3</td>\n",
       "      <td>1</td>\n",
       "      <td>2.500000</td>\n",
       "      <td>3</td>\n",
       "      <td>1</td>\n",
       "      <td>95.31</td>\n",
       "      <td>34.6</td>\n",
       "      <td>33.21</td>\n",
       "      <td>41.2</td>\n",
       "    </tr>\n",
       "    <tr>\n",
       "      <th>4</th>\n",
       "      <td>0.5</td>\n",
       "      <td>0</td>\n",
       "      <td>4</td>\n",
       "      <td>1</td>\n",
       "      <td>2.000000</td>\n",
       "      <td>4</td>\n",
       "      <td>1</td>\n",
       "      <td>95.31</td>\n",
       "      <td>34.6</td>\n",
       "      <td>33.21</td>\n",
       "      <td>41.2</td>\n",
       "    </tr>\n",
       "  </tbody>\n",
       "</table>\n",
       "</div>"
      ],
      "text/plain": [
       "   ball  wickets_so_far  ...  batting_average  bowling_strike_rate\n",
       "0   0.1               0  ...            42.20                 41.2\n",
       "1   0.2               0  ...            33.21                 41.2\n",
       "2   0.3               0  ...            33.21                 41.2\n",
       "3   0.4               0  ...            33.21                 41.2\n",
       "4   0.5               0  ...            33.21                 41.2\n",
       "\n",
       "[5 rows x 11 columns]"
      ]
     },
     "execution_count": 31,
     "metadata": {
      "tags": []
     },
     "output_type": "execute_result"
    }
   ],
   "source": [
    "df1b.drop(['inning','required_run_rate', 'wicket_this_over','big_moment'], axis = 1, inplace = True) \n",
    "df1b.head()"
   ]
  },
  {
   "cell_type": "code",
   "execution_count": 32,
   "metadata": {
    "executionInfo": {
     "elapsed": 55061,
     "status": "ok",
     "timestamp": 1612462050466,
     "user": {
      "displayName": "aniket somwanshi",
      "photoUrl": "",
      "userId": "14453870072283828271"
     },
     "user_tz": -330
    },
    "id": "AQ33J1M62dbJ"
   },
   "outputs": [],
   "source": [
    "X_test, y_test = preprocess_inputs_b(df1b)"
   ]
  },
  {
   "cell_type": "code",
   "execution_count": null,
   "metadata": {
    "colab": {
     "base_uri": "https://localhost:8080/"
    },
    "executionInfo": {
     "elapsed": 55861,
     "status": "ok",
     "timestamp": 1612462051278,
     "user": {
      "displayName": "aniket somwanshi",
      "photoUrl": "",
      "userId": "14453870072283828271"
     },
     "user_tz": -330
    },
    "id": "OzWVwjZk2rmN",
    "outputId": "87b395fe-a733-4a40-a465-6db2663b5de3"
   },
   "outputs": [],
   "source": [
    "# rf_pred = rf.predict(X_test)\n",
    "b1_pred = (boundary_1.predict_proba(X_test)[:,1] >= 0.5).astype(bool) # set threshold "
   ]
  },
  {
   "cell_type": "markdown",
   "metadata": {},
   "source": [
    "## Genetate 1st inn wicket predictions"
   ]
  },
  {
   "cell_type": "code",
   "execution_count": 34,
   "metadata": {
    "colab": {
     "base_uri": "https://localhost:8080/",
     "height": 224
    },
    "executionInfo": {
     "elapsed": 55841,
     "status": "ok",
     "timestamp": 1612462051279,
     "user": {
      "displayName": "aniket somwanshi",
      "photoUrl": "",
      "userId": "14453870072283828271"
     },
     "user_tz": -330
    },
    "id": "OBMrY-7f3XnD",
    "outputId": "28b82e62-47aa-4b10-fec9-12b3f1b08961"
   },
   "outputs": [
    {
     "data": {
      "text/html": [
       "<div>\n",
       "<style scoped>\n",
       "    .dataframe tbody tr th:only-of-type {\n",
       "        vertical-align: middle;\n",
       "    }\n",
       "\n",
       "    .dataframe tbody tr th {\n",
       "        vertical-align: top;\n",
       "    }\n",
       "\n",
       "    .dataframe thead th {\n",
       "        text-align: right;\n",
       "    }\n",
       "</style>\n",
       "<table border=\"1\" class=\"dataframe\">\n",
       "  <thead>\n",
       "    <tr style=\"text-align: right;\">\n",
       "      <th></th>\n",
       "      <th>ball</th>\n",
       "      <th>wickets_so_far</th>\n",
       "      <th>balls_in_partnership</th>\n",
       "      <th>runs_so_far</th>\n",
       "      <th>run_rate_last_5_overs</th>\n",
       "      <th>balls_since_last_boundary</th>\n",
       "      <th>wicket_this_over</th>\n",
       "      <th>strike_rate</th>\n",
       "      <th>bowling_average</th>\n",
       "      <th>batting_average</th>\n",
       "      <th>bowling_strike_rate</th>\n",
       "    </tr>\n",
       "  </thead>\n",
       "  <tbody>\n",
       "    <tr>\n",
       "      <th>0</th>\n",
       "      <td>0.1</td>\n",
       "      <td>0</td>\n",
       "      <td>0</td>\n",
       "      <td>0</td>\n",
       "      <td>0.000000</td>\n",
       "      <td>0</td>\n",
       "      <td>0</td>\n",
       "      <td>87.34</td>\n",
       "      <td>34.6</td>\n",
       "      <td>42.20</td>\n",
       "      <td>41.2</td>\n",
       "    </tr>\n",
       "    <tr>\n",
       "      <th>1</th>\n",
       "      <td>0.2</td>\n",
       "      <td>0</td>\n",
       "      <td>1</td>\n",
       "      <td>1</td>\n",
       "      <td>5.000000</td>\n",
       "      <td>1</td>\n",
       "      <td>0</td>\n",
       "      <td>95.31</td>\n",
       "      <td>34.6</td>\n",
       "      <td>33.21</td>\n",
       "      <td>41.2</td>\n",
       "    </tr>\n",
       "    <tr>\n",
       "      <th>2</th>\n",
       "      <td>0.3</td>\n",
       "      <td>0</td>\n",
       "      <td>2</td>\n",
       "      <td>1</td>\n",
       "      <td>3.333333</td>\n",
       "      <td>2</td>\n",
       "      <td>0</td>\n",
       "      <td>95.31</td>\n",
       "      <td>34.6</td>\n",
       "      <td>33.21</td>\n",
       "      <td>41.2</td>\n",
       "    </tr>\n",
       "    <tr>\n",
       "      <th>3</th>\n",
       "      <td>0.4</td>\n",
       "      <td>0</td>\n",
       "      <td>3</td>\n",
       "      <td>1</td>\n",
       "      <td>2.500000</td>\n",
       "      <td>3</td>\n",
       "      <td>0</td>\n",
       "      <td>95.31</td>\n",
       "      <td>34.6</td>\n",
       "      <td>33.21</td>\n",
       "      <td>41.2</td>\n",
       "    </tr>\n",
       "    <tr>\n",
       "      <th>4</th>\n",
       "      <td>0.5</td>\n",
       "      <td>0</td>\n",
       "      <td>4</td>\n",
       "      <td>1</td>\n",
       "      <td>2.000000</td>\n",
       "      <td>4</td>\n",
       "      <td>0</td>\n",
       "      <td>95.31</td>\n",
       "      <td>34.6</td>\n",
       "      <td>33.21</td>\n",
       "      <td>41.2</td>\n",
       "    </tr>\n",
       "  </tbody>\n",
       "</table>\n",
       "</div>"
      ],
      "text/plain": [
       "   ball  wickets_so_far  ...  batting_average  bowling_strike_rate\n",
       "0   0.1               0  ...            42.20                 41.2\n",
       "1   0.2               0  ...            33.21                 41.2\n",
       "2   0.3               0  ...            33.21                 41.2\n",
       "3   0.4               0  ...            33.21                 41.2\n",
       "4   0.5               0  ...            33.21                 41.2\n",
       "\n",
       "[5 rows x 11 columns]"
      ]
     },
     "execution_count": 34,
     "metadata": {
      "tags": []
     },
     "output_type": "execute_result"
    }
   ],
   "source": [
    "df1w = df1.copy()\n",
    "df1w.drop(['inning','required_run_rate','boundary_this_over','big_moment'], axis = 1, inplace = True) \n",
    "df1w.head()"
   ]
  },
  {
   "cell_type": "code",
   "execution_count": 35,
   "metadata": {
    "executionInfo": {
     "elapsed": 55832,
     "status": "ok",
     "timestamp": 1612462051280,
     "user": {
      "displayName": "aniket somwanshi",
      "photoUrl": "",
      "userId": "14453870072283828271"
     },
     "user_tz": -330
    },
    "id": "m8odnO4i3g0v"
   },
   "outputs": [],
   "source": [
    "X_test, y_test = preprocess_inputs_w(df1w)"
   ]
  },
  {
   "cell_type": "code",
   "execution_count": null,
   "metadata": {
    "colab": {
     "base_uri": "https://localhost:8080/"
    },
    "executionInfo": {
     "elapsed": 55825,
     "status": "ok",
     "timestamp": 1612462051281,
     "user": {
      "displayName": "aniket somwanshi",
      "photoUrl": "",
      "userId": "14453870072283828271"
     },
     "user_tz": -330
    },
    "id": "zGaq0WTF3kE7",
    "outputId": "b5e7138b-c459-47d8-e427-e76fde36acdf"
   },
   "outputs": [],
   "source": [
    "w1_pred = (wicket_1.predict_proba(X_test)[:,1] >= 0.45).astype(bool) # set threshold "
   ]
  },
  {
   "cell_type": "markdown",
   "metadata": {},
   "source": [
    "## Merged test set for 1st innings"
   ]
  },
  {
   "cell_type": "code",
   "execution_count": 37,
   "metadata": {
    "executionInfo": {
     "elapsed": 55814,
     "status": "ok",
     "timestamp": 1612462051282,
     "user": {
      "displayName": "aniket somwanshi",
      "photoUrl": "",
      "userId": "14453870072283828271"
     },
     "user_tz": -330
    },
    "id": "lBmpNzA03yg0"
   },
   "outputs": [],
   "source": [
    "# create merged y_test\n",
    "# y_test_2\n",
    "df1 = df1.loc[:,'big_moment']\n",
    "y_test_1 = df1.values"
   ]
  },
  {
   "cell_type": "markdown",
   "metadata": {},
   "source": [
    "## Merged predictions for 1st innings"
   ]
  },
  {
   "cell_type": "code",
   "execution_count": 38,
   "metadata": {
    "executionInfo": {
     "elapsed": 55806,
     "status": "ok",
     "timestamp": 1612462051282,
     "user": {
      "displayName": "aniket somwanshi",
      "photoUrl": "",
      "userId": "14453870072283828271"
     },
     "user_tz": -330
    },
    "id": "7S90a6VF34Qn"
   },
   "outputs": [],
   "source": [
    "# create merged y_pred\n",
    "y_pred_1 = np.logical_or(w1_pred, b1_pred).astype(int)"
   ]
  },
  {
   "cell_type": "markdown",
   "metadata": {},
   "source": [
    "## Evaluation of 1st innings predictions"
   ]
  },
  {
   "cell_type": "code",
   "execution_count": 39,
   "metadata": {
    "colab": {
     "base_uri": "https://localhost:8080/"
    },
    "executionInfo": {
     "elapsed": 55797,
     "status": "ok",
     "timestamp": 1612462051283,
     "user": {
      "displayName": "aniket somwanshi",
      "photoUrl": "",
      "userId": "14453870072283828271"
     },
     "user_tz": -330
    },
    "id": "HiXrqb9Y39Gh",
    "outputId": "386ce018-f0c5-48be-aee3-59536b20f21e"
   },
   "outputs": [
    {
     "name": "stdout",
     "output_type": "stream",
     "text": [
      "              precision    recall  f1-score   support\n",
      "\n",
      "           0       0.93      1.00      0.96       246\n",
      "           1       1.00      0.68      0.81        60\n",
      "\n",
      "    accuracy                           0.94       306\n",
      "   macro avg       0.96      0.84      0.89       306\n",
      "weighted avg       0.94      0.94      0.93       306\n",
      "\n"
     ]
    }
   ],
   "source": [
    "# TEST\n",
    "print(classification_report(y_test_1, y_pred_1))"
   ]
  },
  {
   "cell_type": "markdown",
   "metadata": {},
   "source": [
    "## Export 1st inning alerts"
   ]
  },
  {
   "cell_type": "code",
   "execution_count": 40,
   "metadata": {
    "executionInfo": {
     "elapsed": 55788,
     "status": "ok",
     "timestamp": 1612462051284,
     "user": {
      "displayName": "aniket somwanshi",
      "photoUrl": "",
      "userId": "14453870072283828271"
     },
     "user_tz": -330
    },
    "id": "5WLl0LP34ibN"
   },
   "outputs": [],
   "source": [
    "# export results of innings 1\n",
    "X_test['predicted_big_moment'] = y_pred_1\n",
    "inning_1_big_moments = X_test[X_test['predicted_big_moment'] == 1]"
   ]
  },
  {
   "cell_type": "code",
   "execution_count": 43,
   "metadata": {
    "colab": {
     "base_uri": "https://localhost:8080/"
    },
    "executionInfo": {
     "elapsed": 925,
     "status": "ok",
     "timestamp": 1612462386917,
     "user": {
      "displayName": "aniket somwanshi",
      "photoUrl": "",
      "userId": "14453870072283828271"
     },
     "user_tz": -330
    },
    "id": "fUEWM56B6FwN",
    "outputId": "f989dc25-4b2a-4a80-d8dd-93bf3c6d4fc8"
   },
   "outputs": [
    {
     "name": "stdout",
     "output_type": "stream",
     "text": [
      "['0.1', '0.2', '0.4', '1.3', '3.1', '3.2', '3.3', '3.4', '3.5', '7.1', '7.2', '7.3', '7.4', '14.1', '14.2', '32.1', '32.6', '39.4', '40.1', '40.2', '40.3', '41.2', '41.3', '41.4', '43.2', '43.3', '43.4', '43.5', '44.1', '44.2', '44.3', '44.4', '47.1', '47.2', '47.3', '48.1', '48.2', '48.3', '48.4', '48.5', '48.6']\n",
      "['5.1', '5.2', '7.1', '7.2', '18.1', '20.1', '20.2', '20.3', '20.4', '20.5', '20.6', '28.1', '28.2', '35.1', '38.1', '38.2', '42.1', '42.2', '42.3', '42.4', '42.5', '42.6', '44.1', '45.1', '46.1', '46.2', '46.3', '47.1', '47.2', '48.1', '48.3', '48.4']\n"
     ]
    }
   ],
   "source": [
    "print(inning_1_big_moments['ball'].astype(str).tolist())\n",
    "print(inning_2_big_moments['ball'].astype(str).tolist())"
   ]
  }
 ],
 "metadata": {
  "accelerator": "GPU",
  "colab": {
   "collapsed_sections": [],
   "name": "predict_big_moments_by_match_id.ipynb",
   "provenance": [],
   "toc_visible": true
  },
  "kernelspec": {
   "display_name": "Python 3",
   "language": "python",
   "name": "python3"
  },
  "language_info": {
   "codemirror_mode": {
    "name": "ipython",
    "version": 3
   },
   "file_extension": ".py",
   "mimetype": "text/x-python",
   "name": "python",
   "nbconvert_exporter": "python",
   "pygments_lexer": "ipython3",
   "version": "3.8.5"
  },
  "papermill": {
   "duration": 18.677598,
   "end_time": "2020-12-26T04:33:06.638327",
   "environment_variables": {},
   "exception": null,
   "input_path": "__notebook__.ipynb",
   "output_path": "__notebook__.ipynb",
   "parameters": {},
   "start_time": "2020-12-26T04:32:47.960729",
   "version": "2.1.0"
  }
 },
 "nbformat": 4,
 "nbformat_minor": 1
}

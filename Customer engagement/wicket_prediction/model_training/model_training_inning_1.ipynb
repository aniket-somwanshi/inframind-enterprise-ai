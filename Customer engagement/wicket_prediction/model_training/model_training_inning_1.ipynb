{
 "cells": [
  {
   "cell_type": "markdown",
   "metadata": {
    "id": "2WKMRCuwYRaP",
    "papermill": {
     "duration": 0.009151,
     "end_time": "2020-12-26T04:32:52.101918",
     "exception": false,
     "start_time": "2020-12-26T04:32:52.092767",
     "status": "completed"
    },
    "tags": []
   },
   "source": [
    "# Import 1st innings dataset"
   ]
  },
  {
   "cell_type": "code",
   "execution_count": 19,
   "metadata": {
    "colab": {
     "base_uri": "https://localhost:8080/"
    },
    "executionInfo": {
     "elapsed": 924,
     "status": "ok",
     "timestamp": 1611764345165,
     "user": {
      "displayName": "aniket somwanshi",
      "photoUrl": "",
      "userId": "14453870072283828271"
     },
     "user_tz": -330
    },
    "id": "ENJnTi_UYyU-",
    "outputId": "ebdce5be-4101-4900-d8be-21d3162e363a"
   },
   "outputs": [
    {
     "name": "stdout",
     "output_type": "stream",
     "text": [
      "Drive already mounted at /content/drive; to attempt to forcibly remount, call drive.mount(\"/content/drive\", force_remount=True).\n"
     ]
    }
   ],
   "source": [
    "from google.colab import drive\n",
    "drive.mount('/content/drive')"
   ]
  },
  {
   "cell_type": "code",
   "execution_count": 20,
   "metadata": {
    "_cell_guid": "79c7e3d0-c299-4dcb-8224-4455121ee9b0",
    "_uuid": "d629ff2d2480ee46fbb7e2d37f6b5fab8052498a",
    "execution": {
     "iopub.execute_input": "2020-12-26T04:32:52.129125Z",
     "iopub.status.busy": "2020-12-26T04:32:52.128425Z",
     "iopub.status.idle": "2020-12-26T04:32:54.203903Z",
     "shell.execute_reply": "2020-12-26T04:32:54.203283Z"
    },
    "executionInfo": {
     "elapsed": 1661,
     "status": "ok",
     "timestamp": 1611764345918,
     "user": {
      "displayName": "aniket somwanshi",
      "photoUrl": "",
      "userId": "14453870072283828271"
     },
     "user_tz": -330
    },
    "id": "wzYCogF3YRaY",
    "papermill": {
     "duration": 2.092098,
     "end_time": "2020-12-26T04:32:54.204008",
     "exception": false,
     "start_time": "2020-12-26T04:32:52.111910",
     "status": "completed"
    },
    "tags": []
   },
   "outputs": [],
   "source": [
    "import numpy as np\n",
    "import pandas as pd\n",
    "\n",
    "# import re\n",
    "# from sklearn.model_selection import train_test_split\n",
    "# from sklearn.preprocessing import StandardScaler\n",
    "\n",
    "# # model imports\n",
    "# from sklearn.linear_model import LinearRegression\n",
    "# from sklearn.neighbors import KNeighborsRegressor\n",
    "# from sklearn.neural_network import MLPRegressor\n",
    "# from sklearn.svm import LinearSVR, SVR\n",
    "# from sklearn.tree import DecisionTreeRegressor\n",
    "# from sklearn.ensemble import RandomForestRegressor, GradientBoostingRegressor\n",
    "\n",
    "# !pip3 install catboost\n",
    "# from catboost import CatBoostClassifier\n",
    "# #import sys\n",
    "# #!{sys.executable} -m pip install xgboost\n",
    "# from xgboost import XGBRegressor\n",
    "\n",
    "# additional imports\n",
    "from matplotlib import pyplot\n",
    "\n"
   ]
  },
  {
   "cell_type": "code",
   "execution_count": 21,
   "metadata": {
    "execution": {
     "iopub.execute_input": "2020-12-26T04:32:54.341812Z",
     "iopub.status.busy": "2020-12-26T04:32:54.341322Z",
     "iopub.status.idle": "2020-12-26T04:32:54.351169Z",
     "shell.execute_reply": "2020-12-26T04:32:54.351623Z"
    },
    "executionInfo": {
     "elapsed": 1655,
     "status": "ok",
     "timestamp": 1611764345919,
     "user": {
      "displayName": "aniket somwanshi",
      "photoUrl": "",
      "userId": "14453870072283828271"
     },
     "user_tz": -330
    },
    "id": "I6ee6mP1YRah",
    "papermill": {
     "duration": 0.027021,
     "end_time": "2020-12-26T04:32:54.351736",
     "exception": false,
     "start_time": "2020-12-26T04:32:54.324715",
     "status": "completed"
    },
    "tags": []
   },
   "outputs": [],
   "source": [
    "df = pd.read_csv('/content/drive/MyDrive/Inframind/Customer engagement/original_dataset/processed_dataset_inning_1.csv')\n"
   ]
  },
  {
   "cell_type": "markdown",
   "metadata": {
    "id": "BEd_Ke3uYRai",
    "papermill": {
     "duration": 0.01167,
     "end_time": "2020-12-26T04:32:54.374953",
     "exception": false,
     "start_time": "2020-12-26T04:32:54.363283",
     "status": "completed"
    },
    "tags": []
   },
   "source": [
    "# Preprocessing"
   ]
  },
  {
   "cell_type": "code",
   "execution_count": 22,
   "metadata": {
    "colab": {
     "base_uri": "https://localhost:8080/",
     "height": 224
    },
    "execution": {
     "iopub.execute_input": "2020-12-26T04:32:54.399774Z",
     "iopub.status.busy": "2020-12-26T04:32:54.399285Z",
     "iopub.status.idle": "2020-12-26T04:32:54.421604Z",
     "shell.execute_reply": "2020-12-26T04:32:54.422072Z"
    },
    "executionInfo": {
     "elapsed": 1650,
     "status": "ok",
     "timestamp": 1611764345920,
     "user": {
      "displayName": "aniket somwanshi",
      "photoUrl": "",
      "userId": "14453870072283828271"
     },
     "user_tz": -330
    },
    "id": "UP3EPaaJYRax",
    "outputId": "0a0cab26-2977-4685-db36-792d2fff1ba1",
    "papermill": {
     "duration": 0.03611,
     "end_time": "2020-12-26T04:32:54.422195",
     "exception": false,
     "start_time": "2020-12-26T04:32:54.386085",
     "status": "completed"
    },
    "tags": []
   },
   "outputs": [
    {
     "data": {
      "text/html": [
       "<div>\n",
       "<style scoped>\n",
       "    .dataframe tbody tr th:only-of-type {\n",
       "        vertical-align: middle;\n",
       "    }\n",
       "\n",
       "    .dataframe tbody tr th {\n",
       "        vertical-align: top;\n",
       "    }\n",
       "\n",
       "    .dataframe thead th {\n",
       "        text-align: right;\n",
       "    }\n",
       "</style>\n",
       "<table border=\"1\" class=\"dataframe\">\n",
       "  <thead>\n",
       "    <tr style=\"text-align: right;\">\n",
       "      <th></th>\n",
       "      <th>inning</th>\n",
       "      <th>ball</th>\n",
       "      <th>wickets_so_far</th>\n",
       "      <th>balls_in_partnership</th>\n",
       "      <th>runs_so_far</th>\n",
       "      <th>run_rate_last_5_overs</th>\n",
       "      <th>balls_since_last_boundary</th>\n",
       "      <th>boundary_this_over</th>\n",
       "      <th>wicket_this_over</th>\n",
       "      <th>strike_rate</th>\n",
       "      <th>bowling_average</th>\n",
       "      <th>batting_average</th>\n",
       "      <th>bowling_strike_rate</th>\n",
       "      <th>required_run_rate</th>\n",
       "      <th>big_moment</th>\n",
       "    </tr>\n",
       "  </thead>\n",
       "  <tbody>\n",
       "    <tr>\n",
       "      <th>0</th>\n",
       "      <td>1</td>\n",
       "      <td>0.1</td>\n",
       "      <td>0</td>\n",
       "      <td>0</td>\n",
       "      <td>0</td>\n",
       "      <td>0.0</td>\n",
       "      <td>0</td>\n",
       "      <td>0</td>\n",
       "      <td>0</td>\n",
       "      <td>95.94</td>\n",
       "      <td>29.62</td>\n",
       "      <td>45.77</td>\n",
       "      <td>37.1</td>\n",
       "      <td>0.0</td>\n",
       "      <td>0</td>\n",
       "    </tr>\n",
       "    <tr>\n",
       "      <th>1</th>\n",
       "      <td>1</td>\n",
       "      <td>0.2</td>\n",
       "      <td>0</td>\n",
       "      <td>1</td>\n",
       "      <td>0</td>\n",
       "      <td>0.0</td>\n",
       "      <td>1</td>\n",
       "      <td>0</td>\n",
       "      <td>0</td>\n",
       "      <td>95.94</td>\n",
       "      <td>29.62</td>\n",
       "      <td>45.77</td>\n",
       "      <td>37.1</td>\n",
       "      <td>0.0</td>\n",
       "      <td>0</td>\n",
       "    </tr>\n",
       "    <tr>\n",
       "      <th>2</th>\n",
       "      <td>1</td>\n",
       "      <td>0.3</td>\n",
       "      <td>0</td>\n",
       "      <td>2</td>\n",
       "      <td>0</td>\n",
       "      <td>0.0</td>\n",
       "      <td>2</td>\n",
       "      <td>0</td>\n",
       "      <td>0</td>\n",
       "      <td>95.94</td>\n",
       "      <td>29.62</td>\n",
       "      <td>45.77</td>\n",
       "      <td>37.1</td>\n",
       "      <td>0.0</td>\n",
       "      <td>0</td>\n",
       "    </tr>\n",
       "    <tr>\n",
       "      <th>3</th>\n",
       "      <td>1</td>\n",
       "      <td>0.4</td>\n",
       "      <td>0</td>\n",
       "      <td>3</td>\n",
       "      <td>0</td>\n",
       "      <td>0.0</td>\n",
       "      <td>3</td>\n",
       "      <td>0</td>\n",
       "      <td>0</td>\n",
       "      <td>95.94</td>\n",
       "      <td>29.62</td>\n",
       "      <td>45.77</td>\n",
       "      <td>37.1</td>\n",
       "      <td>0.0</td>\n",
       "      <td>0</td>\n",
       "    </tr>\n",
       "    <tr>\n",
       "      <th>4</th>\n",
       "      <td>1</td>\n",
       "      <td>0.5</td>\n",
       "      <td>0</td>\n",
       "      <td>4</td>\n",
       "      <td>0</td>\n",
       "      <td>0.0</td>\n",
       "      <td>4</td>\n",
       "      <td>0</td>\n",
       "      <td>0</td>\n",
       "      <td>95.94</td>\n",
       "      <td>29.62</td>\n",
       "      <td>45.77</td>\n",
       "      <td>37.1</td>\n",
       "      <td>0.0</td>\n",
       "      <td>0</td>\n",
       "    </tr>\n",
       "  </tbody>\n",
       "</table>\n",
       "</div>"
      ],
      "text/plain": [
       "   inning  ball  ...  required_run_rate  big_moment\n",
       "0       1   0.1  ...                0.0           0\n",
       "1       1   0.2  ...                0.0           0\n",
       "2       1   0.3  ...                0.0           0\n",
       "3       1   0.4  ...                0.0           0\n",
       "4       1   0.5  ...                0.0           0\n",
       "\n",
       "[5 rows x 15 columns]"
      ]
     },
     "execution_count": 22,
     "metadata": {
      "tags": []
     },
     "output_type": "execute_result"
    }
   ],
   "source": [
    "df.head()"
   ]
  },
  {
   "cell_type": "code",
   "execution_count": 23,
   "metadata": {
    "colab": {
     "base_uri": "https://localhost:8080/",
     "height": 224
    },
    "executionInfo": {
     "elapsed": 2187,
     "status": "ok",
     "timestamp": 1611764346467,
     "user": {
      "displayName": "aniket somwanshi",
      "photoUrl": "",
      "userId": "14453870072283828271"
     },
     "user_tz": -330
    },
    "id": "2FgJRSxYPpSA",
    "outputId": "7cc62353-07f1-4ce1-deb0-f13d84bac4e0"
   },
   "outputs": [
    {
     "data": {
      "text/html": [
       "<div>\n",
       "<style scoped>\n",
       "    .dataframe tbody tr th:only-of-type {\n",
       "        vertical-align: middle;\n",
       "    }\n",
       "\n",
       "    .dataframe tbody tr th {\n",
       "        vertical-align: top;\n",
       "    }\n",
       "\n",
       "    .dataframe thead th {\n",
       "        text-align: right;\n",
       "    }\n",
       "</style>\n",
       "<table border=\"1\" class=\"dataframe\">\n",
       "  <thead>\n",
       "    <tr style=\"text-align: right;\">\n",
       "      <th></th>\n",
       "      <th>ball</th>\n",
       "      <th>wickets_so_far</th>\n",
       "      <th>balls_in_partnership</th>\n",
       "      <th>runs_so_far</th>\n",
       "      <th>run_rate_last_5_overs</th>\n",
       "      <th>balls_since_last_boundary</th>\n",
       "      <th>wicket_this_over</th>\n",
       "      <th>strike_rate</th>\n",
       "      <th>bowling_average</th>\n",
       "      <th>batting_average</th>\n",
       "      <th>bowling_strike_rate</th>\n",
       "    </tr>\n",
       "  </thead>\n",
       "  <tbody>\n",
       "    <tr>\n",
       "      <th>0</th>\n",
       "      <td>0.1</td>\n",
       "      <td>0</td>\n",
       "      <td>0</td>\n",
       "      <td>0</td>\n",
       "      <td>0.0</td>\n",
       "      <td>0</td>\n",
       "      <td>0</td>\n",
       "      <td>95.94</td>\n",
       "      <td>29.62</td>\n",
       "      <td>45.77</td>\n",
       "      <td>37.1</td>\n",
       "    </tr>\n",
       "    <tr>\n",
       "      <th>1</th>\n",
       "      <td>0.2</td>\n",
       "      <td>0</td>\n",
       "      <td>1</td>\n",
       "      <td>0</td>\n",
       "      <td>0.0</td>\n",
       "      <td>1</td>\n",
       "      <td>0</td>\n",
       "      <td>95.94</td>\n",
       "      <td>29.62</td>\n",
       "      <td>45.77</td>\n",
       "      <td>37.1</td>\n",
       "    </tr>\n",
       "    <tr>\n",
       "      <th>2</th>\n",
       "      <td>0.3</td>\n",
       "      <td>0</td>\n",
       "      <td>2</td>\n",
       "      <td>0</td>\n",
       "      <td>0.0</td>\n",
       "      <td>2</td>\n",
       "      <td>0</td>\n",
       "      <td>95.94</td>\n",
       "      <td>29.62</td>\n",
       "      <td>45.77</td>\n",
       "      <td>37.1</td>\n",
       "    </tr>\n",
       "    <tr>\n",
       "      <th>3</th>\n",
       "      <td>0.4</td>\n",
       "      <td>0</td>\n",
       "      <td>3</td>\n",
       "      <td>0</td>\n",
       "      <td>0.0</td>\n",
       "      <td>3</td>\n",
       "      <td>0</td>\n",
       "      <td>95.94</td>\n",
       "      <td>29.62</td>\n",
       "      <td>45.77</td>\n",
       "      <td>37.1</td>\n",
       "    </tr>\n",
       "    <tr>\n",
       "      <th>4</th>\n",
       "      <td>0.5</td>\n",
       "      <td>0</td>\n",
       "      <td>4</td>\n",
       "      <td>0</td>\n",
       "      <td>0.0</td>\n",
       "      <td>4</td>\n",
       "      <td>0</td>\n",
       "      <td>95.94</td>\n",
       "      <td>29.62</td>\n",
       "      <td>45.77</td>\n",
       "      <td>37.1</td>\n",
       "    </tr>\n",
       "  </tbody>\n",
       "</table>\n",
       "</div>"
      ],
      "text/plain": [
       "   ball  wickets_so_far  ...  batting_average  bowling_strike_rate\n",
       "0   0.1               0  ...            45.77                 37.1\n",
       "1   0.2               0  ...            45.77                 37.1\n",
       "2   0.3               0  ...            45.77                 37.1\n",
       "3   0.4               0  ...            45.77                 37.1\n",
       "4   0.5               0  ...            45.77                 37.1\n",
       "\n",
       "[5 rows x 11 columns]"
      ]
     },
     "execution_count": 23,
     "metadata": {
      "tags": []
     },
     "output_type": "execute_result"
    }
   ],
   "source": [
    "df.drop(['inning', 'required_run_rate','boundary_this_over','big_moment'], axis = 1, inplace = True) \n",
    "df.head()"
   ]
  },
  {
   "cell_type": "code",
   "execution_count": 24,
   "metadata": {
    "executionInfo": {
     "elapsed": 2185,
     "status": "ok",
     "timestamp": 1611764346472,
     "user": {
      "displayName": "aniket somwanshi",
      "photoUrl": "",
      "userId": "14453870072283828271"
     },
     "user_tz": -330
    },
    "id": "YqABQuh2rqcl"
   },
   "outputs": [],
   "source": [
    "df = df.dropna()"
   ]
  },
  {
   "cell_type": "code",
   "execution_count": 25,
   "metadata": {
    "colab": {
     "base_uri": "https://localhost:8080/"
    },
    "executionInfo": {
     "elapsed": 2180,
     "status": "ok",
     "timestamp": 1611764346473,
     "user": {
      "displayName": "aniket somwanshi",
      "photoUrl": "",
      "userId": "14453870072283828271"
     },
     "user_tz": -330
    },
    "id": "fmbkETMETtQ6",
    "outputId": "c5a9c84d-9383-4831-b969-2d4f72f8de67"
   },
   "outputs": [
    {
     "data": {
      "text/plain": [
       "386056"
      ]
     },
     "execution_count": 25,
     "metadata": {
      "tags": []
     },
     "output_type": "execute_result"
    }
   ],
   "source": [
    "len(df.index)"
   ]
  },
  {
   "cell_type": "markdown",
   "metadata": {},
   "source": [
    "## Randomizate the dataset rows"
   ]
  },
  {
   "cell_type": "code",
   "execution_count": 26,
   "metadata": {
    "executionInfo": {
     "elapsed": 2174,
     "status": "ok",
     "timestamp": 1611764346474,
     "user": {
      "displayName": "aniket somwanshi",
      "photoUrl": "",
      "userId": "14453870072283828271"
     },
     "user_tz": -330
    },
    "id": "7Ndcm-3uVjlx"
   },
   "outputs": [],
   "source": [
    "df = df.sample(frac=1).reset_index(drop=True)"
   ]
  },
  {
   "cell_type": "markdown",
   "metadata": {},
   "source": [
    "## Train-test split and oversampling "
   ]
  },
  {
   "cell_type": "code",
   "execution_count": 27,
   "metadata": {
    "colab": {
     "base_uri": "https://localhost:8080/"
    },
    "execution": {
     "iopub.execute_input": "2020-12-26T04:32:54.484195Z",
     "iopub.status.busy": "2020-12-26T04:32:54.483624Z",
     "iopub.status.idle": "2020-12-26T04:32:54.494766Z",
     "shell.execute_reply": "2020-12-26T04:32:54.495360Z"
    },
    "executionInfo": {
     "elapsed": 2617,
     "status": "ok",
     "timestamp": 1611764346923,
     "user": {
      "displayName": "aniket somwanshi",
      "photoUrl": "",
      "userId": "14453870072283828271"
     },
     "user_tz": -330
    },
    "id": "-TRSle8LYRbI",
    "outputId": "45cbdf06-bcf8-4839-91b7-c8fad1f2aebc",
    "papermill": {
     "duration": 0.026412,
     "end_time": "2020-12-26T04:32:54.495470",
     "exception": false,
     "start_time": "2020-12-26T04:32:54.469058",
     "status": "completed"
    },
    "tags": []
   },
   "outputs": [
    {
     "name": "stderr",
     "output_type": "stream",
     "text": [
      "/usr/local/lib/python3.6/dist-packages/sklearn/externals/six.py:31: FutureWarning: The module is deprecated in version 0.21 and will be removed in version 0.23 since we've dropped support for Python 2.7. Please rely on the official version of six (https://pypi.org/project/six/).\n",
      "  \"(https://pypi.org/project/six/).\", FutureWarning)\n",
      "/usr/local/lib/python3.6/dist-packages/sklearn/utils/deprecation.py:144: FutureWarning: The sklearn.neighbors.base module is  deprecated in version 0.22 and will be removed in version 0.24. The corresponding classes / functions should instead be imported from sklearn.neighbors. Anything that cannot be imported from sklearn.neighbors is now part of the private API.\n",
      "  warnings.warn(message, FutureWarning)\n"
     ]
    }
   ],
   "source": [
    "from imblearn.over_sampling import SMOTE\n",
    "def preprocess_inputs(data):\n",
    "  num_of_rows = 231314\n",
    "  \n",
    "  y = data['wicket_this_over'].copy()\n",
    "  x = data.drop('wicket_this_over', axis=1).copy()\n",
    "  \n",
    "  y_train = y.iloc[:num_of_rows] #indexes rows for test data\n",
    "  X_train = x.iloc[:num_of_rows] #indexes rows for training data\n",
    "\n",
    "  X_test = x.iloc[num_of_rows:] #indexes rows for training data\n",
    "  y_test = y.iloc[num_of_rows:] #indexes rows for test data\n",
    "\n",
    "\n",
    "\n",
    "  # perform oversampling for minority class\n",
    "  \n",
    "  smote = SMOTE(sampling_strategy=0.5)\n",
    "  X_train, y_train = smote.fit_sample(X_train, y_train)\n",
    "\n",
    "\n",
    "  return X_train, X_test, y_train, y_test"
   ]
  },
  {
   "cell_type": "code",
   "execution_count": 28,
   "metadata": {
    "colab": {
     "base_uri": "https://localhost:8080/"
    },
    "execution": {
     "iopub.execute_input": "2020-12-26T04:32:54.522973Z",
     "iopub.status.busy": "2020-12-26T04:32:54.522391Z",
     "iopub.status.idle": "2020-12-26T04:32:54.598431Z",
     "shell.execute_reply": "2020-12-26T04:32:54.597921Z"
    },
    "executionInfo": {
     "elapsed": 4014,
     "status": "ok",
     "timestamp": 1611764348327,
     "user": {
      "displayName": "aniket somwanshi",
      "photoUrl": "",
      "userId": "14453870072283828271"
     },
     "user_tz": -330
    },
    "id": "RijXdvvPYRbL",
    "outputId": "201d48ce-c2ee-42d9-e7be-dc20044829ee",
    "papermill": {
     "duration": 0.090911,
     "end_time": "2020-12-26T04:32:54.598528",
     "exception": false,
     "start_time": "2020-12-26T04:32:54.507617",
     "status": "completed"
    },
    "tags": []
   },
   "outputs": [
    {
     "name": "stderr",
     "output_type": "stream",
     "text": [
      "/usr/local/lib/python3.6/dist-packages/sklearn/utils/deprecation.py:87: FutureWarning: Function safe_indexing is deprecated; safe_indexing is deprecated in version 0.22 and will be removed in version 0.24.\n",
      "  warnings.warn(msg, category=FutureWarning)\n"
     ]
    }
   ],
   "source": [
    "X_train, X_test, y_train, y_test = preprocess_inputs(df)"
   ]
  },
  {
   "cell_type": "code",
   "execution_count": 29,
   "metadata": {
    "colab": {
     "base_uri": "https://localhost:8080/"
    },
    "executionInfo": {
     "elapsed": 4019,
     "status": "ok",
     "timestamp": 1611764348336,
     "user": {
      "displayName": "aniket somwanshi",
      "photoUrl": "",
      "userId": "14453870072283828271"
     },
     "user_tz": -330
    },
    "id": "PnYU8AGOreUg",
    "outputId": "90d9e4e3-8d97-45dd-f89b-5ae901da9ecc"
   },
   "outputs": [
    {
     "data": {
      "text/plain": [
       "(numpy.ndarray,\n",
       " pandas.core.frame.DataFrame,\n",
       " numpy.ndarray,\n",
       " pandas.core.series.Series)"
      ]
     },
     "execution_count": 29,
     "metadata": {
      "tags": []
     },
     "output_type": "execute_result"
    }
   ],
   "source": [
    "type(X_train), type(X_test), type(y_train) ,type(y_test)"
   ]
  },
  {
   "cell_type": "markdown",
   "metadata": {},
   "source": [
    "## Oversampling results"
   ]
  },
  {
   "cell_type": "code",
   "execution_count": 30,
   "metadata": {
    "colab": {
     "base_uri": "https://localhost:8080/"
    },
    "executionInfo": {
     "elapsed": 4016,
     "status": "ok",
     "timestamp": 1611764348337,
     "user": {
      "displayName": "aniket somwanshi",
      "photoUrl": "",
      "userId": "14453870072283828271"
     },
     "user_tz": -330
    },
    "id": "1SlZvl0Y8eMG",
    "outputId": "e0df56ad-8475-49ba-e495-e7a5043d7b3c"
   },
   "outputs": [
    {
     "name": "stdout",
     "output_type": "stream",
     "text": [
      "Frequency of unique values of the said array:\n",
      "[[     0      1]\n",
      " [209955 104977]]\n"
     ]
    }
   ],
   "source": [
    "unique_elements, counts_elements = np.unique(y_train, return_counts=True)\n",
    "print(\"Frequency of unique values of the said array:\")\n",
    "print(np.asarray((unique_elements, counts_elements)))\n"
   ]
  },
  {
   "cell_type": "code",
   "execution_count": 31,
   "metadata": {
    "colab": {
     "base_uri": "https://localhost:8080/",
     "height": 439
    },
    "execution": {
     "iopub.execute_input": "2020-12-26T04:32:54.638901Z",
     "iopub.status.busy": "2020-12-26T04:32:54.635470Z",
     "iopub.status.idle": "2020-12-26T04:32:54.652990Z",
     "shell.execute_reply": "2020-12-26T04:32:54.653467Z"
    },
    "executionInfo": {
     "elapsed": 4012,
     "status": "ok",
     "timestamp": 1611764348338,
     "user": {
      "displayName": "aniket somwanshi",
      "photoUrl": "",
      "userId": "14453870072283828271"
     },
     "user_tz": -330
    },
    "id": "6FOJZt-AYRbL",
    "outputId": "807f8d1f-41a2-4d1f-a65f-3c9293184958",
    "papermill": {
     "duration": 0.042276,
     "end_time": "2020-12-26T04:32:54.653599",
     "exception": false,
     "start_time": "2020-12-26T04:32:54.611323",
     "status": "completed"
    },
    "tags": []
   },
   "outputs": [
    {
     "data": {
      "text/html": [
       "<div>\n",
       "<style scoped>\n",
       "    .dataframe tbody tr th:only-of-type {\n",
       "        vertical-align: middle;\n",
       "    }\n",
       "\n",
       "    .dataframe tbody tr th {\n",
       "        vertical-align: top;\n",
       "    }\n",
       "\n",
       "    .dataframe thead th {\n",
       "        text-align: right;\n",
       "    }\n",
       "</style>\n",
       "<table border=\"1\" class=\"dataframe\">\n",
       "  <thead>\n",
       "    <tr style=\"text-align: right;\">\n",
       "      <th></th>\n",
       "      <th>ball</th>\n",
       "      <th>wickets_so_far</th>\n",
       "      <th>balls_in_partnership</th>\n",
       "      <th>runs_so_far</th>\n",
       "      <th>run_rate_last_5_overs</th>\n",
       "      <th>balls_since_last_boundary</th>\n",
       "      <th>strike_rate</th>\n",
       "      <th>bowling_average</th>\n",
       "      <th>batting_average</th>\n",
       "      <th>bowling_strike_rate</th>\n",
       "    </tr>\n",
       "  </thead>\n",
       "  <tbody>\n",
       "    <tr>\n",
       "      <th>231314</th>\n",
       "      <td>6.6</td>\n",
       "      <td>1</td>\n",
       "      <td>35</td>\n",
       "      <td>16</td>\n",
       "      <td>2.200000</td>\n",
       "      <td>15</td>\n",
       "      <td>79.54</td>\n",
       "      <td>29.28</td>\n",
       "      <td>23.39</td>\n",
       "      <td>31.5</td>\n",
       "    </tr>\n",
       "    <tr>\n",
       "      <th>231315</th>\n",
       "      <td>17.4</td>\n",
       "      <td>5</td>\n",
       "      <td>49</td>\n",
       "      <td>59</td>\n",
       "      <td>5.000000</td>\n",
       "      <td>9</td>\n",
       "      <td>72.04</td>\n",
       "      <td>34.69</td>\n",
       "      <td>21.09</td>\n",
       "      <td>70.0</td>\n",
       "    </tr>\n",
       "    <tr>\n",
       "      <th>231316</th>\n",
       "      <td>21.1</td>\n",
       "      <td>3</td>\n",
       "      <td>53</td>\n",
       "      <td>102</td>\n",
       "      <td>4.200000</td>\n",
       "      <td>11</td>\n",
       "      <td>103.10</td>\n",
       "      <td>30.74</td>\n",
       "      <td>47.60</td>\n",
       "      <td>30.0</td>\n",
       "    </tr>\n",
       "    <tr>\n",
       "      <th>231317</th>\n",
       "      <td>32.1</td>\n",
       "      <td>5</td>\n",
       "      <td>7</td>\n",
       "      <td>176</td>\n",
       "      <td>5.400000</td>\n",
       "      <td>21</td>\n",
       "      <td>81.90</td>\n",
       "      <td>52.29</td>\n",
       "      <td>34.55</td>\n",
       "      <td>70.0</td>\n",
       "    </tr>\n",
       "    <tr>\n",
       "      <th>231318</th>\n",
       "      <td>9.6</td>\n",
       "      <td>1</td>\n",
       "      <td>34</td>\n",
       "      <td>16</td>\n",
       "      <td>2.200000</td>\n",
       "      <td>0</td>\n",
       "      <td>69.88</td>\n",
       "      <td>28.06</td>\n",
       "      <td>27.11</td>\n",
       "      <td>34.3</td>\n",
       "    </tr>\n",
       "    <tr>\n",
       "      <th>...</th>\n",
       "      <td>...</td>\n",
       "      <td>...</td>\n",
       "      <td>...</td>\n",
       "      <td>...</td>\n",
       "      <td>...</td>\n",
       "      <td>...</td>\n",
       "      <td>...</td>\n",
       "      <td>...</td>\n",
       "      <td>...</td>\n",
       "      <td>...</td>\n",
       "    </tr>\n",
       "    <tr>\n",
       "      <th>386051</th>\n",
       "      <td>4.4</td>\n",
       "      <td>2</td>\n",
       "      <td>16</td>\n",
       "      <td>9</td>\n",
       "      <td>2.045455</td>\n",
       "      <td>3</td>\n",
       "      <td>36.84</td>\n",
       "      <td>28.06</td>\n",
       "      <td>28.00</td>\n",
       "      <td>38.6</td>\n",
       "    </tr>\n",
       "    <tr>\n",
       "      <th>386052</th>\n",
       "      <td>35.6</td>\n",
       "      <td>4</td>\n",
       "      <td>3</td>\n",
       "      <td>139</td>\n",
       "      <td>3.200000</td>\n",
       "      <td>1</td>\n",
       "      <td>42.39</td>\n",
       "      <td>29.36</td>\n",
       "      <td>6.50</td>\n",
       "      <td>70.0</td>\n",
       "    </tr>\n",
       "    <tr>\n",
       "      <th>386053</th>\n",
       "      <td>49.3</td>\n",
       "      <td>7</td>\n",
       "      <td>4</td>\n",
       "      <td>286</td>\n",
       "      <td>7.800000</td>\n",
       "      <td>0</td>\n",
       "      <td>79.54</td>\n",
       "      <td>26.50</td>\n",
       "      <td>23.39</td>\n",
       "      <td>70.0</td>\n",
       "    </tr>\n",
       "    <tr>\n",
       "      <th>386054</th>\n",
       "      <td>22.2</td>\n",
       "      <td>2</td>\n",
       "      <td>25</td>\n",
       "      <td>100</td>\n",
       "      <td>2.400000</td>\n",
       "      <td>46</td>\n",
       "      <td>78.86</td>\n",
       "      <td>38.68</td>\n",
       "      <td>41.98</td>\n",
       "      <td>46.7</td>\n",
       "    </tr>\n",
       "    <tr>\n",
       "      <th>386055</th>\n",
       "      <td>30.1</td>\n",
       "      <td>7</td>\n",
       "      <td>2</td>\n",
       "      <td>138</td>\n",
       "      <td>4.400000</td>\n",
       "      <td>7</td>\n",
       "      <td>73.29</td>\n",
       "      <td>48.00</td>\n",
       "      <td>17.50</td>\n",
       "      <td>70.0</td>\n",
       "    </tr>\n",
       "  </tbody>\n",
       "</table>\n",
       "<p>154742 rows × 10 columns</p>\n",
       "</div>"
      ],
      "text/plain": [
       "        ball  wickets_so_far  ...  batting_average  bowling_strike_rate\n",
       "231314   6.6               1  ...            23.39                 31.5\n",
       "231315  17.4               5  ...            21.09                 70.0\n",
       "231316  21.1               3  ...            47.60                 30.0\n",
       "231317  32.1               5  ...            34.55                 70.0\n",
       "231318   9.6               1  ...            27.11                 34.3\n",
       "...      ...             ...  ...              ...                  ...\n",
       "386051   4.4               2  ...            28.00                 38.6\n",
       "386052  35.6               4  ...             6.50                 70.0\n",
       "386053  49.3               7  ...            23.39                 70.0\n",
       "386054  22.2               2  ...            41.98                 46.7\n",
       "386055  30.1               7  ...            17.50                 70.0\n",
       "\n",
       "[154742 rows x 10 columns]"
      ]
     },
     "execution_count": 31,
     "metadata": {
      "tags": []
     },
     "output_type": "execute_result"
    }
   ],
   "source": [
    "X_test"
   ]
  },
  {
   "cell_type": "code",
   "execution_count": 32,
   "metadata": {
    "colab": {
     "base_uri": "https://localhost:8080/"
    },
    "execution": {
     "iopub.execute_input": "2020-12-26T04:32:54.686324Z",
     "iopub.status.busy": "2020-12-26T04:32:54.683555Z",
     "iopub.status.idle": "2020-12-26T04:32:54.689312Z",
     "shell.execute_reply": "2020-12-26T04:32:54.689797Z"
    },
    "executionInfo": {
     "elapsed": 4008,
     "status": "ok",
     "timestamp": 1611764348340,
     "user": {
      "displayName": "aniket somwanshi",
      "photoUrl": "",
      "userId": "14453870072283828271"
     },
     "user_tz": -330
    },
    "id": "q4HrAMJ8YRbR",
    "outputId": "006bac02-3415-4c7c-b9e8-df25f9f21188",
    "papermill": {
     "duration": 0.022416,
     "end_time": "2020-12-26T04:32:54.689910",
     "exception": false,
     "start_time": "2020-12-26T04:32:54.667494",
     "status": "completed"
    },
    "tags": []
   },
   "outputs": [
    {
     "data": {
      "text/plain": [
       "array([0, 0, 0, ..., 1, 1, 1])"
      ]
     },
     "execution_count": 32,
     "metadata": {
      "tags": []
     },
     "output_type": "execute_result"
    }
   ],
   "source": [
    "y_train"
   ]
  },
  {
   "cell_type": "markdown",
   "metadata": {
    "id": "T6X7K0koYRbV",
    "papermill": {
     "duration": 0.013749,
     "end_time": "2020-12-26T04:32:54.717793",
     "exception": false,
     "start_time": "2020-12-26T04:32:54.704044",
     "status": "completed"
    },
    "tags": []
   },
   "source": [
    "# Training"
   ]
  },
  {
   "cell_type": "code",
   "execution_count": 33,
   "metadata": {
    "executionInfo": {
     "elapsed": 4005,
     "status": "ok",
     "timestamp": 1611764348341,
     "user": {
      "displayName": "aniket somwanshi",
      "photoUrl": "",
      "userId": "14453870072283828271"
     },
     "user_tz": -330
    },
    "id": "Hm9YNIZjyNpR"
   },
   "outputs": [],
   "source": [
    "from sklearn.metrics import classification_report\n",
    "from sklearn.metrics import confusion_matrix\n",
    "from sklearn.metrics import accuracy_score\n",
    "from sklearn.metrics import precision_score\n",
    "from sklearn.metrics import recall_score"
   ]
  },
  {
   "cell_type": "code",
   "execution_count": 34,
   "metadata": {
    "colab": {
     "base_uri": "https://localhost:8080/"
    },
    "executionInfo": {
     "elapsed": 4001,
     "status": "ok",
     "timestamp": 1611764348342,
     "user": {
      "displayName": "aniket somwanshi",
      "photoUrl": "",
      "userId": "14453870072283828271"
     },
     "user_tz": -330
    },
    "id": "4vTephVChVk0",
    "outputId": "ef68dbfe-7fa7-4de3-c44f-0ae038ffbd68"
   },
   "outputs": [
    {
     "data": {
      "text/plain": [
       "False"
      ]
     },
     "execution_count": 34,
     "metadata": {
      "tags": []
     },
     "output_type": "execute_result"
    }
   ],
   "source": [
    "np.any(np.isnan(df)) #should be false ideally\n",
    "# np.isfinite(data.all()) #and gets True"
   ]
  },
  {
   "cell_type": "code",
   "execution_count": null,
   "metadata": {
    "colab": {
     "base_uri": "https://localhost:8080/"
    },
    "execution": {
     "iopub.execute_input": "2020-12-26T04:32:54.748486Z",
     "iopub.status.busy": "2020-12-26T04:32:54.747646Z",
     "iopub.status.idle": "2020-12-26T04:33:05.111960Z",
     "shell.execute_reply": "2020-12-26T04:33:05.112908Z"
    },
    "executionInfo": {
     "elapsed": 8359,
     "status": "ok",
     "timestamp": 1611764352705,
     "user": {
      "displayName": "aniket somwanshi",
      "photoUrl": "",
      "userId": "14453870072283828271"
     },
     "user_tz": -330
    },
    "id": "Cz8wjorTYRbV",
    "outputId": "9db93209-2c83-4e19-e406-1e7c81aa7667",
    "papermill": {
     "duration": 10.381258,
     "end_time": "2020-12-26T04:33:05.113137",
     "exception": false,
     "start_time": "2020-12-26T04:32:54.731879",
     "status": "completed"
    },
    "tags": []
   },
   "outputs": [],
   "source": [
    "# from sklearn.linear_model import LogisticRegression\n",
    "\n",
    "# logreg = LogisticRegression()\n",
    "# logreg.fit(X_train, y_train)\n",
    "# logreg_pred = logreg.predict(X_test)\n",
    "\n",
    "\n",
    "# print('Accuracy of Logistic regression classifier on test set: {:.2f}'\n",
    "#      .format(logreg.score(X_test, y_test)))\n",
    "\n",
    "# print(classification_report(y_test, logreg_pred))"
   ]
  },
  {
   "cell_type": "code",
   "execution_count": 36,
   "metadata": {
    "colab": {
     "base_uri": "https://localhost:8080/"
    },
    "executionInfo": {
     "elapsed": 8356,
     "status": "ok",
     "timestamp": 1611764352706,
     "user": {
      "displayName": "aniket somwanshi",
      "photoUrl": "",
      "userId": "14453870072283828271"
     },
     "user_tz": -330
    },
    "id": "eVNwBMm42OKM",
    "outputId": "4fd6d1db-111d-45fe-a1aa-ad5720f727fe"
   },
   "outputs": [
    {
     "name": "stdout",
     "output_type": "stream",
     "text": [
      "0    140495\n",
      "1     14247\n",
      "Name: wicket_this_over, dtype: int64\n",
      "0    143951\n",
      "1     10791\n",
      "dtype: int64\n"
     ]
    }
   ],
   "source": [
    "print(y_test.value_counts())\n",
    "# print(type(logreg_pred))\n",
    "print(pd.Series(logreg_pred).value_counts())"
   ]
  },
  {
   "cell_type": "code",
   "execution_count": null,
   "metadata": {
    "colab": {
     "base_uri": "https://localhost:8080/"
    },
    "executionInfo": {
     "elapsed": 15260,
     "status": "ok",
     "timestamp": 1611764359615,
     "user": {
      "displayName": "aniket somwanshi",
      "photoUrl": "",
      "userId": "14453870072283828271"
     },
     "user_tz": -330
    },
    "id": "m1hB4qvNyMru",
    "outputId": "fd2d035d-4213-4d91-f707-431e88e1840e"
   },
   "outputs": [],
   "source": [
    "# from sklearn.tree import DecisionTreeClassifier\n",
    "\n",
    "# clf = DecisionTreeClassifier().fit(X_train, y_train)\n",
    "\n",
    "\n",
    "# print('Accuracy of Decision Tree classifier on test set: {:.2f}'\n",
    "#      .format(clf.score(X_test, y_test)))\n",
    "\n",
    "# clf_pred = clf.predict(X_test)\n",
    "# print(classification_report(y_test, clf_pred))"
   ]
  },
  {
   "cell_type": "code",
   "execution_count": 38,
   "metadata": {
    "colab": {
     "base_uri": "https://localhost:8080/"
    },
    "executionInfo": {
     "elapsed": 15257,
     "status": "ok",
     "timestamp": 1611764359616,
     "user": {
      "displayName": "aniket somwanshi",
      "photoUrl": "",
      "userId": "14453870072283828271"
     },
     "user_tz": -330
    },
    "id": "vFjNkhaj5-H0",
    "outputId": "c8ff8973-36d0-4dd9-8b4a-3b3413faf8f8"
   },
   "outputs": [
    {
     "name": "stdout",
     "output_type": "stream",
     "text": [
      "0    140495\n",
      "1     14247\n",
      "Name: wicket_this_over, dtype: int64\n",
      "0    137430\n",
      "1     17312\n",
      "dtype: int64\n"
     ]
    }
   ],
   "source": [
    "print(y_test.value_counts())\n",
    "# print(type(logreg_pred))\n",
    "print(pd.Series(clf_pred).value_counts())"
   ]
  },
  {
   "cell_type": "code",
   "execution_count": null,
   "metadata": {
    "colab": {
     "base_uri": "https://localhost:8080/"
    },
    "executionInfo": {
     "elapsed": 15253,
     "status": "ok",
     "timestamp": 1611764359617,
     "user": {
      "displayName": "aniket somwanshi",
      "photoUrl": "",
      "userId": "14453870072283828271"
     },
     "user_tz": -330
    },
    "id": "i4ADvjnTCrIg",
    "outputId": "759754ef-0eaf-4655-ed7e-7c5c4093b933"
   },
   "outputs": [],
   "source": [
    "# print(X_train.dtype.names)\n",
    "# print(clf.feature_importances_)\n",
    "# print(\"\\n\")\n",
    "# # clf.feature_importances_"
   ]
  },
  {
   "cell_type": "code",
   "execution_count": null,
   "metadata": {
    "colab": {
     "base_uri": "https://localhost:8080/"
    },
    "executionInfo": {
     "elapsed": 18560,
     "status": "ok",
     "timestamp": 1611764362928,
     "user": {
      "displayName": "aniket somwanshi",
      "photoUrl": "",
      "userId": "14453870072283828271"
     },
     "user_tz": -330
    },
    "id": "EFwvEGfIB6ap",
    "outputId": "12ce51ed-a65f-47e8-a27c-b29f0e981fe6"
   },
   "outputs": [],
   "source": [
    "# clf2 = DecisionTreeClassifier(max_depth=15).fit(X_train, y_train)\n",
    "\n",
    "# print('Accuracy of Decision Tree classifier on test set: {:.2f}'\n",
    "#      .format(clf2.score(X_test, y_test)))\n",
    "\n",
    "# clf_pred2 = (clf2.predict_proba(X_test)[:,1] >= 0.5).astype(bool) # set threshold as 0.3\n",
    "# # clf_pred2 = clf2.predict(X_test)\n",
    "# print(classification_report(y_test, clf_pred2))"
   ]
  },
  {
   "cell_type": "markdown",
   "metadata": {},
   "source": [
    "## Final model training"
   ]
  },
  {
   "cell_type": "code",
   "execution_count": null,
   "metadata": {
    "colab": {
     "base_uri": "https://localhost:8080/"
    },
    "executionInfo": {
     "elapsed": 229883,
     "status": "ok",
     "timestamp": 1611764574256,
     "user": {
      "displayName": "aniket somwanshi",
      "photoUrl": "",
      "userId": "14453870072283828271"
     },
     "user_tz": -330
    },
    "id": "h-UDc3KdOwDf",
    "outputId": "4260ba44-d3d7-4807-8ebc-1e03e5ec1d10"
   },
   "outputs": [],
   "source": [
    "from sklearn.ensemble import RandomForestClassifier\n",
    "\n",
    "rf = RandomForestClassifier(n_estimators=200, max_depth=32, random_state=0)\n",
    "rf.fit(X_train, y_train)\n",
    "\n",
    "print('Accuracy of Random forest classifier on test set: {:.2f}'\n",
    "     .format(rf.score(X_test, y_test)))\n",
    "\n",
    "# rf_pred = rf.predict(X_test)\n",
    "rf_pred = (rf.predict_proba(X_test)[:,1] >= 0.45).astype(bool) # set threshold as 0.3\n",
    "print(classification_report(y_test, rf_pred))"
   ]
  },
  {
   "cell_type": "markdown",
   "metadata": {},
   "source": [
    "## Export model"
   ]
  },
  {
   "cell_type": "code",
   "execution_count": 42,
   "metadata": {
    "executionInfo": {
     "elapsed": 236612,
     "status": "ok",
     "timestamp": 1611764580989,
     "user": {
      "displayName": "aniket somwanshi",
      "photoUrl": "",
      "userId": "14453870072283828271"
     },
     "user_tz": -330
    },
    "id": "GGOSA-oOGtg6"
   },
   "outputs": [],
   "source": [
    "# save the best model ie random forest\n",
    "import pickle\n",
    "pkl_filename = '/content/drive/MyDrive/Inframind/Customer engagement/wicket_prediction/model_training/wicket_1_model.pkl'\n",
    "with open(pkl_filename, 'wb') as file:\n",
    "    pickle.dump(rf, file)\n"
   ]
  },
  {
   "cell_type": "code",
   "execution_count": 43,
   "metadata": {
    "executionInfo": {
     "elapsed": 236609,
     "status": "ok",
     "timestamp": 1611764580991,
     "user": {
      "displayName": "aniket somwanshi",
      "photoUrl": "",
      "userId": "14453870072283828271"
     },
     "user_tz": -330
    },
    "id": "iIqr3CV5IqYf"
   },
   "outputs": [],
   "source": [
    "# # nn \n",
    "# from keras.models import Sequential\n",
    "# from keras.layers import Dense\n",
    "\n",
    "# model = Sequential()\n",
    "\n",
    "# model.add(Dense(15, activation='relu', input_shape=(15,)))\n",
    "\n",
    "# model.add(Dense(15, activation='relu'))\n",
    "\n",
    "# model.add(Dense(1, activation='sigmoid'))\n",
    "\n",
    "# model.compile(loss='binary_crossentropy',\n",
    "#               optimizer='adam',\n",
    "#               metrics=['accuracy'])\n",
    "                   \n",
    "# model.fit(X_train, y_train,epochs=10, batch_size=5, verbose=1)\n",
    "# nn_pred = model.predict(X_test)\n",
    "# print(classification_report(y_test, nn_pred))"
   ]
  },
  {
   "cell_type": "code",
   "execution_count": null,
   "metadata": {
    "colab": {
     "base_uri": "https://localhost:8080/"
    },
    "executionInfo": {
     "elapsed": 300403,
     "status": "ok",
     "timestamp": 1611764644789,
     "user": {
      "displayName": "aniket somwanshi",
      "photoUrl": "",
      "userId": "14453870072283828271"
     },
     "user_tz": -330
    },
    "id": "0NP-b1chE8SU",
    "outputId": "4c689201-718c-4f4b-8d4b-e3294dee3f98"
   },
   "outputs": [],
   "source": [
    "# from sklearn.neighbors import KNeighborsClassifier\n",
    "\n",
    "# knn = KNeighborsClassifier()\n",
    "# knn.fit(X_train, y_train)\n",
    "\n",
    "# print('Accuracy of K-NN classifier on test set: {:.2f}'\n",
    "#      .format(knn.score(X_test, y_test)))\n",
    "\n",
    "# knn_pred = knn.predict(X_test)\n",
    "# print(classification_report(y_test, knn_pred))"
   ]
  },
  {
   "cell_type": "code",
   "execution_count": null,
   "metadata": {
    "colab": {
     "base_uri": "https://localhost:8080/"
    },
    "executionInfo": {
     "elapsed": 300840,
     "status": "ok",
     "timestamp": 1611764645232,
     "user": {
      "displayName": "aniket somwanshi",
      "photoUrl": "",
      "userId": "14453870072283828271"
     },
     "user_tz": -330
    },
    "id": "IBohOANGFI-H",
    "outputId": "b2680711-0f54-425b-ea07-833c29230127"
   },
   "outputs": [],
   "source": [
    "# from sklearn.discriminant_analysis import LinearDiscriminantAnalysis\n",
    "\n",
    "# lda = LinearDiscriminantAnalysis()\n",
    "# lda.fit(X_train, y_train)\n",
    "\n",
    "# print('Accuracy of LDA classifier on test set: {:.2f}'\n",
    "#      .format(lda.score(X_test, y_test)))\n",
    "\n",
    "# lda_pred = lda.predict(X_test)\n",
    "# print(classification_report(y_test, lda_pred))"
   ]
  },
  {
   "cell_type": "code",
   "execution_count": null,
   "metadata": {
    "colab": {
     "base_uri": "https://localhost:8080/"
    },
    "executionInfo": {
     "elapsed": 301605,
     "status": "ok",
     "timestamp": 1611764646002,
     "user": {
      "displayName": "aniket somwanshi",
      "photoUrl": "",
      "userId": "14453870072283828271"
     },
     "user_tz": -330
    },
    "id": "F6UVVwqwFSr5",
    "outputId": "f96b44c7-61ba-4e76-9e46-373948701351"
   },
   "outputs": [],
   "source": [
    "# from sklearn.naive_bayes import GaussianNB\n",
    "\n",
    "# gnb = GaussianNB()\n",
    "# gnb.fit(X_train, y_train)\n",
    "\n",
    "# print('Accuracy of GNB classifier on test set: {:.2f}'\n",
    "#      .format(gnb.score(X_test, y_test)))\n",
    "\n",
    "# gnb_pred = gnb.predict(X_test)\n",
    "# print(classification_report(y_test, gnb_pred))"
   ]
  }
 ],
 "metadata": {
  "accelerator": "GPU",
  "colab": {
   "collapsed_sections": [],
   "name": "model_training_inning_1.ipynb",
   "provenance": [],
   "toc_visible": true
  },
  "kernelspec": {
   "display_name": "Python 3",
   "language": "python",
   "name": "python3"
  },
  "language_info": {
   "codemirror_mode": {
    "name": "ipython",
    "version": 3
   },
   "file_extension": ".py",
   "mimetype": "text/x-python",
   "name": "python",
   "nbconvert_exporter": "python",
   "pygments_lexer": "ipython3",
   "version": "3.8.5"
  },
  "papermill": {
   "duration": 18.677598,
   "end_time": "2020-12-26T04:33:06.638327",
   "environment_variables": {},
   "exception": null,
   "input_path": "__notebook__.ipynb",
   "output_path": "__notebook__.ipynb",
   "parameters": {},
   "start_time": "2020-12-26T04:32:47.960729",
   "version": "2.1.0"
  }
 },
 "nbformat": 4,
 "nbformat_minor": 1
}

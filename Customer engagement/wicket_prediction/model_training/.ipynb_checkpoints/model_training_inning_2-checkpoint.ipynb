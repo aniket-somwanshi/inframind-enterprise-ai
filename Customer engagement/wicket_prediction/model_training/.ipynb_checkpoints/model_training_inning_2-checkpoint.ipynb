{
 "cells": [
  {
   "cell_type": "markdown",
   "metadata": {
    "id": "2WKMRCuwYRaP",
    "papermill": {
     "duration": 0.009151,
     "end_time": "2020-12-26T04:32:52.101918",
     "exception": false,
     "start_time": "2020-12-26T04:32:52.092767",
     "status": "completed"
    },
    "tags": []
   },
   "source": [
    "# Import 2nd innings dataset"
   ]
  },
  {
   "cell_type": "code",
   "execution_count": 29,
   "metadata": {
    "colab": {
     "base_uri": "https://localhost:8080/"
    },
    "executionInfo": {
     "elapsed": 238766,
     "status": "ok",
     "timestamp": 1611765072235,
     "user": {
      "displayName": "aniket somwanshi",
      "photoUrl": "",
      "userId": "14453870072283828271"
     },
     "user_tz": -330
    },
    "id": "ENJnTi_UYyU-",
    "outputId": "46226686-9b86-4856-b6ab-b0028e15ea8c"
   },
   "outputs": [
    {
     "name": "stdout",
     "output_type": "stream",
     "text": [
      "Drive already mounted at /content/drive; to attempt to forcibly remount, call drive.mount(\"/content/drive\", force_remount=True).\n"
     ]
    }
   ],
   "source": [
    "from google.colab import drive\n",
    "drive.mount('/content/drive')"
   ]
  },
  {
   "cell_type": "code",
   "execution_count": 30,
   "metadata": {
    "_cell_guid": "79c7e3d0-c299-4dcb-8224-4455121ee9b0",
    "_uuid": "d629ff2d2480ee46fbb7e2d37f6b5fab8052498a",
    "execution": {
     "iopub.execute_input": "2020-12-26T04:32:52.129125Z",
     "iopub.status.busy": "2020-12-26T04:32:52.128425Z",
     "iopub.status.idle": "2020-12-26T04:32:54.203903Z",
     "shell.execute_reply": "2020-12-26T04:32:54.203283Z"
    },
    "executionInfo": {
     "elapsed": 238759,
     "status": "ok",
     "timestamp": 1611765072237,
     "user": {
      "displayName": "aniket somwanshi",
      "photoUrl": "",
      "userId": "14453870072283828271"
     },
     "user_tz": -330
    },
    "id": "wzYCogF3YRaY",
    "papermill": {
     "duration": 2.092098,
     "end_time": "2020-12-26T04:32:54.204008",
     "exception": false,
     "start_time": "2020-12-26T04:32:52.111910",
     "status": "completed"
    },
    "tags": []
   },
   "outputs": [],
   "source": [
    "import numpy as np\n",
    "import pandas as pd\n",
    "\n",
    "# import re\n",
    "# from sklearn.model_selection import train_test_split\n",
    "# from sklearn.preprocessing import StandardScaler\n",
    "\n",
    "# # model imports\n",
    "# from sklearn.linear_model import LinearRegression\n",
    "# from sklearn.neighbors import KNeighborsRegressor\n",
    "# from sklearn.neural_network import MLPRegressor\n",
    "# from sklearn.svm import LinearSVR, SVR\n",
    "# from sklearn.tree import DecisionTreeRegressor\n",
    "# from sklearn.ensemble import RandomForestRegressor, GradientBoostingRegressor\n",
    "\n",
    "# !pip3 install catboost\n",
    "# from catboost import CatBoostClassifier\n",
    "# #import sys\n",
    "# #!{sys.executable} -m pip install xgboost\n",
    "# from xgboost import XGBRegressor\n",
    "\n",
    "# additional imports\n",
    "from matplotlib import pyplot\n",
    "\n"
   ]
  },
  {
   "cell_type": "code",
   "execution_count": 31,
   "metadata": {
    "execution": {
     "iopub.execute_input": "2020-12-26T04:32:54.341812Z",
     "iopub.status.busy": "2020-12-26T04:32:54.341322Z",
     "iopub.status.idle": "2020-12-26T04:32:54.351169Z",
     "shell.execute_reply": "2020-12-26T04:32:54.351623Z"
    },
    "executionInfo": {
     "elapsed": 238754,
     "status": "ok",
     "timestamp": 1611765072237,
     "user": {
      "displayName": "aniket somwanshi",
      "photoUrl": "",
      "userId": "14453870072283828271"
     },
     "user_tz": -330
    },
    "id": "I6ee6mP1YRah",
    "papermill": {
     "duration": 0.027021,
     "end_time": "2020-12-26T04:32:54.351736",
     "exception": false,
     "start_time": "2020-12-26T04:32:54.324715",
     "status": "completed"
    },
    "tags": []
   },
   "outputs": [],
   "source": [
    "df = pd.read_csv('/content/drive/MyDrive/Inframind/Customer engagement/original_dataset/processed_dataset_inning_2.csv')\n"
   ]
  },
  {
   "cell_type": "markdown",
   "metadata": {
    "id": "BEd_Ke3uYRai",
    "papermill": {
     "duration": 0.01167,
     "end_time": "2020-12-26T04:32:54.374953",
     "exception": false,
     "start_time": "2020-12-26T04:32:54.363283",
     "status": "completed"
    },
    "tags": []
   },
   "source": [
    "# Preprocessing"
   ]
  },
  {
   "cell_type": "code",
   "execution_count": 32,
   "metadata": {
    "colab": {
     "base_uri": "https://localhost:8080/",
     "height": 224
    },
    "execution": {
     "iopub.execute_input": "2020-12-26T04:32:54.399774Z",
     "iopub.status.busy": "2020-12-26T04:32:54.399285Z",
     "iopub.status.idle": "2020-12-26T04:32:54.421604Z",
     "shell.execute_reply": "2020-12-26T04:32:54.422072Z"
    },
    "executionInfo": {
     "elapsed": 238747,
     "status": "ok",
     "timestamp": 1611765072238,
     "user": {
      "displayName": "aniket somwanshi",
      "photoUrl": "",
      "userId": "14453870072283828271"
     },
     "user_tz": -330
    },
    "id": "UP3EPaaJYRax",
    "outputId": "f733f6d7-9799-445e-8082-c1bd214bb451",
    "papermill": {
     "duration": 0.03611,
     "end_time": "2020-12-26T04:32:54.422195",
     "exception": false,
     "start_time": "2020-12-26T04:32:54.386085",
     "status": "completed"
    },
    "tags": []
   },
   "outputs": [
    {
     "data": {
      "text/html": [
       "<div>\n",
       "<style scoped>\n",
       "    .dataframe tbody tr th:only-of-type {\n",
       "        vertical-align: middle;\n",
       "    }\n",
       "\n",
       "    .dataframe tbody tr th {\n",
       "        vertical-align: top;\n",
       "    }\n",
       "\n",
       "    .dataframe thead th {\n",
       "        text-align: right;\n",
       "    }\n",
       "</style>\n",
       "<table border=\"1\" class=\"dataframe\">\n",
       "  <thead>\n",
       "    <tr style=\"text-align: right;\">\n",
       "      <th></th>\n",
       "      <th>inning</th>\n",
       "      <th>ball</th>\n",
       "      <th>wickets_so_far</th>\n",
       "      <th>balls_in_partnership</th>\n",
       "      <th>runs_so_far</th>\n",
       "      <th>run_rate_last_5_overs</th>\n",
       "      <th>balls_since_last_boundary</th>\n",
       "      <th>boundary_this_over</th>\n",
       "      <th>wicket_this_over</th>\n",
       "      <th>strike_rate</th>\n",
       "      <th>bowling_average</th>\n",
       "      <th>batting_average</th>\n",
       "      <th>bowling_strike_rate</th>\n",
       "      <th>required_run_rate</th>\n",
       "      <th>big_moment</th>\n",
       "    </tr>\n",
       "  </thead>\n",
       "  <tbody>\n",
       "    <tr>\n",
       "      <th>0</th>\n",
       "      <td>2</td>\n",
       "      <td>0.1</td>\n",
       "      <td>0</td>\n",
       "      <td>0</td>\n",
       "      <td>0</td>\n",
       "      <td>0.0</td>\n",
       "      <td>0</td>\n",
       "      <td>0</td>\n",
       "      <td>0</td>\n",
       "      <td>74.45</td>\n",
       "      <td>20.99</td>\n",
       "      <td>36.90</td>\n",
       "      <td>25.0</td>\n",
       "      <td>5.130261</td>\n",
       "      <td>0</td>\n",
       "    </tr>\n",
       "    <tr>\n",
       "      <th>1</th>\n",
       "      <td>2</td>\n",
       "      <td>0.2</td>\n",
       "      <td>0</td>\n",
       "      <td>1</td>\n",
       "      <td>0</td>\n",
       "      <td>0.0</td>\n",
       "      <td>1</td>\n",
       "      <td>0</td>\n",
       "      <td>0</td>\n",
       "      <td>74.45</td>\n",
       "      <td>20.99</td>\n",
       "      <td>36.90</td>\n",
       "      <td>25.0</td>\n",
       "      <td>5.140562</td>\n",
       "      <td>0</td>\n",
       "    </tr>\n",
       "    <tr>\n",
       "      <th>2</th>\n",
       "      <td>2</td>\n",
       "      <td>0.3</td>\n",
       "      <td>0</td>\n",
       "      <td>2</td>\n",
       "      <td>0</td>\n",
       "      <td>0.0</td>\n",
       "      <td>2</td>\n",
       "      <td>0</td>\n",
       "      <td>0</td>\n",
       "      <td>74.45</td>\n",
       "      <td>20.99</td>\n",
       "      <td>36.90</td>\n",
       "      <td>25.0</td>\n",
       "      <td>5.150905</td>\n",
       "      <td>0</td>\n",
       "    </tr>\n",
       "    <tr>\n",
       "      <th>3</th>\n",
       "      <td>2</td>\n",
       "      <td>0.4</td>\n",
       "      <td>0</td>\n",
       "      <td>3</td>\n",
       "      <td>0</td>\n",
       "      <td>0.0</td>\n",
       "      <td>3</td>\n",
       "      <td>0</td>\n",
       "      <td>0</td>\n",
       "      <td>74.45</td>\n",
       "      <td>20.99</td>\n",
       "      <td>36.90</td>\n",
       "      <td>25.0</td>\n",
       "      <td>5.161290</td>\n",
       "      <td>0</td>\n",
       "    </tr>\n",
       "    <tr>\n",
       "      <th>4</th>\n",
       "      <td>2</td>\n",
       "      <td>0.5</td>\n",
       "      <td>0</td>\n",
       "      <td>4</td>\n",
       "      <td>1</td>\n",
       "      <td>2.0</td>\n",
       "      <td>4</td>\n",
       "      <td>0</td>\n",
       "      <td>0</td>\n",
       "      <td>113.40</td>\n",
       "      <td>20.99</td>\n",
       "      <td>32.48</td>\n",
       "      <td>25.0</td>\n",
       "      <td>5.151515</td>\n",
       "      <td>0</td>\n",
       "    </tr>\n",
       "  </tbody>\n",
       "</table>\n",
       "</div>"
      ],
      "text/plain": [
       "   inning  ball  ...  required_run_rate  big_moment\n",
       "0       2   0.1  ...           5.130261           0\n",
       "1       2   0.2  ...           5.140562           0\n",
       "2       2   0.3  ...           5.150905           0\n",
       "3       2   0.4  ...           5.161290           0\n",
       "4       2   0.5  ...           5.151515           0\n",
       "\n",
       "[5 rows x 15 columns]"
      ]
     },
     "execution_count": 32,
     "metadata": {
      "tags": []
     },
     "output_type": "execute_result"
    }
   ],
   "source": [
    "df.head()"
   ]
  },
  {
   "cell_type": "code",
   "execution_count": 33,
   "metadata": {
    "colab": {
     "base_uri": "https://localhost:8080/",
     "height": 224
    },
    "executionInfo": {
     "elapsed": 238739,
     "status": "ok",
     "timestamp": 1611765072239,
     "user": {
      "displayName": "aniket somwanshi",
      "photoUrl": "",
      "userId": "14453870072283828271"
     },
     "user_tz": -330
    },
    "id": "2FgJRSxYPpSA",
    "outputId": "e40e2dad-8ddb-4cfd-9543-cad75e0d84e7"
   },
   "outputs": [
    {
     "data": {
      "text/html": [
       "<div>\n",
       "<style scoped>\n",
       "    .dataframe tbody tr th:only-of-type {\n",
       "        vertical-align: middle;\n",
       "    }\n",
       "\n",
       "    .dataframe tbody tr th {\n",
       "        vertical-align: top;\n",
       "    }\n",
       "\n",
       "    .dataframe thead th {\n",
       "        text-align: right;\n",
       "    }\n",
       "</style>\n",
       "<table border=\"1\" class=\"dataframe\">\n",
       "  <thead>\n",
       "    <tr style=\"text-align: right;\">\n",
       "      <th></th>\n",
       "      <th>ball</th>\n",
       "      <th>wickets_so_far</th>\n",
       "      <th>balls_in_partnership</th>\n",
       "      <th>runs_so_far</th>\n",
       "      <th>run_rate_last_5_overs</th>\n",
       "      <th>balls_since_last_boundary</th>\n",
       "      <th>wicket_this_over</th>\n",
       "      <th>strike_rate</th>\n",
       "      <th>bowling_average</th>\n",
       "      <th>batting_average</th>\n",
       "      <th>bowling_strike_rate</th>\n",
       "      <th>required_run_rate</th>\n",
       "    </tr>\n",
       "  </thead>\n",
       "  <tbody>\n",
       "    <tr>\n",
       "      <th>0</th>\n",
       "      <td>0.1</td>\n",
       "      <td>0</td>\n",
       "      <td>0</td>\n",
       "      <td>0</td>\n",
       "      <td>0.0</td>\n",
       "      <td>0</td>\n",
       "      <td>0</td>\n",
       "      <td>74.45</td>\n",
       "      <td>20.99</td>\n",
       "      <td>36.90</td>\n",
       "      <td>25.0</td>\n",
       "      <td>5.130261</td>\n",
       "    </tr>\n",
       "    <tr>\n",
       "      <th>1</th>\n",
       "      <td>0.2</td>\n",
       "      <td>0</td>\n",
       "      <td>1</td>\n",
       "      <td>0</td>\n",
       "      <td>0.0</td>\n",
       "      <td>1</td>\n",
       "      <td>0</td>\n",
       "      <td>74.45</td>\n",
       "      <td>20.99</td>\n",
       "      <td>36.90</td>\n",
       "      <td>25.0</td>\n",
       "      <td>5.140562</td>\n",
       "    </tr>\n",
       "    <tr>\n",
       "      <th>2</th>\n",
       "      <td>0.3</td>\n",
       "      <td>0</td>\n",
       "      <td>2</td>\n",
       "      <td>0</td>\n",
       "      <td>0.0</td>\n",
       "      <td>2</td>\n",
       "      <td>0</td>\n",
       "      <td>74.45</td>\n",
       "      <td>20.99</td>\n",
       "      <td>36.90</td>\n",
       "      <td>25.0</td>\n",
       "      <td>5.150905</td>\n",
       "    </tr>\n",
       "    <tr>\n",
       "      <th>3</th>\n",
       "      <td>0.4</td>\n",
       "      <td>0</td>\n",
       "      <td>3</td>\n",
       "      <td>0</td>\n",
       "      <td>0.0</td>\n",
       "      <td>3</td>\n",
       "      <td>0</td>\n",
       "      <td>74.45</td>\n",
       "      <td>20.99</td>\n",
       "      <td>36.90</td>\n",
       "      <td>25.0</td>\n",
       "      <td>5.161290</td>\n",
       "    </tr>\n",
       "    <tr>\n",
       "      <th>4</th>\n",
       "      <td>0.5</td>\n",
       "      <td>0</td>\n",
       "      <td>4</td>\n",
       "      <td>1</td>\n",
       "      <td>2.0</td>\n",
       "      <td>4</td>\n",
       "      <td>0</td>\n",
       "      <td>113.40</td>\n",
       "      <td>20.99</td>\n",
       "      <td>32.48</td>\n",
       "      <td>25.0</td>\n",
       "      <td>5.151515</td>\n",
       "    </tr>\n",
       "  </tbody>\n",
       "</table>\n",
       "</div>"
      ],
      "text/plain": [
       "   ball  wickets_so_far  ...  bowling_strike_rate  required_run_rate\n",
       "0   0.1               0  ...                 25.0           5.130261\n",
       "1   0.2               0  ...                 25.0           5.140562\n",
       "2   0.3               0  ...                 25.0           5.150905\n",
       "3   0.4               0  ...                 25.0           5.161290\n",
       "4   0.5               0  ...                 25.0           5.151515\n",
       "\n",
       "[5 rows x 12 columns]"
      ]
     },
     "execution_count": 33,
     "metadata": {
      "tags": []
     },
     "output_type": "execute_result"
    }
   ],
   "source": [
    "df.drop(['inning', 'boundary_this_over','big_moment'], axis = 1, inplace = True) \n",
    "df.head()"
   ]
  },
  {
   "cell_type": "code",
   "execution_count": 34,
   "metadata": {
    "executionInfo": {
     "elapsed": 238732,
     "status": "ok",
     "timestamp": 1611765072240,
     "user": {
      "displayName": "aniket somwanshi",
      "photoUrl": "",
      "userId": "14453870072283828271"
     },
     "user_tz": -330
    },
    "id": "YqABQuh2rqcl"
   },
   "outputs": [],
   "source": [
    "df = df.dropna()"
   ]
  },
  {
   "cell_type": "code",
   "execution_count": 35,
   "metadata": {
    "colab": {
     "base_uri": "https://localhost:8080/"
    },
    "executionInfo": {
     "elapsed": 238727,
     "status": "ok",
     "timestamp": 1611765072241,
     "user": {
      "displayName": "aniket somwanshi",
      "photoUrl": "",
      "userId": "14453870072283828271"
     },
     "user_tz": -330
    },
    "id": "fmbkETMETtQ6",
    "outputId": "b3fd636f-9e01-465d-b583-f3e08d7a2f23"
   },
   "outputs": [
    {
     "data": {
      "text/plain": [
       "328658"
      ]
     },
     "execution_count": 35,
     "metadata": {
      "tags": []
     },
     "output_type": "execute_result"
    }
   ],
   "source": [
    "len(df.index)"
   ]
  },
  {
   "cell_type": "markdown",
   "metadata": {},
   "source": [
    "## Randomization of the dataset rows"
   ]
  },
  {
   "cell_type": "code",
   "execution_count": 36,
   "metadata": {
    "executionInfo": {
     "elapsed": 238723,
     "status": "ok",
     "timestamp": 1611765072243,
     "user": {
      "displayName": "aniket somwanshi",
      "photoUrl": "",
      "userId": "14453870072283828271"
     },
     "user_tz": -330
    },
    "id": "7Ndcm-3uVjlx"
   },
   "outputs": [],
   "source": [
    "df = df.sample(frac=1).reset_index(drop=True)"
   ]
  },
  {
   "cell_type": "markdown",
   "metadata": {},
   "source": [
    "## Train-test split and oversampling"
   ]
  },
  {
   "cell_type": "code",
   "execution_count": 37,
   "metadata": {
    "execution": {
     "iopub.execute_input": "2020-12-26T04:32:54.484195Z",
     "iopub.status.busy": "2020-12-26T04:32:54.483624Z",
     "iopub.status.idle": "2020-12-26T04:32:54.494766Z",
     "shell.execute_reply": "2020-12-26T04:32:54.495360Z"
    },
    "executionInfo": {
     "elapsed": 238719,
     "status": "ok",
     "timestamp": 1611765072244,
     "user": {
      "displayName": "aniket somwanshi",
      "photoUrl": "",
      "userId": "14453870072283828271"
     },
     "user_tz": -330
    },
    "id": "-TRSle8LYRbI",
    "papermill": {
     "duration": 0.026412,
     "end_time": "2020-12-26T04:32:54.495470",
     "exception": false,
     "start_time": "2020-12-26T04:32:54.469058",
     "status": "completed"
    },
    "tags": []
   },
   "outputs": [],
   "source": [
    "from imblearn.over_sampling import SMOTE\n",
    "def preprocess_inputs(data):\n",
    "  num_of_rows = 231314\n",
    "  \n",
    "  y = data['wicket_this_over'].copy()\n",
    "  x = data.drop('wicket_this_over', axis=1).copy()\n",
    "  \n",
    "  y_train = y.iloc[:num_of_rows] #indexes rows for test data\n",
    "  X_train = x.iloc[:num_of_rows] #indexes rows for training data\n",
    "\n",
    "  X_test = x.iloc[num_of_rows:] #indexes rows for training data\n",
    "  y_test = y.iloc[num_of_rows:] #indexes rows for test data\n",
    "\n",
    "\n",
    "\n",
    "  # perform oversampling for minority class\n",
    "  \n",
    "  smote = SMOTE( sampling_strategy=0.5)\n",
    "  X_train, y_train = smote.fit_sample(X_train, y_train)\n",
    "\n",
    "\n",
    "  return X_train, X_test, y_train, y_test"
   ]
  },
  {
   "cell_type": "code",
   "execution_count": 10,
   "metadata": {
    "colab": {
     "base_uri": "https://localhost:8080/"
    },
    "execution": {
     "iopub.execute_input": "2020-12-26T04:32:54.522973Z",
     "iopub.status.busy": "2020-12-26T04:32:54.522391Z",
     "iopub.status.idle": "2020-12-26T04:32:54.598431Z",
     "shell.execute_reply": "2020-12-26T04:32:54.597921Z"
    },
    "executionInfo": {
     "elapsed": 65893,
     "status": "ok",
     "timestamp": 1611764834508,
     "user": {
      "displayName": "aniket somwanshi",
      "photoUrl": "",
      "userId": "14453870072283828271"
     },
     "user_tz": -330
    },
    "id": "RijXdvvPYRbL",
    "outputId": "c8bad709-c3ef-4756-e427-06de019cbbf5",
    "papermill": {
     "duration": 0.090911,
     "end_time": "2020-12-26T04:32:54.598528",
     "exception": false,
     "start_time": "2020-12-26T04:32:54.507617",
     "status": "completed"
    },
    "tags": []
   },
   "outputs": [
    {
     "name": "stderr",
     "output_type": "stream",
     "text": [
      "/usr/local/lib/python3.6/dist-packages/sklearn/utils/deprecation.py:87: FutureWarning: Function safe_indexing is deprecated; safe_indexing is deprecated in version 0.22 and will be removed in version 0.24.\n",
      "  warnings.warn(msg, category=FutureWarning)\n"
     ]
    }
   ],
   "source": [
    "X_train, X_test, y_train, y_test = preprocess_inputs(df)"
   ]
  },
  {
   "cell_type": "code",
   "execution_count": 11,
   "metadata": {
    "colab": {
     "base_uri": "https://localhost:8080/"
    },
    "executionInfo": {
     "elapsed": 65891,
     "status": "ok",
     "timestamp": 1611764834514,
     "user": {
      "displayName": "aniket somwanshi",
      "photoUrl": "",
      "userId": "14453870072283828271"
     },
     "user_tz": -330
    },
    "id": "PnYU8AGOreUg",
    "outputId": "1051e564-fa63-4e5e-fabe-7bd6074e5ca9"
   },
   "outputs": [
    {
     "data": {
      "text/plain": [
       "(numpy.ndarray,\n",
       " pandas.core.frame.DataFrame,\n",
       " numpy.ndarray,\n",
       " pandas.core.series.Series)"
      ]
     },
     "execution_count": 11,
     "metadata": {
      "tags": []
     },
     "output_type": "execute_result"
    }
   ],
   "source": [
    "type(X_train), type(X_test), type(y_train) ,type(y_test)"
   ]
  },
  {
   "cell_type": "markdown",
   "metadata": {},
   "source": [
    "## Oversampling results"
   ]
  },
  {
   "cell_type": "code",
   "execution_count": 12,
   "metadata": {
    "colab": {
     "base_uri": "https://localhost:8080/"
    },
    "executionInfo": {
     "elapsed": 65886,
     "status": "ok",
     "timestamp": 1611764834515,
     "user": {
      "displayName": "aniket somwanshi",
      "photoUrl": "",
      "userId": "14453870072283828271"
     },
     "user_tz": -330
    },
    "id": "1SlZvl0Y8eMG",
    "outputId": "3b5f248d-e063-4574-e0f4-8f6c6cc022dc"
   },
   "outputs": [
    {
     "name": "stdout",
     "output_type": "stream",
     "text": [
      "Frequency of unique values of the said array:\n",
      "[[     0      1]\n",
      " [210338 105169]]\n"
     ]
    }
   ],
   "source": [
    "unique_elements, counts_elements = np.unique(y_train, return_counts=True)\n",
    "print(\"Frequency of unique values of the said array:\")\n",
    "print(np.asarray((unique_elements, counts_elements)))\n"
   ]
  },
  {
   "cell_type": "code",
   "execution_count": 13,
   "metadata": {
    "colab": {
     "base_uri": "https://localhost:8080/",
     "height": 439
    },
    "execution": {
     "iopub.execute_input": "2020-12-26T04:32:54.638901Z",
     "iopub.status.busy": "2020-12-26T04:32:54.635470Z",
     "iopub.status.idle": "2020-12-26T04:32:54.652990Z",
     "shell.execute_reply": "2020-12-26T04:32:54.653467Z"
    },
    "executionInfo": {
     "elapsed": 65875,
     "status": "ok",
     "timestamp": 1611764834516,
     "user": {
      "displayName": "aniket somwanshi",
      "photoUrl": "",
      "userId": "14453870072283828271"
     },
     "user_tz": -330
    },
    "id": "6FOJZt-AYRbL",
    "outputId": "da2c692d-7659-4964-bd31-70e9c52ad365",
    "papermill": {
     "duration": 0.042276,
     "end_time": "2020-12-26T04:32:54.653599",
     "exception": false,
     "start_time": "2020-12-26T04:32:54.611323",
     "status": "completed"
    },
    "tags": []
   },
   "outputs": [
    {
     "data": {
      "text/html": [
       "<div>\n",
       "<style scoped>\n",
       "    .dataframe tbody tr th:only-of-type {\n",
       "        vertical-align: middle;\n",
       "    }\n",
       "\n",
       "    .dataframe tbody tr th {\n",
       "        vertical-align: top;\n",
       "    }\n",
       "\n",
       "    .dataframe thead th {\n",
       "        text-align: right;\n",
       "    }\n",
       "</style>\n",
       "<table border=\"1\" class=\"dataframe\">\n",
       "  <thead>\n",
       "    <tr style=\"text-align: right;\">\n",
       "      <th></th>\n",
       "      <th>ball</th>\n",
       "      <th>wickets_so_far</th>\n",
       "      <th>balls_in_partnership</th>\n",
       "      <th>runs_so_far</th>\n",
       "      <th>run_rate_last_5_overs</th>\n",
       "      <th>balls_since_last_boundary</th>\n",
       "      <th>strike_rate</th>\n",
       "      <th>bowling_average</th>\n",
       "      <th>batting_average</th>\n",
       "      <th>bowling_strike_rate</th>\n",
       "      <th>required_run_rate</th>\n",
       "    </tr>\n",
       "  </thead>\n",
       "  <tbody>\n",
       "    <tr>\n",
       "      <th>231314</th>\n",
       "      <td>26.3</td>\n",
       "      <td>4</td>\n",
       "      <td>25</td>\n",
       "      <td>100</td>\n",
       "      <td>3.200000</td>\n",
       "      <td>5</td>\n",
       "      <td>80.81</td>\n",
       "      <td>38.06</td>\n",
       "      <td>37.98</td>\n",
       "      <td>54.1</td>\n",
       "      <td>6.202532</td>\n",
       "    </tr>\n",
       "    <tr>\n",
       "      <th>231315</th>\n",
       "      <td>46.6</td>\n",
       "      <td>4</td>\n",
       "      <td>43</td>\n",
       "      <td>164</td>\n",
       "      <td>4.800000</td>\n",
       "      <td>12</td>\n",
       "      <td>75.29</td>\n",
       "      <td>33.35</td>\n",
       "      <td>31.24</td>\n",
       "      <td>46.3</td>\n",
       "      <td>7.058824</td>\n",
       "    </tr>\n",
       "    <tr>\n",
       "      <th>231316</th>\n",
       "      <td>14.6</td>\n",
       "      <td>3</td>\n",
       "      <td>30</td>\n",
       "      <td>62</td>\n",
       "      <td>5.000000</td>\n",
       "      <td>8</td>\n",
       "      <td>81.90</td>\n",
       "      <td>30.47</td>\n",
       "      <td>34.55</td>\n",
       "      <td>32.6</td>\n",
       "      <td>4.096045</td>\n",
       "    </tr>\n",
       "    <tr>\n",
       "      <th>231317</th>\n",
       "      <td>17.1</td>\n",
       "      <td>4</td>\n",
       "      <td>11</td>\n",
       "      <td>57</td>\n",
       "      <td>2.600000</td>\n",
       "      <td>22</td>\n",
       "      <td>87.67</td>\n",
       "      <td>35.58</td>\n",
       "      <td>36.55</td>\n",
       "      <td>47.1</td>\n",
       "      <td>4.103343</td>\n",
       "    </tr>\n",
       "    <tr>\n",
       "      <th>231318</th>\n",
       "      <td>3.2</td>\n",
       "      <td>0</td>\n",
       "      <td>21</td>\n",
       "      <td>14</td>\n",
       "      <td>4.375000</td>\n",
       "      <td>7</td>\n",
       "      <td>100.00</td>\n",
       "      <td>32.69</td>\n",
       "      <td>28.00</td>\n",
       "      <td>70.0</td>\n",
       "      <td>3.653846</td>\n",
       "    </tr>\n",
       "    <tr>\n",
       "      <th>...</th>\n",
       "      <td>...</td>\n",
       "      <td>...</td>\n",
       "      <td>...</td>\n",
       "      <td>...</td>\n",
       "      <td>...</td>\n",
       "      <td>...</td>\n",
       "      <td>...</td>\n",
       "      <td>...</td>\n",
       "      <td>...</td>\n",
       "      <td>...</td>\n",
       "      <td>...</td>\n",
       "    </tr>\n",
       "    <tr>\n",
       "      <th>328653</th>\n",
       "      <td>3.1</td>\n",
       "      <td>0</td>\n",
       "      <td>18</td>\n",
       "      <td>2</td>\n",
       "      <td>0.645161</td>\n",
       "      <td>18</td>\n",
       "      <td>100.00</td>\n",
       "      <td>23.00</td>\n",
       "      <td>28.00</td>\n",
       "      <td>70.0</td>\n",
       "      <td>2.835821</td>\n",
       "    </tr>\n",
       "    <tr>\n",
       "      <th>328654</th>\n",
       "      <td>6.3</td>\n",
       "      <td>2</td>\n",
       "      <td>26</td>\n",
       "      <td>20</td>\n",
       "      <td>2.800000</td>\n",
       "      <td>29</td>\n",
       "      <td>74.12</td>\n",
       "      <td>34.60</td>\n",
       "      <td>32.42</td>\n",
       "      <td>41.2</td>\n",
       "      <td>2.059497</td>\n",
       "    </tr>\n",
       "    <tr>\n",
       "      <th>328655</th>\n",
       "      <td>28.4</td>\n",
       "      <td>5</td>\n",
       "      <td>1</td>\n",
       "      <td>134</td>\n",
       "      <td>4.800000</td>\n",
       "      <td>32</td>\n",
       "      <td>79.03</td>\n",
       "      <td>40.86</td>\n",
       "      <td>36.30</td>\n",
       "      <td>70.0</td>\n",
       "      <td>7.407407</td>\n",
       "    </tr>\n",
       "    <tr>\n",
       "      <th>328656</th>\n",
       "      <td>9.1</td>\n",
       "      <td>1</td>\n",
       "      <td>51</td>\n",
       "      <td>23</td>\n",
       "      <td>2.600000</td>\n",
       "      <td>25</td>\n",
       "      <td>75.38</td>\n",
       "      <td>28.20</td>\n",
       "      <td>31.51</td>\n",
       "      <td>28.4</td>\n",
       "      <td>6.430318</td>\n",
       "    </tr>\n",
       "    <tr>\n",
       "      <th>328657</th>\n",
       "      <td>42.6</td>\n",
       "      <td>7</td>\n",
       "      <td>12</td>\n",
       "      <td>169</td>\n",
       "      <td>6.800000</td>\n",
       "      <td>1</td>\n",
       "      <td>83.33</td>\n",
       "      <td>29.34</td>\n",
       "      <td>42.73</td>\n",
       "      <td>33.8</td>\n",
       "      <td>9.189189</td>\n",
       "    </tr>\n",
       "  </tbody>\n",
       "</table>\n",
       "<p>97344 rows × 11 columns</p>\n",
       "</div>"
      ],
      "text/plain": [
       "        ball  wickets_so_far  ...  bowling_strike_rate  required_run_rate\n",
       "231314  26.3               4  ...                 54.1           6.202532\n",
       "231315  46.6               4  ...                 46.3           7.058824\n",
       "231316  14.6               3  ...                 32.6           4.096045\n",
       "231317  17.1               4  ...                 47.1           4.103343\n",
       "231318   3.2               0  ...                 70.0           3.653846\n",
       "...      ...             ...  ...                  ...                ...\n",
       "328653   3.1               0  ...                 70.0           2.835821\n",
       "328654   6.3               2  ...                 41.2           2.059497\n",
       "328655  28.4               5  ...                 70.0           7.407407\n",
       "328656   9.1               1  ...                 28.4           6.430318\n",
       "328657  42.6               7  ...                 33.8           9.189189\n",
       "\n",
       "[97344 rows x 11 columns]"
      ]
     },
     "execution_count": 13,
     "metadata": {
      "tags": []
     },
     "output_type": "execute_result"
    }
   ],
   "source": [
    "X_test"
   ]
  },
  {
   "cell_type": "code",
   "execution_count": 14,
   "metadata": {
    "colab": {
     "base_uri": "https://localhost:8080/"
    },
    "execution": {
     "iopub.execute_input": "2020-12-26T04:32:54.686324Z",
     "iopub.status.busy": "2020-12-26T04:32:54.683555Z",
     "iopub.status.idle": "2020-12-26T04:32:54.689312Z",
     "shell.execute_reply": "2020-12-26T04:32:54.689797Z"
    },
    "executionInfo": {
     "elapsed": 65869,
     "status": "ok",
     "timestamp": 1611764834517,
     "user": {
      "displayName": "aniket somwanshi",
      "photoUrl": "",
      "userId": "14453870072283828271"
     },
     "user_tz": -330
    },
    "id": "q4HrAMJ8YRbR",
    "outputId": "fe81862d-cfbf-4fe4-bd82-25f220c0ae80",
    "papermill": {
     "duration": 0.022416,
     "end_time": "2020-12-26T04:32:54.689910",
     "exception": false,
     "start_time": "2020-12-26T04:32:54.667494",
     "status": "completed"
    },
    "tags": []
   },
   "outputs": [
    {
     "data": {
      "text/plain": [
       "array([0, 0, 0, ..., 1, 1, 1])"
      ]
     },
     "execution_count": 14,
     "metadata": {
      "tags": []
     },
     "output_type": "execute_result"
    }
   ],
   "source": [
    "y_train"
   ]
  },
  {
   "cell_type": "markdown",
   "metadata": {
    "id": "T6X7K0koYRbV",
    "papermill": {
     "duration": 0.013749,
     "end_time": "2020-12-26T04:32:54.717793",
     "exception": false,
     "start_time": "2020-12-26T04:32:54.704044",
     "status": "completed"
    },
    "tags": []
   },
   "source": [
    "# Training"
   ]
  },
  {
   "cell_type": "code",
   "execution_count": 15,
   "metadata": {
    "executionInfo": {
     "elapsed": 65868,
     "status": "ok",
     "timestamp": 1611764834518,
     "user": {
      "displayName": "aniket somwanshi",
      "photoUrl": "",
      "userId": "14453870072283828271"
     },
     "user_tz": -330
    },
    "id": "Hm9YNIZjyNpR"
   },
   "outputs": [],
   "source": [
    "from sklearn.metrics import classification_report\n",
    "from sklearn.metrics import confusion_matrix\n",
    "from sklearn.metrics import accuracy_score\n",
    "from sklearn.metrics import precision_score\n",
    "from sklearn.metrics import recall_score"
   ]
  },
  {
   "cell_type": "code",
   "execution_count": 16,
   "metadata": {
    "colab": {
     "base_uri": "https://localhost:8080/"
    },
    "executionInfo": {
     "elapsed": 65863,
     "status": "ok",
     "timestamp": 1611764834520,
     "user": {
      "displayName": "aniket somwanshi",
      "photoUrl": "",
      "userId": "14453870072283828271"
     },
     "user_tz": -330
    },
    "id": "4vTephVChVk0",
    "outputId": "49f4bcac-cc76-4397-cfe8-0b54d8e0a6a7"
   },
   "outputs": [
    {
     "data": {
      "text/plain": [
       "False"
      ]
     },
     "execution_count": 16,
     "metadata": {
      "tags": []
     },
     "output_type": "execute_result"
    }
   ],
   "source": [
    "np.any(np.isnan(df))\n",
    "# np.isfinite(data.all()) #and gets True"
   ]
  },
  {
   "cell_type": "code",
   "execution_count": null,
   "metadata": {
    "colab": {
     "base_uri": "https://localhost:8080/"
    },
    "execution": {
     "iopub.execute_input": "2020-12-26T04:32:54.748486Z",
     "iopub.status.busy": "2020-12-26T04:32:54.747646Z",
     "iopub.status.idle": "2020-12-26T04:33:05.111960Z",
     "shell.execute_reply": "2020-12-26T04:33:05.112908Z"
    },
    "executionInfo": {
     "elapsed": 70845,
     "status": "ok",
     "timestamp": 1611764839509,
     "user": {
      "displayName": "aniket somwanshi",
      "photoUrl": "",
      "userId": "14453870072283828271"
     },
     "user_tz": -330
    },
    "id": "Cz8wjorTYRbV",
    "outputId": "5bb9c7da-1b28-458e-b4df-5c516b6b1db8",
    "papermill": {
     "duration": 10.381258,
     "end_time": "2020-12-26T04:33:05.113137",
     "exception": false,
     "start_time": "2020-12-26T04:32:54.731879",
     "status": "completed"
    },
    "tags": []
   },
   "outputs": [],
   "source": [
    "# from sklearn.linear_model import LogisticRegression\n",
    "\n",
    "# logreg = LogisticRegression()\n",
    "# logreg.fit(X_train, y_train)\n",
    "# logreg_pred = logreg.predict(X_test)\n",
    "\n",
    "# print('Accuracy of Logistic regression classifier on test set: {:.2f}'\n",
    "#      .format(logreg.score(X_test, y_test)))\n",
    "\n",
    "# print(classification_report(y_test, logreg_pred))"
   ]
  },
  {
   "cell_type": "code",
   "execution_count": null,
   "metadata": {
    "colab": {
     "base_uri": "https://localhost:8080/"
    },
    "executionInfo": {
     "elapsed": 70840,
     "status": "ok",
     "timestamp": 1611764839510,
     "user": {
      "displayName": "aniket somwanshi",
      "photoUrl": "",
      "userId": "14453870072283828271"
     },
     "user_tz": -330
    },
    "id": "eVNwBMm42OKM",
    "outputId": "b693e42c-df97-45cb-e562-ac6efc31444a"
   },
   "outputs": [],
   "source": [
    "# print(y_test.value_counts())\n",
    "# # print(type(logreg_pred))\n",
    "# print(pd.Series(logreg_pred).value_counts())"
   ]
  },
  {
   "cell_type": "code",
   "execution_count": null,
   "metadata": {
    "colab": {
     "base_uri": "https://localhost:8080/"
    },
    "executionInfo": {
     "elapsed": 77881,
     "status": "ok",
     "timestamp": 1611764846559,
     "user": {
      "displayName": "aniket somwanshi",
      "photoUrl": "",
      "userId": "14453870072283828271"
     },
     "user_tz": -330
    },
    "id": "m1hB4qvNyMru",
    "outputId": "54e72407-ba02-4b75-a6cc-624ef2cb8435"
   },
   "outputs": [],
   "source": [
    "# from sklearn.tree import DecisionTreeClassifier\n",
    "\n",
    "# clf = DecisionTreeClassifier().fit(X_train, y_train)\n",
    "\n",
    "\n",
    "# print('Accuracy of Decision Tree classifier on test set: {:.2f}'\n",
    "#      .format(clf.score(X_test, y_test)))\n",
    "\n",
    "# clf_pred = clf.predict(X_test)\n",
    "# print(classification_report(y_test, clf_pred))"
   ]
  },
  {
   "cell_type": "code",
   "execution_count": null,
   "metadata": {
    "colab": {
     "base_uri": "https://localhost:8080/"
    },
    "executionInfo": {
     "elapsed": 77874,
     "status": "ok",
     "timestamp": 1611764846560,
     "user": {
      "displayName": "aniket somwanshi",
      "photoUrl": "",
      "userId": "14453870072283828271"
     },
     "user_tz": -330
    },
    "id": "vFjNkhaj5-H0",
    "outputId": "39f73c04-d0cd-4e64-bcaf-7b0815cc1382"
   },
   "outputs": [],
   "source": [
    "# print(y_test.value_counts())\n",
    "# # print(type(logreg_pred))\n",
    "# print(pd.Series(clf_pred).value_counts())"
   ]
  },
  {
   "cell_type": "code",
   "execution_count": null,
   "metadata": {
    "colab": {
     "base_uri": "https://localhost:8080/"
    },
    "executionInfo": {
     "elapsed": 77867,
     "status": "ok",
     "timestamp": 1611764846561,
     "user": {
      "displayName": "aniket somwanshi",
      "photoUrl": "",
      "userId": "14453870072283828271"
     },
     "user_tz": -330
    },
    "id": "i4ADvjnTCrIg",
    "outputId": "f48b5b84-a6a9-471a-a17b-09b8ccfe875f"
   },
   "outputs": [],
   "source": [
    "# print(X_train.dtype.names)\n",
    "# print(clf.feature_importances_)\n",
    "# print(\"\\n\")\n",
    "# # clf.feature_importances_"
   ]
  },
  {
   "cell_type": "code",
   "execution_count": null,
   "metadata": {
    "colab": {
     "base_uri": "https://localhost:8080/"
    },
    "executionInfo": {
     "elapsed": 81530,
     "status": "ok",
     "timestamp": 1611764850233,
     "user": {
      "displayName": "aniket somwanshi",
      "photoUrl": "",
      "userId": "14453870072283828271"
     },
     "user_tz": -330
    },
    "id": "EFwvEGfIB6ap",
    "outputId": "41dbeabd-14b3-45ca-af90-8b62e74d6eb2"
   },
   "outputs": [],
   "source": [
    "# clf2 = DecisionTreeClassifier(max_depth=15).fit(X_train, y_train)\n",
    "\n",
    "# print('Accuracy of Decision Tree classifier on test set: {:.2f}'\n",
    "#      .format(clf2.score(X_test, y_test)))\n",
    "\n",
    "# clf_pred2 = (clf2.predict_proba(X_test)[:,1] >= 0.5).astype(bool) # set threshold as 0.3\n",
    "# # clf_pred2 = clf2.predict(X_test)\n",
    "# print(classification_report(y_test, clf_pred2))"
   ]
  },
  {
   "cell_type": "markdown",
   "metadata": {},
   "source": [
    "## Final model training"
   ]
  },
  {
   "cell_type": "code",
   "execution_count": null,
   "metadata": {
    "colab": {
     "base_uri": "https://localhost:8080/"
    },
    "executionInfo": {
     "elapsed": 294933,
     "status": "ok",
     "timestamp": 1611765063643,
     "user": {
      "displayName": "aniket somwanshi",
      "photoUrl": "",
      "userId": "14453870072283828271"
     },
     "user_tz": -330
    },
    "id": "h-UDc3KdOwDf",
    "outputId": "a2abcfc7-9a73-4d33-edef-85833ced8b9c"
   },
   "outputs": [],
   "source": [
    "from sklearn.ensemble import RandomForestClassifier\n",
    "\n",
    "rf = RandomForestClassifier(n_estimators=200, max_depth=30, random_state=0)\n",
    "rf.fit(X_train, y_train)\n",
    "\n",
    "print('Accuracy of Random forest classifier on test set: {:.2f}'\n",
    "     .format(rf.score(X_test, y_test)))\n",
    "\n",
    "# rf_pred = rf.predict(X_test)\n",
    "rf_pred = (rf.predict_proba(X_test)[:,1] >= 0.45).astype(bool) # set threshold as 0.3\n",
    "print(classification_report(y_test, rf_pred))"
   ]
  },
  {
   "cell_type": "markdown",
   "metadata": {},
   "source": [
    "## Export model"
   ]
  },
  {
   "cell_type": "code",
   "execution_count": 24,
   "metadata": {
    "executionInfo": {
     "elapsed": 303499,
     "status": "ok",
     "timestamp": 1611765072211,
     "user": {
      "displayName": "aniket somwanshi",
      "photoUrl": "",
      "userId": "14453870072283828271"
     },
     "user_tz": -330
    },
    "id": "78OgwnMNHnhV"
   },
   "outputs": [],
   "source": [
    "# save the best model ie random forest\n",
    "import pickle\n",
    "pkl_filename = '/content/drive/MyDrive/Inframind/Customer engagement/wicket_prediction/model_training/wicket_2_model.pkl'\n",
    "with open(pkl_filename, 'wb') as file:\n",
    "    pickle.dump(rf, file)\n"
   ]
  },
  {
   "cell_type": "code",
   "execution_count": 25,
   "metadata": {
    "executionInfo": {
     "elapsed": 303515,
     "status": "ok",
     "timestamp": 1611765072229,
     "user": {
      "displayName": "aniket somwanshi",
      "photoUrl": "",
      "userId": "14453870072283828271"
     },
     "user_tz": -330
    },
    "id": "iIqr3CV5IqYf"
   },
   "outputs": [],
   "source": [
    "# # nn \n",
    "# from keras.models import Sequential\n",
    "# from keras.layers import Dense\n",
    "\n",
    "# model = Sequential()\n",
    "\n",
    "# model.add(Dense(15, activation='relu', input_shape=(15,)))\n",
    "\n",
    "# model.add(Dense(15, activation='relu'))\n",
    "\n",
    "# model.add(Dense(1, activation='sigmoid'))\n",
    "\n",
    "# model.compile(loss='binary_crossentropy',\n",
    "#               optimizer='adam',\n",
    "#               metrics=['accuracy'])\n",
    "                   \n",
    "# model.fit(X_train, y_train,epochs=10, batch_size=5, verbose=1)\n",
    "# nn_pred = model.predict(X_test)\n",
    "# print(classification_report(y_test, nn_pred))"
   ]
  },
  {
   "cell_type": "code",
   "execution_count": 25,
   "metadata": {
    "executionInfo": {
     "elapsed": 303514,
     "status": "ok",
     "timestamp": 1611765072230,
     "user": {
      "displayName": "aniket somwanshi",
      "photoUrl": "",
      "userId": "14453870072283828271"
     },
     "user_tz": -330
    },
    "id": "V61r4vN1qhmo"
   },
   "outputs": [],
   "source": []
  },
  {
   "cell_type": "code",
   "execution_count": 26,
   "metadata": {
    "executionInfo": {
     "elapsed": 303509,
     "status": "ok",
     "timestamp": 1611765072231,
     "user": {
      "displayName": "aniket somwanshi",
      "photoUrl": "",
      "userId": "14453870072283828271"
     },
     "user_tz": -330
    },
    "id": "0NP-b1chE8SU"
   },
   "outputs": [],
   "source": [
    "# from sklearn.neighbors import KNeighborsClassifier\n",
    "\n",
    "# knn = KNeighborsClassifier()\n",
    "# knn.fit(X_train, y_train)\n",
    "\n",
    "# print('Accuracy of K-NN classifier on test set: {:.2f}'\n",
    "#      .format(knn.score(X_test, y_test)))\n",
    "\n",
    "# knn_pred = knn.predict(X_test)\n",
    "# print(classification_report(y_test, knn_pred))"
   ]
  },
  {
   "cell_type": "code",
   "execution_count": 27,
   "metadata": {
    "executionInfo": {
     "elapsed": 303502,
     "status": "ok",
     "timestamp": 1611765072232,
     "user": {
      "displayName": "aniket somwanshi",
      "photoUrl": "",
      "userId": "14453870072283828271"
     },
     "user_tz": -330
    },
    "id": "IBohOANGFI-H"
   },
   "outputs": [],
   "source": [
    "# from sklearn.discriminant_analysis import LinearDiscriminantAnalysis\n",
    "\n",
    "# lda = LinearDiscriminantAnalysis()\n",
    "# lda.fit(X_train, y_train)\n",
    "\n",
    "# print('Accuracy of LDA classifier on test set: {:.2f}'\n",
    "#      .format(lda.score(X_test, y_test)))\n",
    "\n",
    "# lda_pred = lda.predict(X_test)\n",
    "# print(classification_report(y_test, lda_pred))"
   ]
  },
  {
   "cell_type": "code",
   "execution_count": 28,
   "metadata": {
    "executionInfo": {
     "elapsed": 303498,
     "status": "ok",
     "timestamp": 1611765072234,
     "user": {
      "displayName": "aniket somwanshi",
      "photoUrl": "",
      "userId": "14453870072283828271"
     },
     "user_tz": -330
    },
    "id": "F6UVVwqwFSr5"
   },
   "outputs": [],
   "source": [
    "# from sklearn.naive_bayes import GaussianNB\n",
    "\n",
    "# gnb = GaussianNB()\n",
    "# gnb.fit(X_train, y_train)\n",
    "\n",
    "# print('Accuracy of GNB classifier on test set: {:.2f}'\n",
    "#      .format(gnb.score(X_test, y_test)))\n",
    "\n",
    "# gnb_pred = gnb.predict(X_test)\n",
    "# print(classification_report(y_test, gnb_pred))"
   ]
  }
 ],
 "metadata": {
  "accelerator": "GPU",
  "colab": {
   "collapsed_sections": [],
   "name": "model_training_inning_2.ipynb",
   "provenance": [],
   "toc_visible": true
  },
  "kernelspec": {
   "display_name": "Python 3",
   "language": "python",
   "name": "python3"
  },
  "language_info": {
   "codemirror_mode": {
    "name": "ipython",
    "version": 3
   },
   "file_extension": ".py",
   "mimetype": "text/x-python",
   "name": "python",
   "nbconvert_exporter": "python",
   "pygments_lexer": "ipython3",
   "version": "3.8.5"
  },
  "papermill": {
   "duration": 18.677598,
   "end_time": "2020-12-26T04:33:06.638327",
   "environment_variables": {},
   "exception": null,
   "input_path": "__notebook__.ipynb",
   "output_path": "__notebook__.ipynb",
   "parameters": {},
   "start_time": "2020-12-26T04:32:47.960729",
   "version": "2.1.0"
  }
 },
 "nbformat": 4,
 "nbformat_minor": 1
}

{
 "cells": [
  {
   "cell_type": "markdown",
   "metadata": {
    "id": "2WKMRCuwYRaP",
    "papermill": {
     "duration": 0.009151,
     "end_time": "2020-12-26T04:32:52.101918",
     "exception": false,
     "start_time": "2020-12-26T04:32:52.092767",
     "status": "completed"
    },
    "tags": []
   },
   "source": [
    "# Test the complete model"
   ]
  },
  {
   "cell_type": "code",
   "execution_count": 76,
   "metadata": {
    "colab": {
     "base_uri": "https://localhost:8080/"
    },
    "executionInfo": {
     "elapsed": 1014,
     "status": "ok",
     "timestamp": 1611835871785,
     "user": {
      "displayName": "aniket somwanshi",
      "photoUrl": "",
      "userId": "14453870072283828271"
     },
     "user_tz": -330
    },
    "id": "ENJnTi_UYyU-",
    "outputId": "b07fc2b1-330d-469e-8cf2-45fe4a476dcf"
   },
   "outputs": [
    {
     "name": "stdout",
     "output_type": "stream",
     "text": [
      "Drive already mounted at /content/drive; to attempt to forcibly remount, call drive.mount(\"/content/drive\", force_remount=True).\n"
     ]
    }
   ],
   "source": [
    "from google.colab import drive\n",
    "drive.mount('/content/drive')"
   ]
  },
  {
   "cell_type": "code",
   "execution_count": 77,
   "metadata": {
    "_cell_guid": "79c7e3d0-c299-4dcb-8224-4455121ee9b0",
    "_uuid": "d629ff2d2480ee46fbb7e2d37f6b5fab8052498a",
    "execution": {
     "iopub.execute_input": "2020-12-26T04:32:52.129125Z",
     "iopub.status.busy": "2020-12-26T04:32:52.128425Z",
     "iopub.status.idle": "2020-12-26T04:32:54.203903Z",
     "shell.execute_reply": "2020-12-26T04:32:54.203283Z"
    },
    "executionInfo": {
     "elapsed": 2141,
     "status": "ok",
     "timestamp": 1611835872923,
     "user": {
      "displayName": "aniket somwanshi",
      "photoUrl": "",
      "userId": "14453870072283828271"
     },
     "user_tz": -330
    },
    "id": "wzYCogF3YRaY",
    "papermill": {
     "duration": 2.092098,
     "end_time": "2020-12-26T04:32:54.204008",
     "exception": false,
     "start_time": "2020-12-26T04:32:52.111910",
     "status": "completed"
    },
    "tags": []
   },
   "outputs": [],
   "source": [
    "import numpy as np\n",
    "import pandas as pd\n",
    "from tensorflow import keras\n",
    "\n",
    "# import re\n",
    "# from sklearn.model_selection import train_test_split\n",
    "# from sklearn.preprocessing import StandardScaler\n",
    "\n",
    "# # model imports\n",
    "# from sklearn.linear_model import LinearRegression\n",
    "# from sklearn.neighbors import KNeighborsRegressor\n",
    "# from sklearn.neural_network import MLPRegressor\n",
    "# from sklearn.svm import LinearSVR, SVR\n",
    "# from sklearn.tree import DecisionTreeRegressor\n",
    "# from sklearn.ensemble import RandomForestRegressor, GradientBoostingRegressor\n",
    "\n",
    "# !pip3 install catboost\n",
    "# from catboost import CatBoostClassifier\n",
    "# #import sys\n",
    "# #!{sys.executable} -m pip install xgboost\n",
    "# from xgboost import XGBRegressor\n",
    "\n",
    "# additional imports\n",
    "from matplotlib import pyplot\n",
    "\n"
   ]
  },
  {
   "cell_type": "code",
   "execution_count": 78,
   "metadata": {
    "colab": {
     "base_uri": "https://localhost:8080/",
     "height": 224
    },
    "execution": {
     "iopub.execute_input": "2020-12-26T04:32:54.341812Z",
     "iopub.status.busy": "2020-12-26T04:32:54.341322Z",
     "iopub.status.idle": "2020-12-26T04:32:54.351169Z",
     "shell.execute_reply": "2020-12-26T04:32:54.351623Z"
    },
    "executionInfo": {
     "elapsed": 2133,
     "status": "ok",
     "timestamp": 1611835872925,
     "user": {
      "displayName": "aniket somwanshi",
      "photoUrl": "",
      "userId": "14453870072283828271"
     },
     "user_tz": -330
    },
    "id": "I6ee6mP1YRah",
    "outputId": "d8e74463-fea0-4de6-e932-24ca2de6bdef",
    "papermill": {
     "duration": 0.027021,
     "end_time": "2020-12-26T04:32:54.351736",
     "exception": false,
     "start_time": "2020-12-26T04:32:54.324715",
     "status": "completed"
    },
    "tags": []
   },
   "outputs": [
    {
     "data": {
      "text/html": [
       "<div>\n",
       "<style scoped>\n",
       "    .dataframe tbody tr th:only-of-type {\n",
       "        vertical-align: middle;\n",
       "    }\n",
       "\n",
       "    .dataframe tbody tr th {\n",
       "        vertical-align: top;\n",
       "    }\n",
       "\n",
       "    .dataframe thead th {\n",
       "        text-align: right;\n",
       "    }\n",
       "</style>\n",
       "<table border=\"1\" class=\"dataframe\">\n",
       "  <thead>\n",
       "    <tr style=\"text-align: right;\">\n",
       "      <th></th>\n",
       "      <th>inning</th>\n",
       "      <th>ball</th>\n",
       "      <th>wickets_so_far</th>\n",
       "      <th>balls_in_partnership</th>\n",
       "      <th>runs_so_far</th>\n",
       "      <th>run_rate_last_5_overs</th>\n",
       "      <th>balls_since_last_boundary</th>\n",
       "      <th>boundary_this_over</th>\n",
       "      <th>wicket_this_over</th>\n",
       "      <th>strike_rate</th>\n",
       "      <th>bowling_average</th>\n",
       "      <th>batting_average</th>\n",
       "      <th>bowling_strike_rate</th>\n",
       "      <th>required_run_rate</th>\n",
       "      <th>big_moment</th>\n",
       "    </tr>\n",
       "  </thead>\n",
       "  <tbody>\n",
       "    <tr>\n",
       "      <th>0</th>\n",
       "      <td>1</td>\n",
       "      <td>0.1</td>\n",
       "      <td>0</td>\n",
       "      <td>0</td>\n",
       "      <td>0</td>\n",
       "      <td>0.0</td>\n",
       "      <td>0</td>\n",
       "      <td>0</td>\n",
       "      <td>0</td>\n",
       "      <td>95.94</td>\n",
       "      <td>29.62</td>\n",
       "      <td>45.77</td>\n",
       "      <td>37.1</td>\n",
       "      <td>0.0</td>\n",
       "      <td>0</td>\n",
       "    </tr>\n",
       "    <tr>\n",
       "      <th>1</th>\n",
       "      <td>1</td>\n",
       "      <td>0.2</td>\n",
       "      <td>0</td>\n",
       "      <td>1</td>\n",
       "      <td>0</td>\n",
       "      <td>0.0</td>\n",
       "      <td>1</td>\n",
       "      <td>0</td>\n",
       "      <td>0</td>\n",
       "      <td>95.94</td>\n",
       "      <td>29.62</td>\n",
       "      <td>45.77</td>\n",
       "      <td>37.1</td>\n",
       "      <td>0.0</td>\n",
       "      <td>0</td>\n",
       "    </tr>\n",
       "    <tr>\n",
       "      <th>2</th>\n",
       "      <td>1</td>\n",
       "      <td>0.3</td>\n",
       "      <td>0</td>\n",
       "      <td>2</td>\n",
       "      <td>0</td>\n",
       "      <td>0.0</td>\n",
       "      <td>2</td>\n",
       "      <td>0</td>\n",
       "      <td>0</td>\n",
       "      <td>95.94</td>\n",
       "      <td>29.62</td>\n",
       "      <td>45.77</td>\n",
       "      <td>37.1</td>\n",
       "      <td>0.0</td>\n",
       "      <td>0</td>\n",
       "    </tr>\n",
       "    <tr>\n",
       "      <th>3</th>\n",
       "      <td>1</td>\n",
       "      <td>0.4</td>\n",
       "      <td>0</td>\n",
       "      <td>3</td>\n",
       "      <td>0</td>\n",
       "      <td>0.0</td>\n",
       "      <td>3</td>\n",
       "      <td>0</td>\n",
       "      <td>0</td>\n",
       "      <td>95.94</td>\n",
       "      <td>29.62</td>\n",
       "      <td>45.77</td>\n",
       "      <td>37.1</td>\n",
       "      <td>0.0</td>\n",
       "      <td>0</td>\n",
       "    </tr>\n",
       "    <tr>\n",
       "      <th>4</th>\n",
       "      <td>1</td>\n",
       "      <td>0.5</td>\n",
       "      <td>0</td>\n",
       "      <td>4</td>\n",
       "      <td>0</td>\n",
       "      <td>0.0</td>\n",
       "      <td>4</td>\n",
       "      <td>0</td>\n",
       "      <td>0</td>\n",
       "      <td>95.94</td>\n",
       "      <td>29.62</td>\n",
       "      <td>45.77</td>\n",
       "      <td>37.1</td>\n",
       "      <td>0.0</td>\n",
       "      <td>0</td>\n",
       "    </tr>\n",
       "  </tbody>\n",
       "</table>\n",
       "</div>"
      ],
      "text/plain": [
       "   inning  ball  ...  required_run_rate  big_moment\n",
       "0       1   0.1  ...                0.0           0\n",
       "1       1   0.2  ...                0.0           0\n",
       "2       1   0.3  ...                0.0           0\n",
       "3       1   0.4  ...                0.0           0\n",
       "4       1   0.5  ...                0.0           0\n",
       "\n",
       "[5 rows x 15 columns]"
      ]
     },
     "execution_count": 78,
     "metadata": {
      "tags": []
     },
     "output_type": "execute_result"
    }
   ],
   "source": [
    "df1 = pd.read_csv('/content/drive/MyDrive/Inframind/Customer engagement/original_dataset/processed_dataset_inning_1.csv')\n",
    "df1.head()"
   ]
  },
  {
   "cell_type": "code",
   "execution_count": 79,
   "metadata": {
    "colab": {
     "base_uri": "https://localhost:8080/",
     "height": 224
    },
    "executionInfo": {
     "elapsed": 2704,
     "status": "ok",
     "timestamp": 1611835873507,
     "user": {
      "displayName": "aniket somwanshi",
      "photoUrl": "",
      "userId": "14453870072283828271"
     },
     "user_tz": -330
    },
    "id": "Rv25K0QhtJW3",
    "outputId": "7fd68ac7-050c-41d0-b338-b511d7651c16"
   },
   "outputs": [
    {
     "data": {
      "text/html": [
       "<div>\n",
       "<style scoped>\n",
       "    .dataframe tbody tr th:only-of-type {\n",
       "        vertical-align: middle;\n",
       "    }\n",
       "\n",
       "    .dataframe tbody tr th {\n",
       "        vertical-align: top;\n",
       "    }\n",
       "\n",
       "    .dataframe thead th {\n",
       "        text-align: right;\n",
       "    }\n",
       "</style>\n",
       "<table border=\"1\" class=\"dataframe\">\n",
       "  <thead>\n",
       "    <tr style=\"text-align: right;\">\n",
       "      <th></th>\n",
       "      <th>inning</th>\n",
       "      <th>ball</th>\n",
       "      <th>wickets_so_far</th>\n",
       "      <th>balls_in_partnership</th>\n",
       "      <th>runs_so_far</th>\n",
       "      <th>run_rate_last_5_overs</th>\n",
       "      <th>balls_since_last_boundary</th>\n",
       "      <th>boundary_this_over</th>\n",
       "      <th>wicket_this_over</th>\n",
       "      <th>strike_rate</th>\n",
       "      <th>bowling_average</th>\n",
       "      <th>batting_average</th>\n",
       "      <th>bowling_strike_rate</th>\n",
       "      <th>required_run_rate</th>\n",
       "      <th>big_moment</th>\n",
       "    </tr>\n",
       "  </thead>\n",
       "  <tbody>\n",
       "    <tr>\n",
       "      <th>0</th>\n",
       "      <td>2</td>\n",
       "      <td>0.1</td>\n",
       "      <td>0</td>\n",
       "      <td>0</td>\n",
       "      <td>0</td>\n",
       "      <td>0.0</td>\n",
       "      <td>0</td>\n",
       "      <td>0</td>\n",
       "      <td>0</td>\n",
       "      <td>74.45</td>\n",
       "      <td>20.99</td>\n",
       "      <td>36.90</td>\n",
       "      <td>25.0</td>\n",
       "      <td>5.130261</td>\n",
       "      <td>0</td>\n",
       "    </tr>\n",
       "    <tr>\n",
       "      <th>1</th>\n",
       "      <td>2</td>\n",
       "      <td>0.2</td>\n",
       "      <td>0</td>\n",
       "      <td>1</td>\n",
       "      <td>0</td>\n",
       "      <td>0.0</td>\n",
       "      <td>1</td>\n",
       "      <td>0</td>\n",
       "      <td>0</td>\n",
       "      <td>74.45</td>\n",
       "      <td>20.99</td>\n",
       "      <td>36.90</td>\n",
       "      <td>25.0</td>\n",
       "      <td>5.140562</td>\n",
       "      <td>0</td>\n",
       "    </tr>\n",
       "    <tr>\n",
       "      <th>2</th>\n",
       "      <td>2</td>\n",
       "      <td>0.3</td>\n",
       "      <td>0</td>\n",
       "      <td>2</td>\n",
       "      <td>0</td>\n",
       "      <td>0.0</td>\n",
       "      <td>2</td>\n",
       "      <td>0</td>\n",
       "      <td>0</td>\n",
       "      <td>74.45</td>\n",
       "      <td>20.99</td>\n",
       "      <td>36.90</td>\n",
       "      <td>25.0</td>\n",
       "      <td>5.150905</td>\n",
       "      <td>0</td>\n",
       "    </tr>\n",
       "    <tr>\n",
       "      <th>3</th>\n",
       "      <td>2</td>\n",
       "      <td>0.4</td>\n",
       "      <td>0</td>\n",
       "      <td>3</td>\n",
       "      <td>0</td>\n",
       "      <td>0.0</td>\n",
       "      <td>3</td>\n",
       "      <td>0</td>\n",
       "      <td>0</td>\n",
       "      <td>74.45</td>\n",
       "      <td>20.99</td>\n",
       "      <td>36.90</td>\n",
       "      <td>25.0</td>\n",
       "      <td>5.161290</td>\n",
       "      <td>0</td>\n",
       "    </tr>\n",
       "    <tr>\n",
       "      <th>4</th>\n",
       "      <td>2</td>\n",
       "      <td>0.5</td>\n",
       "      <td>0</td>\n",
       "      <td>4</td>\n",
       "      <td>1</td>\n",
       "      <td>2.0</td>\n",
       "      <td>4</td>\n",
       "      <td>0</td>\n",
       "      <td>0</td>\n",
       "      <td>113.40</td>\n",
       "      <td>20.99</td>\n",
       "      <td>32.48</td>\n",
       "      <td>25.0</td>\n",
       "      <td>5.151515</td>\n",
       "      <td>0</td>\n",
       "    </tr>\n",
       "  </tbody>\n",
       "</table>\n",
       "</div>"
      ],
      "text/plain": [
       "   inning  ball  ...  required_run_rate  big_moment\n",
       "0       2   0.1  ...           5.130261           0\n",
       "1       2   0.2  ...           5.140562           0\n",
       "2       2   0.3  ...           5.150905           0\n",
       "3       2   0.4  ...           5.161290           0\n",
       "4       2   0.5  ...           5.151515           0\n",
       "\n",
       "[5 rows x 15 columns]"
      ]
     },
     "execution_count": 79,
     "metadata": {
      "tags": []
     },
     "output_type": "execute_result"
    }
   ],
   "source": [
    "df2 = pd.read_csv('/content/drive/MyDrive/Inframind/Customer engagement/original_dataset/processed_dataset_inning_2.csv')\n",
    "df2.head()"
   ]
  },
  {
   "cell_type": "markdown",
   "metadata": {},
   "source": [
    "## Import the models"
   ]
  },
  {
   "cell_type": "code",
   "execution_count": 80,
   "metadata": {
    "executionInfo": {
     "elapsed": 7535,
     "status": "ok",
     "timestamp": 1611835878348,
     "user": {
      "displayName": "aniket somwanshi",
      "photoUrl": "",
      "userId": "14453870072283828271"
     },
     "user_tz": -330
    },
    "id": "unPELlzFtGSA"
   },
   "outputs": [],
   "source": [
    "#load models \n",
    "import pickle\n",
    "with open('/content/drive/MyDrive/Inframind/Customer engagement/boundry_prediction/model_training/boundary_1_model.pkl', 'rb') as file:\n",
    "    boundary_1 = pickle.load(file)\n",
    "\n",
    "with open('/content/drive/MyDrive/Inframind/Customer engagement/boundry_prediction/model_training/boundary_2_model.pkl', 'rb') as file:\n",
    "    boundary_2 = pickle.load(file)\n",
    "\n",
    "with open('/content/drive/MyDrive/Inframind/Customer engagement/wicket_prediction/model_training/wicket_1_model.pkl', 'rb') as file:\n",
    "    wicket_1 = pickle.load(file)\n",
    "\n",
    "with open('/content/drive/MyDrive/Inframind/Customer engagement/wicket_prediction/model_training/wicket_2_model.pkl', 'rb') as file:\n",
    "    wicket_2 = pickle.load(file)\n",
    "\n",
    "# boundary_1 = keras.models.load_model(\"/content/drive/MyDrive/Inframind/Customer engagement/boundry_prediction/model_training/boundary_1_model.pkl\")\n",
    "# boundary_2 = keras.models.load_model(\"/content/drive/MyDrive/Inframind/Customer engagement/boundry_prediction/model_training/boundary_2_model.pkl\")\n",
    "# wicket_1 = keras.models.load_model(\"/content/drive/MyDrive/Inframind/Customer engagement/wicket_prediction/model_training/wicket_1_model.pkl\")\n",
    "# wicket_2 = keras.models.load_model(\"/content/drive/MyDrive/Inframind/Customer engagement/wicket_prediction/model_training/wicket_2_model.pkl\")\n"
   ]
  },
  {
   "cell_type": "code",
   "execution_count": 80,
   "metadata": {
    "executionInfo": {
     "elapsed": 7548,
     "status": "ok",
     "timestamp": 1611835878365,
     "user": {
      "displayName": "aniket somwanshi",
      "photoUrl": "",
      "userId": "14453870072283828271"
     },
     "user_tz": -330
    },
    "id": "3TPlbvhBtzsm"
   },
   "outputs": [],
   "source": []
  },
  {
   "cell_type": "markdown",
   "metadata": {
    "id": "BEd_Ke3uYRai",
    "papermill": {
     "duration": 0.01167,
     "end_time": "2020-12-26T04:32:54.374953",
     "exception": false,
     "start_time": "2020-12-26T04:32:54.363283",
     "status": "completed"
    },
    "tags": []
   },
   "source": [
    "# Preprocessing"
   ]
  },
  {
   "cell_type": "markdown",
   "metadata": {
    "id": "pWXAhDSltCSv"
   },
   "source": [
    "## Innings 2 boundary prediction"
   ]
  },
  {
   "cell_type": "code",
   "execution_count": 81,
   "metadata": {
    "executionInfo": {
     "elapsed": 7545,
     "status": "ok",
     "timestamp": 1611835878370,
     "user": {
      "displayName": "aniket somwanshi",
      "photoUrl": "",
      "userId": "14453870072283828271"
     },
     "user_tz": -330
    },
    "id": "LJSrJJcItyo3"
   },
   "outputs": [],
   "source": [
    "df2b = df2.copy()"
   ]
  },
  {
   "cell_type": "code",
   "execution_count": 82,
   "metadata": {
    "colab": {
     "base_uri": "https://localhost:8080/",
     "height": 224
    },
    "executionInfo": {
     "elapsed": 7544,
     "status": "ok",
     "timestamp": 1611835878376,
     "user": {
      "displayName": "aniket somwanshi",
      "photoUrl": "",
      "userId": "14453870072283828271"
     },
     "user_tz": -330
    },
    "id": "2FgJRSxYPpSA",
    "outputId": "10d79b01-d813-4d57-ced5-f6c1275463e6"
   },
   "outputs": [
    {
     "data": {
      "text/html": [
       "<div>\n",
       "<style scoped>\n",
       "    .dataframe tbody tr th:only-of-type {\n",
       "        vertical-align: middle;\n",
       "    }\n",
       "\n",
       "    .dataframe tbody tr th {\n",
       "        vertical-align: top;\n",
       "    }\n",
       "\n",
       "    .dataframe thead th {\n",
       "        text-align: right;\n",
       "    }\n",
       "</style>\n",
       "<table border=\"1\" class=\"dataframe\">\n",
       "  <thead>\n",
       "    <tr style=\"text-align: right;\">\n",
       "      <th></th>\n",
       "      <th>ball</th>\n",
       "      <th>wickets_so_far</th>\n",
       "      <th>balls_in_partnership</th>\n",
       "      <th>runs_so_far</th>\n",
       "      <th>run_rate_last_5_overs</th>\n",
       "      <th>balls_since_last_boundary</th>\n",
       "      <th>boundary_this_over</th>\n",
       "      <th>strike_rate</th>\n",
       "      <th>bowling_average</th>\n",
       "      <th>batting_average</th>\n",
       "      <th>bowling_strike_rate</th>\n",
       "      <th>required_run_rate</th>\n",
       "    </tr>\n",
       "  </thead>\n",
       "  <tbody>\n",
       "    <tr>\n",
       "      <th>0</th>\n",
       "      <td>0.1</td>\n",
       "      <td>0</td>\n",
       "      <td>0</td>\n",
       "      <td>0</td>\n",
       "      <td>0.0</td>\n",
       "      <td>0</td>\n",
       "      <td>0</td>\n",
       "      <td>74.45</td>\n",
       "      <td>20.99</td>\n",
       "      <td>36.90</td>\n",
       "      <td>25.0</td>\n",
       "      <td>5.130261</td>\n",
       "    </tr>\n",
       "    <tr>\n",
       "      <th>1</th>\n",
       "      <td>0.2</td>\n",
       "      <td>0</td>\n",
       "      <td>1</td>\n",
       "      <td>0</td>\n",
       "      <td>0.0</td>\n",
       "      <td>1</td>\n",
       "      <td>0</td>\n",
       "      <td>74.45</td>\n",
       "      <td>20.99</td>\n",
       "      <td>36.90</td>\n",
       "      <td>25.0</td>\n",
       "      <td>5.140562</td>\n",
       "    </tr>\n",
       "    <tr>\n",
       "      <th>2</th>\n",
       "      <td>0.3</td>\n",
       "      <td>0</td>\n",
       "      <td>2</td>\n",
       "      <td>0</td>\n",
       "      <td>0.0</td>\n",
       "      <td>2</td>\n",
       "      <td>0</td>\n",
       "      <td>74.45</td>\n",
       "      <td>20.99</td>\n",
       "      <td>36.90</td>\n",
       "      <td>25.0</td>\n",
       "      <td>5.150905</td>\n",
       "    </tr>\n",
       "    <tr>\n",
       "      <th>3</th>\n",
       "      <td>0.4</td>\n",
       "      <td>0</td>\n",
       "      <td>3</td>\n",
       "      <td>0</td>\n",
       "      <td>0.0</td>\n",
       "      <td>3</td>\n",
       "      <td>0</td>\n",
       "      <td>74.45</td>\n",
       "      <td>20.99</td>\n",
       "      <td>36.90</td>\n",
       "      <td>25.0</td>\n",
       "      <td>5.161290</td>\n",
       "    </tr>\n",
       "    <tr>\n",
       "      <th>4</th>\n",
       "      <td>0.5</td>\n",
       "      <td>0</td>\n",
       "      <td>4</td>\n",
       "      <td>1</td>\n",
       "      <td>2.0</td>\n",
       "      <td>4</td>\n",
       "      <td>0</td>\n",
       "      <td>113.40</td>\n",
       "      <td>20.99</td>\n",
       "      <td>32.48</td>\n",
       "      <td>25.0</td>\n",
       "      <td>5.151515</td>\n",
       "    </tr>\n",
       "  </tbody>\n",
       "</table>\n",
       "</div>"
      ],
      "text/plain": [
       "   ball  wickets_so_far  ...  bowling_strike_rate  required_run_rate\n",
       "0   0.1               0  ...                 25.0           5.130261\n",
       "1   0.2               0  ...                 25.0           5.140562\n",
       "2   0.3               0  ...                 25.0           5.150905\n",
       "3   0.4               0  ...                 25.0           5.161290\n",
       "4   0.5               0  ...                 25.0           5.151515\n",
       "\n",
       "[5 rows x 12 columns]"
      ]
     },
     "execution_count": 82,
     "metadata": {
      "tags": []
     },
     "output_type": "execute_result"
    }
   ],
   "source": [
    "df2b.drop(['inning','wicket_this_over','big_moment'], axis = 1, inplace = True) \n",
    "df2b.head()"
   ]
  },
  {
   "cell_type": "code",
   "execution_count": 83,
   "metadata": {
    "colab": {
     "base_uri": "https://localhost:8080/",
     "height": 439
    },
    "executionInfo": {
     "elapsed": 7535,
     "status": "ok",
     "timestamp": 1611835878379,
     "user": {
      "displayName": "aniket somwanshi",
      "photoUrl": "",
      "userId": "14453870072283828271"
     },
     "user_tz": -330
    },
    "id": "E-KNArmB5F-m",
    "outputId": "08fa1972-1a5c-4ff8-906c-452f911efd6b"
   },
   "outputs": [
    {
     "data": {
      "text/html": [
       "<div>\n",
       "<style scoped>\n",
       "    .dataframe tbody tr th:only-of-type {\n",
       "        vertical-align: middle;\n",
       "    }\n",
       "\n",
       "    .dataframe tbody tr th {\n",
       "        vertical-align: top;\n",
       "    }\n",
       "\n",
       "    .dataframe thead th {\n",
       "        text-align: right;\n",
       "    }\n",
       "</style>\n",
       "<table border=\"1\" class=\"dataframe\">\n",
       "  <thead>\n",
       "    <tr style=\"text-align: right;\">\n",
       "      <th></th>\n",
       "      <th>inning</th>\n",
       "      <th>ball</th>\n",
       "      <th>wickets_so_far</th>\n",
       "      <th>balls_in_partnership</th>\n",
       "      <th>runs_so_far</th>\n",
       "      <th>run_rate_last_5_overs</th>\n",
       "      <th>balls_since_last_boundary</th>\n",
       "      <th>boundary_this_over</th>\n",
       "      <th>wicket_this_over</th>\n",
       "      <th>strike_rate</th>\n",
       "      <th>bowling_average</th>\n",
       "      <th>batting_average</th>\n",
       "      <th>bowling_strike_rate</th>\n",
       "      <th>required_run_rate</th>\n",
       "      <th>big_moment</th>\n",
       "    </tr>\n",
       "  </thead>\n",
       "  <tbody>\n",
       "    <tr>\n",
       "      <th>0</th>\n",
       "      <td>2</td>\n",
       "      <td>0.1</td>\n",
       "      <td>0</td>\n",
       "      <td>0</td>\n",
       "      <td>0</td>\n",
       "      <td>0.0</td>\n",
       "      <td>0</td>\n",
       "      <td>0</td>\n",
       "      <td>0</td>\n",
       "      <td>74.45</td>\n",
       "      <td>20.99</td>\n",
       "      <td>36.90</td>\n",
       "      <td>25.0</td>\n",
       "      <td>5.130261</td>\n",
       "      <td>0</td>\n",
       "    </tr>\n",
       "    <tr>\n",
       "      <th>1</th>\n",
       "      <td>2</td>\n",
       "      <td>0.2</td>\n",
       "      <td>0</td>\n",
       "      <td>1</td>\n",
       "      <td>0</td>\n",
       "      <td>0.0</td>\n",
       "      <td>1</td>\n",
       "      <td>0</td>\n",
       "      <td>0</td>\n",
       "      <td>74.45</td>\n",
       "      <td>20.99</td>\n",
       "      <td>36.90</td>\n",
       "      <td>25.0</td>\n",
       "      <td>5.140562</td>\n",
       "      <td>0</td>\n",
       "    </tr>\n",
       "    <tr>\n",
       "      <th>2</th>\n",
       "      <td>2</td>\n",
       "      <td>0.3</td>\n",
       "      <td>0</td>\n",
       "      <td>2</td>\n",
       "      <td>0</td>\n",
       "      <td>0.0</td>\n",
       "      <td>2</td>\n",
       "      <td>0</td>\n",
       "      <td>0</td>\n",
       "      <td>74.45</td>\n",
       "      <td>20.99</td>\n",
       "      <td>36.90</td>\n",
       "      <td>25.0</td>\n",
       "      <td>5.150905</td>\n",
       "      <td>0</td>\n",
       "    </tr>\n",
       "    <tr>\n",
       "      <th>3</th>\n",
       "      <td>2</td>\n",
       "      <td>0.4</td>\n",
       "      <td>0</td>\n",
       "      <td>3</td>\n",
       "      <td>0</td>\n",
       "      <td>0.0</td>\n",
       "      <td>3</td>\n",
       "      <td>0</td>\n",
       "      <td>0</td>\n",
       "      <td>74.45</td>\n",
       "      <td>20.99</td>\n",
       "      <td>36.90</td>\n",
       "      <td>25.0</td>\n",
       "      <td>5.161290</td>\n",
       "      <td>0</td>\n",
       "    </tr>\n",
       "    <tr>\n",
       "      <th>4</th>\n",
       "      <td>2</td>\n",
       "      <td>0.5</td>\n",
       "      <td>0</td>\n",
       "      <td>4</td>\n",
       "      <td>1</td>\n",
       "      <td>2.0</td>\n",
       "      <td>4</td>\n",
       "      <td>0</td>\n",
       "      <td>0</td>\n",
       "      <td>113.40</td>\n",
       "      <td>20.99</td>\n",
       "      <td>32.48</td>\n",
       "      <td>25.0</td>\n",
       "      <td>5.151515</td>\n",
       "      <td>0</td>\n",
       "    </tr>\n",
       "    <tr>\n",
       "      <th>...</th>\n",
       "      <td>...</td>\n",
       "      <td>...</td>\n",
       "      <td>...</td>\n",
       "      <td>...</td>\n",
       "      <td>...</td>\n",
       "      <td>...</td>\n",
       "      <td>...</td>\n",
       "      <td>...</td>\n",
       "      <td>...</td>\n",
       "      <td>...</td>\n",
       "      <td>...</td>\n",
       "      <td>...</td>\n",
       "      <td>...</td>\n",
       "      <td>...</td>\n",
       "      <td>...</td>\n",
       "    </tr>\n",
       "    <tr>\n",
       "      <th>328653</th>\n",
       "      <td>2</td>\n",
       "      <td>46.4</td>\n",
       "      <td>8</td>\n",
       "      <td>31</td>\n",
       "      <td>250</td>\n",
       "      <td>9.8</td>\n",
       "      <td>0</td>\n",
       "      <td>0</td>\n",
       "      <td>0</td>\n",
       "      <td>100.43</td>\n",
       "      <td>41.71</td>\n",
       "      <td>20.30</td>\n",
       "      <td>41.6</td>\n",
       "      <td>0.555556</td>\n",
       "      <td>0</td>\n",
       "    </tr>\n",
       "    <tr>\n",
       "      <th>328654</th>\n",
       "      <td>2</td>\n",
       "      <td>46.5</td>\n",
       "      <td>8</td>\n",
       "      <td>32</td>\n",
       "      <td>250</td>\n",
       "      <td>9.4</td>\n",
       "      <td>1</td>\n",
       "      <td>0</td>\n",
       "      <td>0</td>\n",
       "      <td>100.43</td>\n",
       "      <td>41.71</td>\n",
       "      <td>20.30</td>\n",
       "      <td>41.6</td>\n",
       "      <td>0.571429</td>\n",
       "      <td>0</td>\n",
       "    </tr>\n",
       "    <tr>\n",
       "      <th>328655</th>\n",
       "      <td>2</td>\n",
       "      <td>46.6</td>\n",
       "      <td>8</td>\n",
       "      <td>33</td>\n",
       "      <td>251</td>\n",
       "      <td>9.6</td>\n",
       "      <td>2</td>\n",
       "      <td>0</td>\n",
       "      <td>0</td>\n",
       "      <td>60.31</td>\n",
       "      <td>41.71</td>\n",
       "      <td>8.44</td>\n",
       "      <td>41.6</td>\n",
       "      <td>0.294118</td>\n",
       "      <td>0</td>\n",
       "    </tr>\n",
       "    <tr>\n",
       "      <th>328656</th>\n",
       "      <td>2</td>\n",
       "      <td>47.1</td>\n",
       "      <td>8</td>\n",
       "      <td>34</td>\n",
       "      <td>251</td>\n",
       "      <td>9.6</td>\n",
       "      <td>3</td>\n",
       "      <td>0</td>\n",
       "      <td>1</td>\n",
       "      <td>100.43</td>\n",
       "      <td>31.79</td>\n",
       "      <td>20.30</td>\n",
       "      <td>33.9</td>\n",
       "      <td>0.344828</td>\n",
       "      <td>1</td>\n",
       "    </tr>\n",
       "    <tr>\n",
       "      <th>328657</th>\n",
       "      <td>2</td>\n",
       "      <td>47.2</td>\n",
       "      <td>9</td>\n",
       "      <td>0</td>\n",
       "      <td>251</td>\n",
       "      <td>9.6</td>\n",
       "      <td>4</td>\n",
       "      <td>0</td>\n",
       "      <td>0</td>\n",
       "      <td>60.00</td>\n",
       "      <td>40.00</td>\n",
       "      <td>20.00</td>\n",
       "      <td>70.0</td>\n",
       "      <td>0.357143</td>\n",
       "      <td>0</td>\n",
       "    </tr>\n",
       "  </tbody>\n",
       "</table>\n",
       "<p>328658 rows × 15 columns</p>\n",
       "</div>"
      ],
      "text/plain": [
       "        inning  ball  ...  required_run_rate  big_moment\n",
       "0            2   0.1  ...           5.130261           0\n",
       "1            2   0.2  ...           5.140562           0\n",
       "2            2   0.3  ...           5.150905           0\n",
       "3            2   0.4  ...           5.161290           0\n",
       "4            2   0.5  ...           5.151515           0\n",
       "...        ...   ...  ...                ...         ...\n",
       "328653       2  46.4  ...           0.555556           0\n",
       "328654       2  46.5  ...           0.571429           0\n",
       "328655       2  46.6  ...           0.294118           0\n",
       "328656       2  47.1  ...           0.344828           1\n",
       "328657       2  47.2  ...           0.357143           0\n",
       "\n",
       "[328658 rows x 15 columns]"
      ]
     },
     "execution_count": 83,
     "metadata": {
      "tags": []
     },
     "output_type": "execute_result"
    }
   ],
   "source": [
    "df2"
   ]
  },
  {
   "cell_type": "code",
   "execution_count": 85,
   "metadata": {
    "execution": {
     "iopub.execute_input": "2020-12-26T04:32:54.484195Z",
     "iopub.status.busy": "2020-12-26T04:32:54.483624Z",
     "iopub.status.idle": "2020-12-26T04:32:54.494766Z",
     "shell.execute_reply": "2020-12-26T04:32:54.495360Z"
    },
    "executionInfo": {
     "elapsed": 7578,
     "status": "ok",
     "timestamp": 1611835878435,
     "user": {
      "displayName": "aniket somwanshi",
      "photoUrl": "",
      "userId": "14453870072283828271"
     },
     "user_tz": -330
    },
    "id": "-TRSle8LYRbI",
    "papermill": {
     "duration": 0.026412,
     "end_time": "2020-12-26T04:32:54.495470",
     "exception": false,
     "start_time": "2020-12-26T04:32:54.469058",
     "status": "completed"
    },
    "tags": []
   },
   "outputs": [],
   "source": [
    "from imblearn.over_sampling import SMOTE\n",
    "def preprocess_inputs_b(data):\n",
    "  num_of_rows = 231314\n",
    "  \n",
    "  y = data['boundary_this_over'].copy()\n",
    "  x = data.drop('boundary_this_over', axis=1).copy()\n",
    "  \n",
    "  y_train = y.iloc[:num_of_rows] #indexes rows for test data\n",
    "  X_train = x.iloc[:num_of_rows] #indexes rows for training data\n",
    "\n",
    "  X_test = x.iloc[num_of_rows:] #indexes rows for training data\n",
    "  y_test = y.iloc[num_of_rows:] #indexes rows for test data\n",
    "\n",
    "\n",
    "\n",
    "  # perform oversampling for minority class\n",
    "  \n",
    "  smote = SMOTE(sampling_strategy=0.5)\n",
    "  X_train, y_train = smote.fit_sample(X_train, y_train)\n",
    "\n",
    "\n",
    "  return X_train, X_test, y_train, y_test"
   ]
  },
  {
   "cell_type": "code",
   "execution_count": 86,
   "metadata": {
    "colab": {
     "base_uri": "https://localhost:8080/"
    },
    "execution": {
     "iopub.execute_input": "2020-12-26T04:32:54.522973Z",
     "iopub.status.busy": "2020-12-26T04:32:54.522391Z",
     "iopub.status.idle": "2020-12-26T04:32:54.598431Z",
     "shell.execute_reply": "2020-12-26T04:32:54.597921Z"
    },
    "executionInfo": {
     "elapsed": 8768,
     "status": "ok",
     "timestamp": 1611835879631,
     "user": {
      "displayName": "aniket somwanshi",
      "photoUrl": "",
      "userId": "14453870072283828271"
     },
     "user_tz": -330
    },
    "id": "RijXdvvPYRbL",
    "outputId": "762bf099-e44a-48e8-e596-c41e0a06798f",
    "papermill": {
     "duration": 0.090911,
     "end_time": "2020-12-26T04:32:54.598528",
     "exception": false,
     "start_time": "2020-12-26T04:32:54.507617",
     "status": "completed"
    },
    "tags": []
   },
   "outputs": [
    {
     "name": "stderr",
     "output_type": "stream",
     "text": [
      "/usr/local/lib/python3.6/dist-packages/sklearn/utils/deprecation.py:87: FutureWarning: Function safe_indexing is deprecated; safe_indexing is deprecated in version 0.22 and will be removed in version 0.24.\n",
      "  warnings.warn(msg, category=FutureWarning)\n"
     ]
    }
   ],
   "source": [
    "X_train, X_test, y_train, y_test = preprocess_inputs_b(df2b)"
   ]
  },
  {
   "cell_type": "code",
   "execution_count": 87,
   "metadata": {
    "colab": {
     "base_uri": "https://localhost:8080/"
    },
    "executionInfo": {
     "elapsed": 8764,
     "status": "ok",
     "timestamp": 1611835879637,
     "user": {
      "displayName": "aniket somwanshi",
      "photoUrl": "",
      "userId": "14453870072283828271"
     },
     "user_tz": -330
    },
    "id": "PnYU8AGOreUg",
    "outputId": "9d72c403-b55d-4a85-f7bb-05a57606b34e"
   },
   "outputs": [
    {
     "data": {
      "text/plain": [
       "(numpy.ndarray,\n",
       " pandas.core.frame.DataFrame,\n",
       " numpy.ndarray,\n",
       " pandas.core.series.Series)"
      ]
     },
     "execution_count": 87,
     "metadata": {
      "tags": []
     },
     "output_type": "execute_result"
    }
   ],
   "source": [
    "type(X_train), type(X_test), type(y_train) ,type(y_test)"
   ]
  },
  {
   "cell_type": "code",
   "execution_count": 88,
   "metadata": {
    "colab": {
     "base_uri": "https://localhost:8080/"
    },
    "executionInfo": {
     "elapsed": 8754,
     "status": "ok",
     "timestamp": 1611835879638,
     "user": {
      "displayName": "aniket somwanshi",
      "photoUrl": "",
      "userId": "14453870072283828271"
     },
     "user_tz": -330
    },
    "id": "1SlZvl0Y8eMG",
    "outputId": "a4999ca9-83e8-46eb-b700-b05372e4ea2e"
   },
   "outputs": [
    {
     "name": "stdout",
     "output_type": "stream",
     "text": [
      "Frequency of unique values of the said array:\n",
      "[[     0      1]\n",
      " [215204 107602]]\n"
     ]
    }
   ],
   "source": [
    "unique_elements, counts_elements = np.unique(y_train, return_counts=True)\n",
    "print(\"Frequency of unique values of the said array:\")\n",
    "print(np.asarray((unique_elements, counts_elements)))\n"
   ]
  },
  {
   "cell_type": "code",
   "execution_count": 89,
   "metadata": {
    "colab": {
     "base_uri": "https://localhost:8080/",
     "height": 439
    },
    "execution": {
     "iopub.execute_input": "2020-12-26T04:32:54.638901Z",
     "iopub.status.busy": "2020-12-26T04:32:54.635470Z",
     "iopub.status.idle": "2020-12-26T04:32:54.652990Z",
     "shell.execute_reply": "2020-12-26T04:32:54.653467Z"
    },
    "executionInfo": {
     "elapsed": 8733,
     "status": "ok",
     "timestamp": 1611835879639,
     "user": {
      "displayName": "aniket somwanshi",
      "photoUrl": "",
      "userId": "14453870072283828271"
     },
     "user_tz": -330
    },
    "id": "6FOJZt-AYRbL",
    "outputId": "efeceeca-852a-4579-8f01-5369b0fe0e37",
    "papermill": {
     "duration": 0.042276,
     "end_time": "2020-12-26T04:32:54.653599",
     "exception": false,
     "start_time": "2020-12-26T04:32:54.611323",
     "status": "completed"
    },
    "tags": []
   },
   "outputs": [
    {
     "data": {
      "text/html": [
       "<div>\n",
       "<style scoped>\n",
       "    .dataframe tbody tr th:only-of-type {\n",
       "        vertical-align: middle;\n",
       "    }\n",
       "\n",
       "    .dataframe tbody tr th {\n",
       "        vertical-align: top;\n",
       "    }\n",
       "\n",
       "    .dataframe thead th {\n",
       "        text-align: right;\n",
       "    }\n",
       "</style>\n",
       "<table border=\"1\" class=\"dataframe\">\n",
       "  <thead>\n",
       "    <tr style=\"text-align: right;\">\n",
       "      <th></th>\n",
       "      <th>ball</th>\n",
       "      <th>wickets_so_far</th>\n",
       "      <th>balls_in_partnership</th>\n",
       "      <th>runs_so_far</th>\n",
       "      <th>run_rate_last_5_overs</th>\n",
       "      <th>balls_since_last_boundary</th>\n",
       "      <th>strike_rate</th>\n",
       "      <th>bowling_average</th>\n",
       "      <th>batting_average</th>\n",
       "      <th>bowling_strike_rate</th>\n",
       "      <th>required_run_rate</th>\n",
       "    </tr>\n",
       "  </thead>\n",
       "  <tbody>\n",
       "    <tr>\n",
       "      <th>231314</th>\n",
       "      <td>5.1</td>\n",
       "      <td>2</td>\n",
       "      <td>21</td>\n",
       "      <td>9</td>\n",
       "      <td>1.8</td>\n",
       "      <td>18</td>\n",
       "      <td>68.37</td>\n",
       "      <td>24.96</td>\n",
       "      <td>24.91</td>\n",
       "      <td>31.5</td>\n",
       "      <td>4.031180</td>\n",
       "    </tr>\n",
       "    <tr>\n",
       "      <th>231315</th>\n",
       "      <td>5.2</td>\n",
       "      <td>2</td>\n",
       "      <td>22</td>\n",
       "      <td>9</td>\n",
       "      <td>1.8</td>\n",
       "      <td>19</td>\n",
       "      <td>68.37</td>\n",
       "      <td>24.96</td>\n",
       "      <td>24.91</td>\n",
       "      <td>31.5</td>\n",
       "      <td>4.040179</td>\n",
       "    </tr>\n",
       "    <tr>\n",
       "      <th>231316</th>\n",
       "      <td>5.3</td>\n",
       "      <td>2</td>\n",
       "      <td>23</td>\n",
       "      <td>10</td>\n",
       "      <td>2.0</td>\n",
       "      <td>20</td>\n",
       "      <td>81.82</td>\n",
       "      <td>24.96</td>\n",
       "      <td>47.90</td>\n",
       "      <td>31.5</td>\n",
       "      <td>4.026846</td>\n",
       "    </tr>\n",
       "    <tr>\n",
       "      <th>231317</th>\n",
       "      <td>5.4</td>\n",
       "      <td>2</td>\n",
       "      <td>24</td>\n",
       "      <td>14</td>\n",
       "      <td>2.8</td>\n",
       "      <td>0</td>\n",
       "      <td>81.82</td>\n",
       "      <td>24.96</td>\n",
       "      <td>47.90</td>\n",
       "      <td>31.5</td>\n",
       "      <td>3.946188</td>\n",
       "    </tr>\n",
       "    <tr>\n",
       "      <th>231318</th>\n",
       "      <td>5.5</td>\n",
       "      <td>2</td>\n",
       "      <td>25</td>\n",
       "      <td>15</td>\n",
       "      <td>3.0</td>\n",
       "      <td>1</td>\n",
       "      <td>68.37</td>\n",
       "      <td>24.96</td>\n",
       "      <td>24.91</td>\n",
       "      <td>31.5</td>\n",
       "      <td>3.932584</td>\n",
       "    </tr>\n",
       "    <tr>\n",
       "      <th>...</th>\n",
       "      <td>...</td>\n",
       "      <td>...</td>\n",
       "      <td>...</td>\n",
       "      <td>...</td>\n",
       "      <td>...</td>\n",
       "      <td>...</td>\n",
       "      <td>...</td>\n",
       "      <td>...</td>\n",
       "      <td>...</td>\n",
       "      <td>...</td>\n",
       "      <td>...</td>\n",
       "    </tr>\n",
       "    <tr>\n",
       "      <th>328653</th>\n",
       "      <td>46.4</td>\n",
       "      <td>8</td>\n",
       "      <td>31</td>\n",
       "      <td>250</td>\n",
       "      <td>9.8</td>\n",
       "      <td>0</td>\n",
       "      <td>100.43</td>\n",
       "      <td>41.71</td>\n",
       "      <td>20.30</td>\n",
       "      <td>41.6</td>\n",
       "      <td>0.555556</td>\n",
       "    </tr>\n",
       "    <tr>\n",
       "      <th>328654</th>\n",
       "      <td>46.5</td>\n",
       "      <td>8</td>\n",
       "      <td>32</td>\n",
       "      <td>250</td>\n",
       "      <td>9.4</td>\n",
       "      <td>1</td>\n",
       "      <td>100.43</td>\n",
       "      <td>41.71</td>\n",
       "      <td>20.30</td>\n",
       "      <td>41.6</td>\n",
       "      <td>0.571429</td>\n",
       "    </tr>\n",
       "    <tr>\n",
       "      <th>328655</th>\n",
       "      <td>46.6</td>\n",
       "      <td>8</td>\n",
       "      <td>33</td>\n",
       "      <td>251</td>\n",
       "      <td>9.6</td>\n",
       "      <td>2</td>\n",
       "      <td>60.31</td>\n",
       "      <td>41.71</td>\n",
       "      <td>8.44</td>\n",
       "      <td>41.6</td>\n",
       "      <td>0.294118</td>\n",
       "    </tr>\n",
       "    <tr>\n",
       "      <th>328656</th>\n",
       "      <td>47.1</td>\n",
       "      <td>8</td>\n",
       "      <td>34</td>\n",
       "      <td>251</td>\n",
       "      <td>9.6</td>\n",
       "      <td>3</td>\n",
       "      <td>100.43</td>\n",
       "      <td>31.79</td>\n",
       "      <td>20.30</td>\n",
       "      <td>33.9</td>\n",
       "      <td>0.344828</td>\n",
       "    </tr>\n",
       "    <tr>\n",
       "      <th>328657</th>\n",
       "      <td>47.2</td>\n",
       "      <td>9</td>\n",
       "      <td>0</td>\n",
       "      <td>251</td>\n",
       "      <td>9.6</td>\n",
       "      <td>4</td>\n",
       "      <td>60.00</td>\n",
       "      <td>40.00</td>\n",
       "      <td>20.00</td>\n",
       "      <td>70.0</td>\n",
       "      <td>0.357143</td>\n",
       "    </tr>\n",
       "  </tbody>\n",
       "</table>\n",
       "<p>97344 rows × 11 columns</p>\n",
       "</div>"
      ],
      "text/plain": [
       "        ball  wickets_so_far  ...  bowling_strike_rate  required_run_rate\n",
       "231314   5.1               2  ...                 31.5           4.031180\n",
       "231315   5.2               2  ...                 31.5           4.040179\n",
       "231316   5.3               2  ...                 31.5           4.026846\n",
       "231317   5.4               2  ...                 31.5           3.946188\n",
       "231318   5.5               2  ...                 31.5           3.932584\n",
       "...      ...             ...  ...                  ...                ...\n",
       "328653  46.4               8  ...                 41.6           0.555556\n",
       "328654  46.5               8  ...                 41.6           0.571429\n",
       "328655  46.6               8  ...                 41.6           0.294118\n",
       "328656  47.1               8  ...                 33.9           0.344828\n",
       "328657  47.2               9  ...                 70.0           0.357143\n",
       "\n",
       "[97344 rows x 11 columns]"
      ]
     },
     "execution_count": 89,
     "metadata": {
      "tags": []
     },
     "output_type": "execute_result"
    }
   ],
   "source": [
    "X_test"
   ]
  },
  {
   "cell_type": "code",
   "execution_count": 90,
   "metadata": {
    "colab": {
     "base_uri": "https://localhost:8080/"
    },
    "execution": {
     "iopub.execute_input": "2020-12-26T04:32:54.686324Z",
     "iopub.status.busy": "2020-12-26T04:32:54.683555Z",
     "iopub.status.idle": "2020-12-26T04:32:54.689312Z",
     "shell.execute_reply": "2020-12-26T04:32:54.689797Z"
    },
    "executionInfo": {
     "elapsed": 8723,
     "status": "ok",
     "timestamp": 1611835879640,
     "user": {
      "displayName": "aniket somwanshi",
      "photoUrl": "",
      "userId": "14453870072283828271"
     },
     "user_tz": -330
    },
    "id": "q4HrAMJ8YRbR",
    "outputId": "c1241cd1-555d-402a-fd0c-809382bb7e5e",
    "papermill": {
     "duration": 0.022416,
     "end_time": "2020-12-26T04:32:54.689910",
     "exception": false,
     "start_time": "2020-12-26T04:32:54.667494",
     "status": "completed"
    },
    "tags": []
   },
   "outputs": [
    {
     "data": {
      "text/plain": [
       "array([0, 0, 0, ..., 1, 1, 1])"
      ]
     },
     "execution_count": 90,
     "metadata": {
      "tags": []
     },
     "output_type": "execute_result"
    }
   ],
   "source": [
    "y_train"
   ]
  },
  {
   "cell_type": "code",
   "execution_count": 91,
   "metadata": {
    "executionInfo": {
     "elapsed": 8697,
     "status": "ok",
     "timestamp": 1611835879641,
     "user": {
      "displayName": "aniket somwanshi",
      "photoUrl": "",
      "userId": "14453870072283828271"
     },
     "user_tz": -330
    },
    "id": "Hm9YNIZjyNpR"
   },
   "outputs": [],
   "source": [
    "from sklearn.metrics import classification_report\n",
    "from sklearn.metrics import confusion_matrix\n",
    "from sklearn.metrics import accuracy_score\n",
    "from sklearn.metrics import precision_score\n",
    "from sklearn.metrics import recall_score"
   ]
  },
  {
   "cell_type": "code",
   "execution_count": 92,
   "metadata": {
    "colab": {
     "base_uri": "https://localhost:8080/"
    },
    "executionInfo": {
     "elapsed": 8689,
     "status": "ok",
     "timestamp": 1611835879642,
     "user": {
      "displayName": "aniket somwanshi",
      "photoUrl": "",
      "userId": "14453870072283828271"
     },
     "user_tz": -330
    },
    "id": "4vTephVChVk0",
    "outputId": "18663680-7e70-47e7-9ccf-9db657ca2682"
   },
   "outputs": [
    {
     "data": {
      "text/plain": [
       "False"
      ]
     },
     "execution_count": 92,
     "metadata": {
      "tags": []
     },
     "output_type": "execute_result"
    }
   ],
   "source": [
    "np.any(np.isnan(df2)) #should be false ideally\n",
    "# np.isfinite(data.all()) #and gets True"
   ]
  },
  {
   "cell_type": "code",
   "execution_count": null,
   "metadata": {
    "colab": {
     "base_uri": "https://localhost:8080/"
    },
    "executionInfo": {
     "elapsed": 13158,
     "status": "ok",
     "timestamp": 1611835884122,
     "user": {
      "displayName": "aniket somwanshi",
      "photoUrl": "",
      "userId": "14453870072283828271"
     },
     "user_tz": -330
    },
    "id": "h-UDc3KdOwDf",
    "outputId": "26fe8cfb-22d3-4eb3-c3b5-88ca1b573975"
   },
   "outputs": [],
   "source": [
    "# rf_pred = rf.predict(X_test)\n",
    "b2_pred = (boundary_2.predict_proba(X_test)[:,1] >= 0.45).astype(bool) # set threshold "
   ]
  },
  {
   "cell_type": "markdown",
   "metadata": {
    "id": "RXpl03rRwiHs"
   },
   "source": [
    "## Innings 2 wicket prediction\n"
   ]
  },
  {
   "cell_type": "code",
   "execution_count": 94,
   "metadata": {
    "colab": {
     "base_uri": "https://localhost:8080/",
     "height": 224
    },
    "executionInfo": {
     "elapsed": 13134,
     "status": "ok",
     "timestamp": 1611835884123,
     "user": {
      "displayName": "aniket somwanshi",
      "photoUrl": "",
      "userId": "14453870072283828271"
     },
     "user_tz": -330
    },
    "id": "ma1EHd6vwhdU",
    "outputId": "cdb4c74a-7315-4f4f-cb6a-33dab902a2e4"
   },
   "outputs": [
    {
     "data": {
      "text/html": [
       "<div>\n",
       "<style scoped>\n",
       "    .dataframe tbody tr th:only-of-type {\n",
       "        vertical-align: middle;\n",
       "    }\n",
       "\n",
       "    .dataframe tbody tr th {\n",
       "        vertical-align: top;\n",
       "    }\n",
       "\n",
       "    .dataframe thead th {\n",
       "        text-align: right;\n",
       "    }\n",
       "</style>\n",
       "<table border=\"1\" class=\"dataframe\">\n",
       "  <thead>\n",
       "    <tr style=\"text-align: right;\">\n",
       "      <th></th>\n",
       "      <th>ball</th>\n",
       "      <th>wickets_so_far</th>\n",
       "      <th>balls_in_partnership</th>\n",
       "      <th>runs_so_far</th>\n",
       "      <th>run_rate_last_5_overs</th>\n",
       "      <th>balls_since_last_boundary</th>\n",
       "      <th>wicket_this_over</th>\n",
       "      <th>strike_rate</th>\n",
       "      <th>bowling_average</th>\n",
       "      <th>batting_average</th>\n",
       "      <th>bowling_strike_rate</th>\n",
       "      <th>required_run_rate</th>\n",
       "    </tr>\n",
       "  </thead>\n",
       "  <tbody>\n",
       "    <tr>\n",
       "      <th>0</th>\n",
       "      <td>0.1</td>\n",
       "      <td>0</td>\n",
       "      <td>0</td>\n",
       "      <td>0</td>\n",
       "      <td>0.0</td>\n",
       "      <td>0</td>\n",
       "      <td>0</td>\n",
       "      <td>74.45</td>\n",
       "      <td>20.99</td>\n",
       "      <td>36.90</td>\n",
       "      <td>25.0</td>\n",
       "      <td>5.130261</td>\n",
       "    </tr>\n",
       "    <tr>\n",
       "      <th>1</th>\n",
       "      <td>0.2</td>\n",
       "      <td>0</td>\n",
       "      <td>1</td>\n",
       "      <td>0</td>\n",
       "      <td>0.0</td>\n",
       "      <td>1</td>\n",
       "      <td>0</td>\n",
       "      <td>74.45</td>\n",
       "      <td>20.99</td>\n",
       "      <td>36.90</td>\n",
       "      <td>25.0</td>\n",
       "      <td>5.140562</td>\n",
       "    </tr>\n",
       "    <tr>\n",
       "      <th>2</th>\n",
       "      <td>0.3</td>\n",
       "      <td>0</td>\n",
       "      <td>2</td>\n",
       "      <td>0</td>\n",
       "      <td>0.0</td>\n",
       "      <td>2</td>\n",
       "      <td>0</td>\n",
       "      <td>74.45</td>\n",
       "      <td>20.99</td>\n",
       "      <td>36.90</td>\n",
       "      <td>25.0</td>\n",
       "      <td>5.150905</td>\n",
       "    </tr>\n",
       "    <tr>\n",
       "      <th>3</th>\n",
       "      <td>0.4</td>\n",
       "      <td>0</td>\n",
       "      <td>3</td>\n",
       "      <td>0</td>\n",
       "      <td>0.0</td>\n",
       "      <td>3</td>\n",
       "      <td>0</td>\n",
       "      <td>74.45</td>\n",
       "      <td>20.99</td>\n",
       "      <td>36.90</td>\n",
       "      <td>25.0</td>\n",
       "      <td>5.161290</td>\n",
       "    </tr>\n",
       "    <tr>\n",
       "      <th>4</th>\n",
       "      <td>0.5</td>\n",
       "      <td>0</td>\n",
       "      <td>4</td>\n",
       "      <td>1</td>\n",
       "      <td>2.0</td>\n",
       "      <td>4</td>\n",
       "      <td>0</td>\n",
       "      <td>113.40</td>\n",
       "      <td>20.99</td>\n",
       "      <td>32.48</td>\n",
       "      <td>25.0</td>\n",
       "      <td>5.151515</td>\n",
       "    </tr>\n",
       "  </tbody>\n",
       "</table>\n",
       "</div>"
      ],
      "text/plain": [
       "   ball  wickets_so_far  ...  bowling_strike_rate  required_run_rate\n",
       "0   0.1               0  ...                 25.0           5.130261\n",
       "1   0.2               0  ...                 25.0           5.140562\n",
       "2   0.3               0  ...                 25.0           5.150905\n",
       "3   0.4               0  ...                 25.0           5.161290\n",
       "4   0.5               0  ...                 25.0           5.151515\n",
       "\n",
       "[5 rows x 12 columns]"
      ]
     },
     "execution_count": 94,
     "metadata": {
      "tags": []
     },
     "output_type": "execute_result"
    }
   ],
   "source": [
    "df2w = df2.copy()\n",
    "df2w.drop(['inning','boundary_this_over','big_moment'], axis = 1, inplace = True) \n",
    "df2w.head()"
   ]
  },
  {
   "cell_type": "code",
   "execution_count": 96,
   "metadata": {
    "executionInfo": {
     "elapsed": 13124,
     "status": "ok",
     "timestamp": 1611835884125,
     "user": {
      "displayName": "aniket somwanshi",
      "photoUrl": "",
      "userId": "14453870072283828271"
     },
     "user_tz": -330
    },
    "id": "cQ48LEjc18z_"
   },
   "outputs": [],
   "source": [
    "from imblearn.over_sampling import SMOTE\n",
    "def preprocess_inputs_w(data):\n",
    "  num_of_rows = 231314\n",
    "  \n",
    "  y = data['wicket_this_over'].copy()\n",
    "  x = data.drop('wicket_this_over', axis=1).copy()\n",
    "  \n",
    "  y_train = y.iloc[:num_of_rows] #indexes rows for test data\n",
    "  X_train = x.iloc[:num_of_rows] #indexes rows for training data\n",
    "\n",
    "  X_test = x.iloc[num_of_rows:] #indexes rows for training data\n",
    "  y_test = y.iloc[num_of_rows:] #indexes rows for test data\n",
    "\n",
    "\n",
    "\n",
    "  # perform oversampling for minority class\n",
    "  \n",
    "  smote = SMOTE(sampling_strategy=0.5)\n",
    "  X_train, y_train = smote.fit_sample(X_train, y_train)\n",
    "\n",
    "\n",
    "  return X_train, X_test, y_train, y_test"
   ]
  },
  {
   "cell_type": "code",
   "execution_count": 97,
   "metadata": {
    "colab": {
     "base_uri": "https://localhost:8080/"
    },
    "executionInfo": {
     "elapsed": 14697,
     "status": "ok",
     "timestamp": 1611835885708,
     "user": {
      "displayName": "aniket somwanshi",
      "photoUrl": "",
      "userId": "14453870072283828271"
     },
     "user_tz": -330
    },
    "id": "qdBfpvCmxKpF",
    "outputId": "a432962a-e39b-4aac-e113-a05ffb370ab3"
   },
   "outputs": [
    {
     "name": "stderr",
     "output_type": "stream",
     "text": [
      "/usr/local/lib/python3.6/dist-packages/sklearn/utils/deprecation.py:87: FutureWarning: Function safe_indexing is deprecated; safe_indexing is deprecated in version 0.22 and will be removed in version 0.24.\n",
      "  warnings.warn(msg, category=FutureWarning)\n"
     ]
    }
   ],
   "source": [
    "X_train, X_test, y_train, y_test = preprocess_inputs_w(df2w)"
   ]
  },
  {
   "cell_type": "code",
   "execution_count": null,
   "metadata": {
    "colab": {
     "base_uri": "https://localhost:8080/"
    },
    "executionInfo": {
     "elapsed": 19779,
     "status": "ok",
     "timestamp": 1611835890800,
     "user": {
      "displayName": "aniket somwanshi",
      "photoUrl": "",
      "userId": "14453870072283828271"
     },
     "user_tz": -330
    },
    "id": "kndP20p1xPib",
    "outputId": "6e468c09-ecb4-4597-96be-4a45858226f0"
   },
   "outputs": [],
   "source": [
    "w2_pred = (wicket_2.predict_proba(X_test)[:,1] >= 0.45).astype(bool) # set threshold "
   ]
  },
  {
   "cell_type": "markdown",
   "metadata": {},
   "source": [
    "## Create merged y-test set "
   ]
  },
  {
   "cell_type": "code",
   "execution_count": 99,
   "metadata": {
    "executionInfo": {
     "elapsed": 19773,
     "status": "ok",
     "timestamp": 1611835890802,
     "user": {
      "displayName": "aniket somwanshi",
      "photoUrl": "",
      "userId": "14453870072283828271"
     },
     "user_tz": -330
    },
    "id": "D3j_yzM8xgRa"
   },
   "outputs": [],
   "source": [
    "# create merged y_test\n",
    "# y_test_2\n",
    "df2= df2.iloc[231314:]\n",
    "df2 = df2.loc[:,'big_moment']\n",
    "y_test_2 = df2.values"
   ]
  },
  {
   "cell_type": "code",
   "execution_count": 100,
   "metadata": {
    "executionInfo": {
     "elapsed": 19769,
     "status": "ok",
     "timestamp": 1611835890803,
     "user": {
      "displayName": "aniket somwanshi",
      "photoUrl": "",
      "userId": "14453870072283828271"
     },
     "user_tz": -330
    },
    "id": "4OUS7L9D1TNC"
   },
   "outputs": [],
   "source": [
    "# create merged y_pred\n",
    "y_pred_2 = np.logical_or(w2_pred, b2_pred).astype(int)"
   ]
  },
  {
   "cell_type": "code",
   "execution_count": 101,
   "metadata": {
    "colab": {
     "base_uri": "https://localhost:8080/"
    },
    "executionInfo": {
     "elapsed": 19761,
     "status": "ok",
     "timestamp": 1611835890803,
     "user": {
      "displayName": "aniket somwanshi",
      "photoUrl": "",
      "userId": "14453870072283828271"
     },
     "user_tz": -330
    },
    "id": "GTC_Ktgb6cn9",
    "outputId": "6b59a5ce-0dc0-411c-abb1-bbd2f4f1b968"
   },
   "outputs": [
    {
     "name": "stdout",
     "output_type": "stream",
     "text": [
      "[0 0 0 0 0 0 0 0 0 0 0 0 0 0 0 0 0 0 0 0 0 0 0 0 0 0 0 0 0 0 0 0 0 0 0 0 0\n",
      " 0 0 0 0 0 0 0 0 0 0 0 0 0 0 0 0 0 0 0 0 1 1 1 1 1 1 1 0 0 0 0 0 0 0 0 0 0\n",
      " 0 0 0 0 0 0]\n",
      "[False False False False False False False False False False False False\n",
      " False False False False False False False False False False False False\n",
      " False False False False False False False False False False False False\n",
      " False False False False False False False False False False False False\n",
      " False False False False False False False False False False False False\n",
      " False False False False False False False False False False False False\n",
      " False False False False False False False False]\n",
      "[False False False False False False False False False False False False\n",
      " False False False False False False False False False False False False\n",
      " False False False False False False False False False False False False\n",
      " False False False False False False False False False False False False\n",
      " False False False False False False False False False  True  True  True\n",
      "  True  True  True  True False False False False False False False False\n",
      " False False False False False False False False]\n",
      "[0 0 0 0 0 0 0 0 0 0 0 0 1 0 0 0 0 0 0 0 0 0 0 0 0 0 0 0 0 0 0 0 0 1 1 0 0\n",
      " 0 0 0 0 0 0 0 0 0 0 0 0 0 0 0 0 0 0 0 0 1 1 1 1 1 1 1 0 0 0 0 0 0 0 0 0 0\n",
      " 0 0 1 0 0 0]\n"
     ]
    }
   ],
   "source": [
    "print(y_pred_2[:80])\n",
    "print(w2_pred[:80])\n",
    "print(b2_pred[:80])\n",
    "print(y_test_2[:80])"
   ]
  },
  {
   "cell_type": "code",
   "execution_count": 102,
   "metadata": {
    "colab": {
     "base_uri": "https://localhost:8080/"
    },
    "executionInfo": {
     "elapsed": 19755,
     "status": "ok",
     "timestamp": 1611835890804,
     "user": {
      "displayName": "aniket somwanshi",
      "photoUrl": "",
      "userId": "14453870072283828271"
     },
     "user_tz": -330
    },
    "id": "AnBu5cMS8xoO",
    "outputId": "c9354de5-4434-4adf-8b06-43c793e06b22"
   },
   "outputs": [
    {
     "data": {
      "text/plain": [
       "1"
      ]
     },
     "execution_count": 102,
     "metadata": {
      "tags": []
     },
     "output_type": "execute_result"
    }
   ],
   "source": [
    "y_pred_2[60]"
   ]
  },
  {
   "cell_type": "code",
   "execution_count": 103,
   "metadata": {
    "colab": {
     "base_uri": "https://localhost:8080/"
    },
    "executionInfo": {
     "elapsed": 19747,
     "status": "ok",
     "timestamp": 1611835890805,
     "user": {
      "displayName": "aniket somwanshi",
      "photoUrl": "",
      "userId": "14453870072283828271"
     },
     "user_tz": -330
    },
    "id": "N94jAQrc85gA",
    "outputId": "c80bd8aa-ef2e-498f-a726-b377a09d0d84"
   },
   "outputs": [
    {
     "data": {
      "text/plain": [
       "False"
      ]
     },
     "execution_count": 103,
     "metadata": {
      "tags": []
     },
     "output_type": "execute_result"
    }
   ],
   "source": [
    "w2_pred[60]"
   ]
  },
  {
   "cell_type": "code",
   "execution_count": 104,
   "metadata": {
    "colab": {
     "base_uri": "https://localhost:8080/"
    },
    "executionInfo": {
     "elapsed": 19741,
     "status": "ok",
     "timestamp": 1611835890806,
     "user": {
      "displayName": "aniket somwanshi",
      "photoUrl": "",
      "userId": "14453870072283828271"
     },
     "user_tz": -330
    },
    "id": "eCd0sZba89GH",
    "outputId": "38dc6ba7-1a79-48cc-fb04-533e13625d6b"
   },
   "outputs": [
    {
     "data": {
      "text/plain": [
       "True"
      ]
     },
     "execution_count": 104,
     "metadata": {
      "tags": []
     },
     "output_type": "execute_result"
    }
   ],
   "source": [
    "b2_pred[60]"
   ]
  },
  {
   "cell_type": "markdown",
   "metadata": {},
   "source": [
    "## Final report for 2nd innings"
   ]
  },
  {
   "cell_type": "code",
   "execution_count": 105,
   "metadata": {
    "colab": {
     "base_uri": "https://localhost:8080/"
    },
    "executionInfo": {
     "elapsed": 19734,
     "status": "ok",
     "timestamp": 1611835890807,
     "user": {
      "displayName": "aniket somwanshi",
      "photoUrl": "",
      "userId": "14453870072283828271"
     },
     "user_tz": -330
    },
    "id": "R4-A4vd61eTa",
    "outputId": "9672fe3c-e52c-4197-8f44-ae3a4c663da5"
   },
   "outputs": [
    {
     "name": "stdout",
     "output_type": "stream",
     "text": [
      "              precision    recall  f1-score   support\n",
      "\n",
      "           0       0.97      1.00      0.99     81347\n",
      "           1       0.99      0.86      0.92     15997\n",
      "\n",
      "    accuracy                           0.98     97344\n",
      "   macro avg       0.98      0.93      0.95     97344\n",
      "weighted avg       0.98      0.98      0.97     97344\n",
      "\n"
     ]
    }
   ],
   "source": [
    "# TEST\n",
    "print(classification_report(y_test_2, y_pred_2))"
   ]
  },
  {
   "cell_type": "markdown",
   "metadata": {
    "id": "PXW5mWZXLY5C"
   },
   "source": [
    "## Innings 1 boundary prediction\n"
   ]
  },
  {
   "cell_type": "code",
   "execution_count": 106,
   "metadata": {
    "executionInfo": {
     "elapsed": 19728,
     "status": "ok",
     "timestamp": 1611835890809,
     "user": {
      "displayName": "aniket somwanshi",
      "photoUrl": "",
      "userId": "14453870072283828271"
     },
     "user_tz": -330
    },
    "id": "QpNBbwbCLdG8"
   },
   "outputs": [],
   "source": [
    "df1b = df1.copy()"
   ]
  },
  {
   "cell_type": "code",
   "execution_count": 107,
   "metadata": {
    "colab": {
     "base_uri": "https://localhost:8080/",
     "height": 224
    },
    "executionInfo": {
     "elapsed": 19720,
     "status": "ok",
     "timestamp": 1611835890811,
     "user": {
      "displayName": "aniket somwanshi",
      "photoUrl": "",
      "userId": "14453870072283828271"
     },
     "user_tz": -330
    },
    "id": "cjNd56CwLkBT",
    "outputId": "e4c37955-ed89-4b98-92f0-13599c56fd51"
   },
   "outputs": [
    {
     "data": {
      "text/html": [
       "<div>\n",
       "<style scoped>\n",
       "    .dataframe tbody tr th:only-of-type {\n",
       "        vertical-align: middle;\n",
       "    }\n",
       "\n",
       "    .dataframe tbody tr th {\n",
       "        vertical-align: top;\n",
       "    }\n",
       "\n",
       "    .dataframe thead th {\n",
       "        text-align: right;\n",
       "    }\n",
       "</style>\n",
       "<table border=\"1\" class=\"dataframe\">\n",
       "  <thead>\n",
       "    <tr style=\"text-align: right;\">\n",
       "      <th></th>\n",
       "      <th>ball</th>\n",
       "      <th>wickets_so_far</th>\n",
       "      <th>balls_in_partnership</th>\n",
       "      <th>runs_so_far</th>\n",
       "      <th>run_rate_last_5_overs</th>\n",
       "      <th>balls_since_last_boundary</th>\n",
       "      <th>boundary_this_over</th>\n",
       "      <th>strike_rate</th>\n",
       "      <th>bowling_average</th>\n",
       "      <th>batting_average</th>\n",
       "      <th>bowling_strike_rate</th>\n",
       "    </tr>\n",
       "  </thead>\n",
       "  <tbody>\n",
       "    <tr>\n",
       "      <th>0</th>\n",
       "      <td>0.1</td>\n",
       "      <td>0</td>\n",
       "      <td>0</td>\n",
       "      <td>0</td>\n",
       "      <td>0.0</td>\n",
       "      <td>0</td>\n",
       "      <td>0</td>\n",
       "      <td>95.94</td>\n",
       "      <td>29.62</td>\n",
       "      <td>45.77</td>\n",
       "      <td>37.1</td>\n",
       "    </tr>\n",
       "    <tr>\n",
       "      <th>1</th>\n",
       "      <td>0.2</td>\n",
       "      <td>0</td>\n",
       "      <td>1</td>\n",
       "      <td>0</td>\n",
       "      <td>0.0</td>\n",
       "      <td>1</td>\n",
       "      <td>0</td>\n",
       "      <td>95.94</td>\n",
       "      <td>29.62</td>\n",
       "      <td>45.77</td>\n",
       "      <td>37.1</td>\n",
       "    </tr>\n",
       "    <tr>\n",
       "      <th>2</th>\n",
       "      <td>0.3</td>\n",
       "      <td>0</td>\n",
       "      <td>2</td>\n",
       "      <td>0</td>\n",
       "      <td>0.0</td>\n",
       "      <td>2</td>\n",
       "      <td>0</td>\n",
       "      <td>95.94</td>\n",
       "      <td>29.62</td>\n",
       "      <td>45.77</td>\n",
       "      <td>37.1</td>\n",
       "    </tr>\n",
       "    <tr>\n",
       "      <th>3</th>\n",
       "      <td>0.4</td>\n",
       "      <td>0</td>\n",
       "      <td>3</td>\n",
       "      <td>0</td>\n",
       "      <td>0.0</td>\n",
       "      <td>3</td>\n",
       "      <td>0</td>\n",
       "      <td>95.94</td>\n",
       "      <td>29.62</td>\n",
       "      <td>45.77</td>\n",
       "      <td>37.1</td>\n",
       "    </tr>\n",
       "    <tr>\n",
       "      <th>4</th>\n",
       "      <td>0.5</td>\n",
       "      <td>0</td>\n",
       "      <td>4</td>\n",
       "      <td>0</td>\n",
       "      <td>0.0</td>\n",
       "      <td>4</td>\n",
       "      <td>0</td>\n",
       "      <td>95.94</td>\n",
       "      <td>29.62</td>\n",
       "      <td>45.77</td>\n",
       "      <td>37.1</td>\n",
       "    </tr>\n",
       "  </tbody>\n",
       "</table>\n",
       "</div>"
      ],
      "text/plain": [
       "   ball  wickets_so_far  ...  batting_average  bowling_strike_rate\n",
       "0   0.1               0  ...            45.77                 37.1\n",
       "1   0.2               0  ...            45.77                 37.1\n",
       "2   0.3               0  ...            45.77                 37.1\n",
       "3   0.4               0  ...            45.77                 37.1\n",
       "4   0.5               0  ...            45.77                 37.1\n",
       "\n",
       "[5 rows x 11 columns]"
      ]
     },
     "execution_count": 107,
     "metadata": {
      "tags": []
     },
     "output_type": "execute_result"
    }
   ],
   "source": [
    "df1b.drop(['inning','required_run_rate', 'wicket_this_over','big_moment'], axis = 1, inplace = True) \n",
    "df1b.head()"
   ]
  },
  {
   "cell_type": "code",
   "execution_count": 108,
   "metadata": {
    "colab": {
     "base_uri": "https://localhost:8080/"
    },
    "executionInfo": {
     "elapsed": 20222,
     "status": "ok",
     "timestamp": 1611835891323,
     "user": {
      "displayName": "aniket somwanshi",
      "photoUrl": "",
      "userId": "14453870072283828271"
     },
     "user_tz": -330
    },
    "id": "AQ33J1M62dbJ",
    "outputId": "60ac3f6d-779a-47ba-f0a3-42332b50fd5b"
   },
   "outputs": [
    {
     "name": "stderr",
     "output_type": "stream",
     "text": [
      "/usr/local/lib/python3.6/dist-packages/sklearn/utils/deprecation.py:87: FutureWarning: Function safe_indexing is deprecated; safe_indexing is deprecated in version 0.22 and will be removed in version 0.24.\n",
      "  warnings.warn(msg, category=FutureWarning)\n"
     ]
    }
   ],
   "source": [
    "X_train, X_test, y_train, y_test = preprocess_inputs_b(df1b)"
   ]
  },
  {
   "cell_type": "code",
   "execution_count": null,
   "metadata": {
    "colab": {
     "base_uri": "https://localhost:8080/"
    },
    "executionInfo": {
     "elapsed": 27276,
     "status": "ok",
     "timestamp": 1611835898385,
     "user": {
      "displayName": "aniket somwanshi",
      "photoUrl": "",
      "userId": "14453870072283828271"
     },
     "user_tz": -330
    },
    "id": "OzWVwjZk2rmN",
    "outputId": "08d96f5a-58cb-441f-88db-55d7e93eaf07"
   },
   "outputs": [],
   "source": [
    "# rf_pred = rf.predict(X_test)\n",
    "b1_pred = (boundary_1.predict_proba(X_test)[:,1] >= 0.5).astype(bool) # set threshold "
   ]
  },
  {
   "cell_type": "code",
   "execution_count": 110,
   "metadata": {
    "colab": {
     "base_uri": "https://localhost:8080/",
     "height": 224
    },
    "executionInfo": {
     "elapsed": 27272,
     "status": "ok",
     "timestamp": 1611835898388,
     "user": {
      "displayName": "aniket somwanshi",
      "photoUrl": "",
      "userId": "14453870072283828271"
     },
     "user_tz": -330
    },
    "id": "OBMrY-7f3XnD",
    "outputId": "26e65237-8f6b-46c2-fca0-14b387d2c7bb"
   },
   "outputs": [
    {
     "data": {
      "text/html": [
       "<div>\n",
       "<style scoped>\n",
       "    .dataframe tbody tr th:only-of-type {\n",
       "        vertical-align: middle;\n",
       "    }\n",
       "\n",
       "    .dataframe tbody tr th {\n",
       "        vertical-align: top;\n",
       "    }\n",
       "\n",
       "    .dataframe thead th {\n",
       "        text-align: right;\n",
       "    }\n",
       "</style>\n",
       "<table border=\"1\" class=\"dataframe\">\n",
       "  <thead>\n",
       "    <tr style=\"text-align: right;\">\n",
       "      <th></th>\n",
       "      <th>ball</th>\n",
       "      <th>wickets_so_far</th>\n",
       "      <th>balls_in_partnership</th>\n",
       "      <th>runs_so_far</th>\n",
       "      <th>run_rate_last_5_overs</th>\n",
       "      <th>balls_since_last_boundary</th>\n",
       "      <th>wicket_this_over</th>\n",
       "      <th>strike_rate</th>\n",
       "      <th>bowling_average</th>\n",
       "      <th>batting_average</th>\n",
       "      <th>bowling_strike_rate</th>\n",
       "    </tr>\n",
       "  </thead>\n",
       "  <tbody>\n",
       "    <tr>\n",
       "      <th>0</th>\n",
       "      <td>0.1</td>\n",
       "      <td>0</td>\n",
       "      <td>0</td>\n",
       "      <td>0</td>\n",
       "      <td>0.0</td>\n",
       "      <td>0</td>\n",
       "      <td>0</td>\n",
       "      <td>95.94</td>\n",
       "      <td>29.62</td>\n",
       "      <td>45.77</td>\n",
       "      <td>37.1</td>\n",
       "    </tr>\n",
       "    <tr>\n",
       "      <th>1</th>\n",
       "      <td>0.2</td>\n",
       "      <td>0</td>\n",
       "      <td>1</td>\n",
       "      <td>0</td>\n",
       "      <td>0.0</td>\n",
       "      <td>1</td>\n",
       "      <td>0</td>\n",
       "      <td>95.94</td>\n",
       "      <td>29.62</td>\n",
       "      <td>45.77</td>\n",
       "      <td>37.1</td>\n",
       "    </tr>\n",
       "    <tr>\n",
       "      <th>2</th>\n",
       "      <td>0.3</td>\n",
       "      <td>0</td>\n",
       "      <td>2</td>\n",
       "      <td>0</td>\n",
       "      <td>0.0</td>\n",
       "      <td>2</td>\n",
       "      <td>0</td>\n",
       "      <td>95.94</td>\n",
       "      <td>29.62</td>\n",
       "      <td>45.77</td>\n",
       "      <td>37.1</td>\n",
       "    </tr>\n",
       "    <tr>\n",
       "      <th>3</th>\n",
       "      <td>0.4</td>\n",
       "      <td>0</td>\n",
       "      <td>3</td>\n",
       "      <td>0</td>\n",
       "      <td>0.0</td>\n",
       "      <td>3</td>\n",
       "      <td>0</td>\n",
       "      <td>95.94</td>\n",
       "      <td>29.62</td>\n",
       "      <td>45.77</td>\n",
       "      <td>37.1</td>\n",
       "    </tr>\n",
       "    <tr>\n",
       "      <th>4</th>\n",
       "      <td>0.5</td>\n",
       "      <td>0</td>\n",
       "      <td>4</td>\n",
       "      <td>0</td>\n",
       "      <td>0.0</td>\n",
       "      <td>4</td>\n",
       "      <td>0</td>\n",
       "      <td>95.94</td>\n",
       "      <td>29.62</td>\n",
       "      <td>45.77</td>\n",
       "      <td>37.1</td>\n",
       "    </tr>\n",
       "  </tbody>\n",
       "</table>\n",
       "</div>"
      ],
      "text/plain": [
       "   ball  wickets_so_far  ...  batting_average  bowling_strike_rate\n",
       "0   0.1               0  ...            45.77                 37.1\n",
       "1   0.2               0  ...            45.77                 37.1\n",
       "2   0.3               0  ...            45.77                 37.1\n",
       "3   0.4               0  ...            45.77                 37.1\n",
       "4   0.5               0  ...            45.77                 37.1\n",
       "\n",
       "[5 rows x 11 columns]"
      ]
     },
     "execution_count": 110,
     "metadata": {
      "tags": []
     },
     "output_type": "execute_result"
    }
   ],
   "source": [
    "df1w = df1.copy()\n",
    "df1w.drop(['inning','required_run_rate','boundary_this_over','big_moment'], axis = 1, inplace = True) \n",
    "df1w.head()"
   ]
  },
  {
   "cell_type": "code",
   "execution_count": 111,
   "metadata": {
    "colab": {
     "base_uri": "https://localhost:8080/"
    },
    "executionInfo": {
     "elapsed": 28535,
     "status": "ok",
     "timestamp": 1611835899664,
     "user": {
      "displayName": "aniket somwanshi",
      "photoUrl": "",
      "userId": "14453870072283828271"
     },
     "user_tz": -330
    },
    "id": "m8odnO4i3g0v",
    "outputId": "ff0367cb-4ab2-4810-b3f6-73a3a6ea90af"
   },
   "outputs": [
    {
     "name": "stderr",
     "output_type": "stream",
     "text": [
      "/usr/local/lib/python3.6/dist-packages/sklearn/utils/deprecation.py:87: FutureWarning: Function safe_indexing is deprecated; safe_indexing is deprecated in version 0.22 and will be removed in version 0.24.\n",
      "  warnings.warn(msg, category=FutureWarning)\n"
     ]
    }
   ],
   "source": [
    "X_train, X_test, y_train, y_test = preprocess_inputs_w(df1w)"
   ]
  },
  {
   "cell_type": "code",
   "execution_count": null,
   "metadata": {
    "colab": {
     "base_uri": "https://localhost:8080/"
    },
    "executionInfo": {
     "elapsed": 36176,
     "status": "ok",
     "timestamp": 1611835907312,
     "user": {
      "displayName": "aniket somwanshi",
      "photoUrl": "",
      "userId": "14453870072283828271"
     },
     "user_tz": -330
    },
    "id": "zGaq0WTF3kE7",
    "outputId": "a45ab977-271d-4664-f909-7345bf88ec18"
   },
   "outputs": [],
   "source": [
    "w1_pred = (wicket_1.predict_proba(X_test)[:,1] >= 0.45).astype(bool) # set threshold "
   ]
  },
  {
   "cell_type": "markdown",
   "metadata": {},
   "source": [
    "## Create merged y-test set"
   ]
  },
  {
   "cell_type": "code",
   "execution_count": 113,
   "metadata": {
    "executionInfo": {
     "elapsed": 36170,
     "status": "ok",
     "timestamp": 1611835907314,
     "user": {
      "displayName": "aniket somwanshi",
      "photoUrl": "",
      "userId": "14453870072283828271"
     },
     "user_tz": -330
    },
    "id": "lBmpNzA03yg0"
   },
   "outputs": [],
   "source": [
    "# create merged y_test\n",
    "# y_test_2\n",
    "df1= df1.iloc[231314:]\n",
    "df1 = df1.loc[:,'big_moment']\n",
    "y_test_1 = df1.values"
   ]
  },
  {
   "cell_type": "code",
   "execution_count": 114,
   "metadata": {
    "executionInfo": {
     "elapsed": 36166,
     "status": "ok",
     "timestamp": 1611835907315,
     "user": {
      "displayName": "aniket somwanshi",
      "photoUrl": "",
      "userId": "14453870072283828271"
     },
     "user_tz": -330
    },
    "id": "7S90a6VF34Qn"
   },
   "outputs": [],
   "source": [
    "# create merged y_pred\n",
    "y_pred_1 = np.logical_or(w1_pred, b1_pred).astype(int)"
   ]
  },
  {
   "cell_type": "markdown",
   "metadata": {},
   "source": [
    "## Final report for 1st innings"
   ]
  },
  {
   "cell_type": "code",
   "execution_count": 115,
   "metadata": {
    "colab": {
     "base_uri": "https://localhost:8080/"
    },
    "executionInfo": {
     "elapsed": 36160,
     "status": "ok",
     "timestamp": 1611835907315,
     "user": {
      "displayName": "aniket somwanshi",
      "photoUrl": "",
      "userId": "14453870072283828271"
     },
     "user_tz": -330
    },
    "id": "HiXrqb9Y39Gh",
    "outputId": "fa2416ff-0674-411a-e25a-76a218d72b24"
   },
   "outputs": [
    {
     "name": "stdout",
     "output_type": "stream",
     "text": [
      "              precision    recall  f1-score   support\n",
      "\n",
      "           0       0.96      1.00      0.98    129948\n",
      "           1       0.97      0.79      0.87     24794\n",
      "\n",
      "    accuracy                           0.96    154742\n",
      "   macro avg       0.97      0.89      0.92    154742\n",
      "weighted avg       0.96      0.96      0.96    154742\n",
      "\n"
     ]
    }
   ],
   "source": [
    "# TEST\n",
    "print(classification_report(y_test_1, y_pred_1))"
   ]
  }
 ],
 "metadata": {
  "accelerator": "GPU",
  "colab": {
   "collapsed_sections": [],
   "name": "predict_big_moments_test.ipynb",
   "provenance": [],
   "toc_visible": true
  },
  "kernelspec": {
   "display_name": "Python 3",
   "language": "python",
   "name": "python3"
  },
  "language_info": {
   "codemirror_mode": {
    "name": "ipython",
    "version": 3
   },
   "file_extension": ".py",
   "mimetype": "text/x-python",
   "name": "python",
   "nbconvert_exporter": "python",
   "pygments_lexer": "ipython3",
   "version": "3.8.5"
  },
  "papermill": {
   "duration": 18.677598,
   "end_time": "2020-12-26T04:33:06.638327",
   "environment_variables": {},
   "exception": null,
   "input_path": "__notebook__.ipynb",
   "output_path": "__notebook__.ipynb",
   "parameters": {},
   "start_time": "2020-12-26T04:32:47.960729",
   "version": "2.1.0"
  }
 },
 "nbformat": 4,
 "nbformat_minor": 1
}
